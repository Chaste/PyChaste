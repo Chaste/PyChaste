{
 "metadata": {
  "name": "",
  "signature": "sha256:a047828e9abfd3b7681bfd2c10d3fd965742e1515702e85ba269379b036d511b"
 },
 "nbformat": 3,
 "nbformat_minor": 0,
 "worksheets": [
  {
   "cells": [
    {
     "cell_type": "markdown",
     "metadata": {},
     "source": [
      "This tutorial is automatically generated from the file test/python/cell_based/tutorials/TestPottsBasedCellSimulationsPythonTutorial.py.\n",
      "\n"
     ]
    },
    {
     "cell_type": "code",
     "collapsed": false,
     "input": [
      "# Jupyter notebook specific imports \n",
      "import matplotlib as mpl \n",
      "from IPython import display \n",
      "%matplotlib inline"
     ],
     "language": "python",
     "metadata": {},
     "outputs": [],
     "prompt_number": 1
    },
    {
     "cell_type": "markdown",
     "metadata": {},
     "source": [
      "\n",
      "# Introduction\n",
      "In this tutorial we show how Chaste can be used to create, run and visualize Potts-based simulations.\n",
      "Full details of the mathematical model can be found in Graner, F. and Glazier, J. A. (1992).\n",
      "\n",
      "## The Test\n",
      "\n"
     ]
    },
    {
     "cell_type": "code",
     "collapsed": false,
     "input": [
      "import matplotlib.pyplot as plt # Plotting\n",
      "import numpy as np # Matrix tools\n",
      "import chaste # The PyChaste module\n",
      "chaste.init() # Set up MPI\n",
      "import chaste.cell_based # Contains cell populations\n",
      "import chaste.mesh # Contains meshes\n",
      "import chaste.visualization # Visualization tools"
     ],
     "language": "python",
     "metadata": {},
     "outputs": [],
     "prompt_number": 2
    },
    {
     "cell_type": "markdown",
     "metadata": {},
     "source": [
      "## Test 1 - A basic node-based simulation\n",
      "In the first test, we run a simple Potts-based simulation, in which we create a monolayer of cells, using a Potts mesh.\n",
      "Each cell is assigned a stochastic cell-cycle model.\n",
      "\n"
     ]
    },
    {
     "cell_type": "code",
     "collapsed": false,
     "input": [
      "# Set up the test \n",
      "chaste.cell_based.SetupNotebookTest()"
     ],
     "language": "python",
     "metadata": {},
     "outputs": [],
     "prompt_number": 3
    },
    {
     "cell_type": "markdown",
     "metadata": {},
     "source": [
      "First, we generate a Potts mesh. To create a PottsMesh, we can use the PottsMeshGenerator.\n",
      "This generates a regular square-shaped mesh, in which all elements are the same size.\n",
      "Here the first three arguments specify the domain width; the number of elements across; and the width of elements.\n",
      "The second set of three arguments specify the domain height; the number of elements up; and the height of individual elements.\n",
      "We have chosen a 2 by 2 block of elements, each consisting of 4 by 4 ( = 16) lattice sites.\n",
      "\n"
     ]
    },
    {
     "cell_type": "code",
     "collapsed": false,
     "input": [
      "file_handler = chaste.core.OutputFileHandler(\"Python/TestPottsBasedCellSimulationsTutorial\")\n",
      "generator = chaste.mesh.PottsMeshGenerator2(50, 2, 4, 50, 2, 4)\n",
      "mesh = generator.GetMesh()"
     ],
     "language": "python",
     "metadata": {},
     "outputs": [],
     "prompt_number": 4
    },
    {
     "cell_type": "markdown",
     "metadata": {},
     "source": [
      "Having created a mesh, we now create a vector of CellPtrs. To do this, we the CellsGenerator helper class,\n",
      "which is templated over the type of cell model required and the dimension.\n",
      "We create an empty vector of cells and pass this into the method along with the mesh.\n",
      "The second argument represents the size of that the vector cells should become - one cell for each element.\n",
      "Third argument makes all cells proliferate.\n",
      "\n"
     ]
    },
    {
     "cell_type": "code",
     "collapsed": false,
     "input": [
      "cells = chaste.cell_based.VecCellPtr()\n",
      "cell_generator = chaste.cell_based.CellsGeneratorUniformCellCycleModel_2()\n",
      "cell_generator.GenerateBasic(cells, mesh.GetNumElements())"
     ],
     "language": "python",
     "metadata": {},
     "outputs": [],
     "prompt_number": 5
    },
    {
     "cell_type": "markdown",
     "metadata": {},
     "source": [
      "Now we have a mesh and a set of cells to go with it, we can create a CellPopulation.\n",
      "In general, this class associates a collection of cells with a mesh. For this test, because we have a PottsMesh,\n",
      "we use a particular type of cell population called a PottsBasedCellPopulation.\n",
      "\n"
     ]
    },
    {
     "cell_type": "code",
     "collapsed": false,
     "input": [
      "cell_population = chaste.cell_based.PottsBasedCellPopulation2(mesh, cells)"
     ],
     "language": "python",
     "metadata": {},
     "outputs": [],
     "prompt_number": 6
    },
    {
     "cell_type": "markdown",
     "metadata": {},
     "source": [
      "We can set the \"Temperature\" to be used in the Potts Simulation using the optional command below. The default value is 0.1.\n",
      "\n"
     ]
    },
    {
     "cell_type": "code",
     "collapsed": false,
     "input": [
      "cell_population.SetTemperature(0.1)"
     ],
     "language": "python",
     "metadata": {},
     "outputs": [],
     "prompt_number": 7
    },
    {
     "cell_type": "markdown",
     "metadata": {},
     "source": [
      "By default the Potts simulation will make 1 sweep over the whole domain per timestep.\n",
      "To use a different number of sweeps per timestep use the command.\n",
      "\n"
     ]
    },
    {
     "cell_type": "code",
     "collapsed": false,
     "input": [
      "cell_population.SetNumSweepsPerTimestep(1)"
     ],
     "language": "python",
     "metadata": {},
     "outputs": [],
     "prompt_number": 8
    },
    {
     "cell_type": "markdown",
     "metadata": {},
     "source": [
      "We can set up a `VtkScene` to do a quick visualization of the population before running the analysis.\n",
      "\n"
     ]
    },
    {
     "cell_type": "code",
     "collapsed": false,
     "input": [
      "scene = chaste.visualization.VtkScene2()\n",
      "scene.SetCellPopulation(cell_population)\n",
      "scene.GetCellPopulationActorGenerator().SetShowPottsMeshEdges(True)\n",
      "nb_manager = chaste.visualization.JupyterNotebookManager()\n",
      "nb_manager.vtk_show(scene, height=600)"
     ],
     "language": "python",
     "metadata": {},
     "outputs": [
      {
       "metadata": {},
       "output_type": "pyout",
       "png": "[encoded data removed]",
       "prompt_number": 9,
       "text": [
        "<IPython.core.display.Image at 0x7f952196c690>"
       ]
      }
     ],
     "prompt_number": 9
    },
    {
     "cell_type": "markdown",
     "metadata": {},
     "source": [
      "We then pass in the cell population into an `OffLatticeSimulation`, and set the output directory and end time\n",
      "\n"
     ]
    },
    {
     "cell_type": "code",
     "collapsed": false,
     "input": [
      "simulator = chaste.cell_based.OnLatticeSimulation2(cell_population)\n",
      "simulator.SetOutputDirectory(\"Python/TestPottsBasedCellSimulationsTutorial\")\n",
      "simulator.SetEndTime(50.0)"
     ],
     "language": "python",
     "metadata": {},
     "outputs": [],
     "prompt_number": 10
    },
    {
     "cell_type": "markdown",
     "metadata": {},
     "source": [
      "The default timestep is 0.1, but can be changed using the below command. The timestep is used in conjunction with the \"Temperature\"\n",
      "and number of sweeps per timestep to specify the relationship between cell movement and proliferation.\n",
      "We also set the simulation to only output every 10 steps i.e. once per hour.\n",
      "\n"
     ]
    },
    {
     "cell_type": "code",
     "collapsed": false,
     "input": [
      "simulator.SetDt(0.1)\n",
      "simulator.SetSamplingTimestepMultiple(10)"
     ],
     "language": "python",
     "metadata": {},
     "outputs": [],
     "prompt_number": 11
    },
    {
     "cell_type": "markdown",
     "metadata": {},
     "source": [
      "We must now create one or more update rules, which determine the Hamiltonian in the Potts simulation.\n",
      "For this test, we use two update rules based upon a volume constraint (VolumeConstraintPottsUpdateRule)\n",
      "and adhesion between cells (AdhesionPottsUpdateRule) and pass them to the OnLatticeSimulation.\n",
      "For a list of possible update rules see subclasses of AbstractPottsUpdateRule.\n",
      "\n"
     ]
    },
    {
     "cell_type": "code",
     "collapsed": false,
     "input": [
      "volume_constraint_update_rule = chaste.cell_based.VolumeConstraintPottsUpdateRule2()"
     ],
     "language": "python",
     "metadata": {},
     "outputs": [],
     "prompt_number": 12
    },
    {
     "cell_type": "markdown",
     "metadata": {},
     "source": [
      "Set an appropriate target volume in number of lattice sites. Here we use the default value of 16 lattice sites.\n",
      "\n"
     ]
    },
    {
     "cell_type": "code",
     "collapsed": false,
     "input": [
      "volume_constraint_update_rule.SetMatureCellTargetVolume(16)"
     ],
     "language": "python",
     "metadata": {},
     "outputs": [],
     "prompt_number": 13
    },
    {
     "cell_type": "markdown",
     "metadata": {},
     "source": [
      "You can also vary the deformation energy parameter.\n",
      "The larger the parameter the more cells will try to maintain target volume. Here we use the default value of 0.2.\n",
      "\n"
     ]
    },
    {
     "cell_type": "code",
     "collapsed": false,
     "input": [
      "volume_constraint_update_rule.SetDeformationEnergyParameter(0.2)"
     ],
     "language": "python",
     "metadata": {},
     "outputs": [],
     "prompt_number": 14
    },
    {
     "cell_type": "markdown",
     "metadata": {},
     "source": [
      "Finally we add the update rule to the simulator.\n",
      "\n"
     ]
    },
    {
     "cell_type": "code",
     "collapsed": false,
     "input": [
      "simulator.AddUpdateRule(volume_constraint_update_rule)"
     ],
     "language": "python",
     "metadata": {},
     "outputs": [],
     "prompt_number": 15
    },
    {
     "cell_type": "markdown",
     "metadata": {},
     "source": [
      "We repeat the process for any other update rules.\n",
      "\n"
     ]
    },
    {
     "cell_type": "code",
     "collapsed": false,
     "input": [
      "adhesion_update_rule = chaste.cell_based.AdhesionPottsUpdateRule2()\n",
      "simulator.AddUpdateRule(adhesion_update_rule)"
     ],
     "language": "python",
     "metadata": {},
     "outputs": [],
     "prompt_number": 16
    },
    {
     "cell_type": "markdown",
     "metadata": {},
     "source": [
      "Save snapshot images of the population during the simulation\n",
      "\n"
     ]
    },
    {
     "cell_type": "code",
     "collapsed": false,
     "input": [
      "scene_modifier = chaste.visualization.JupyterSceneModifier2(nb_manager)\n",
      "scene_modifier.SetVtkScene(scene)\n",
      "scene_modifier.SetUpdateFrequency(100)\n",
      "simulator.AddSimulationModifier(scene_modifier)"
     ],
     "language": "python",
     "metadata": {},
     "outputs": [],
     "prompt_number": 17
    },
    {
     "cell_type": "markdown",
     "metadata": {},
     "source": [
      "To run the simulation, we call `Solve()`. We can again do a quick rendering of the population at the end of the simulation\n",
      "\n"
     ]
    },
    {
     "cell_type": "code",
     "collapsed": false,
     "input": [
      "scene.Start()\n",
      "simulator.Solve()"
     ],
     "language": "python",
     "metadata": {},
     "outputs": [
      {
       "metadata": {},
       "output_type": "display_data",
       "png": "[encoded data removed]",
       "text": [
        "<IPython.core.display.Image at 0x7f952196cd10>"
       ]
      }
     ],
     "prompt_number": 18
    },
    {
     "cell_type": "markdown",
     "metadata": {},
     "source": [
      "The next two lines are for test purposes only and are not part of this tutorial.\n",
      "If different simulation input parameters are being explored the lines should be removed.\n",
      "\n"
     ]
    },
    {
     "cell_type": "code",
     "collapsed": false,
     "input": [
      "# Tear down the test \n",
      "chaste.cell_based.TearDownNotebookTest()"
     ],
     "language": "python",
     "metadata": {},
     "outputs": [],
     "prompt_number": 19
    },
    {
     "cell_type": "markdown",
     "metadata": {},
     "source": [
      "## Test 2 - Cell sorting\n",
      "The next test generates a collection of cells, there are two types of cells, labelled ones and non labelled ones,\n",
      "there is differential adhesion between the cell types. For the parameters specified, the cells sort into separate types.\n",
      "\n"
     ]
    },
    {
     "cell_type": "code",
     "collapsed": false,
     "input": [
      "# Set up the test \n",
      "chaste.cell_based.SetupNotebookTest()"
     ],
     "language": "python",
     "metadata": {},
     "outputs": [],
     "prompt_number": 20
    },
    {
     "cell_type": "markdown",
     "metadata": {},
     "source": [
      "First, we generate a Potts mesh. To create a PottsMesh, we can use the PottsMeshGenerator.\n",
      "This generates a regular square-shaped mesh, in which all elements are the same size.\n",
      "We have chosen an 8 by 8 block of elements each consisting of 4 by 4 ( = 16) lattice sites.\n",
      "\n"
     ]
    },
    {
     "cell_type": "code",
     "collapsed": false,
     "input": [
      "generator = chaste.mesh.PottsMeshGenerator2(50, 8, 4, 50, 8, 4)\n",
      "mesh = generator.GetMesh()"
     ],
     "language": "python",
     "metadata": {},
     "outputs": [],
     "prompt_number": 21
    },
    {
     "cell_type": "markdown",
     "metadata": {},
     "source": [
      "Having created a mesh, we now create a VecCellPtrs. To do this, we the CellsGenerator helper class,\n",
      "as before but this time the third argument is set to make all cells non-proliferative.\n",
      "\n"
     ]
    },
    {
     "cell_type": "code",
     "collapsed": false,
     "input": [
      "cells = chaste.cell_based.VecCellPtr()\n",
      "differentiated_type = chaste.cell_based.DifferentiatedCellProliferativeType()\n",
      "cell_generator = chaste.cell_based.CellsGeneratorUniformCellCycleModel_2()\n",
      "cell_generator.GenerateBasicRandom(cells, mesh.GetNumElements(), differentiated_type)"
     ],
     "language": "python",
     "metadata": {},
     "outputs": [],
     "prompt_number": 22
    },
    {
     "cell_type": "markdown",
     "metadata": {},
     "source": [
      "Before we make a CellPopulation we make a cell label and then assign this label to some randomly chosen cells.\n",
      "\n"
     ]
    },
    {
     "cell_type": "code",
     "collapsed": false,
     "input": [
      "label = chaste.cell_based.CellLabel()\n",
      "for eachCell in cells:\n",
      "    if(chaste.core.RandomNumberGenerator.Instance().ranf()<0.5):\n",
      "        eachCell.AddCellProperty(label)"
     ],
     "language": "python",
     "metadata": {},
     "outputs": [],
     "prompt_number": 23
    },
    {
     "cell_type": "markdown",
     "metadata": {},
     "source": [
      "Now we have a mesh and a set of cells to go with it, we can create a CellPopulation.\n",
      "\n"
     ]
    },
    {
     "cell_type": "code",
     "collapsed": false,
     "input": [
      "cell_population = chaste.cell_based.PottsBasedCellPopulation2(mesh, cells)"
     ],
     "language": "python",
     "metadata": {},
     "outputs": [],
     "prompt_number": 24
    },
    {
     "cell_type": "markdown",
     "metadata": {},
     "source": [
      "In order to visualize labelled cells we need to use the following command.\n",
      "\n"
     ]
    },
    {
     "cell_type": "code",
     "collapsed": false,
     "input": [
      "cell_population.AddCellWriterCellLabelWriter()"
     ],
     "language": "python",
     "metadata": {},
     "outputs": [],
     "prompt_number": 25
    },
    {
     "cell_type": "markdown",
     "metadata": {},
     "source": [
      "We then pass in the cell population into an `OffLatticeSimulation`, and set the output directory and end time\n",
      "\n"
     ]
    },
    {
     "cell_type": "code",
     "collapsed": false,
     "input": [
      "simulator = chaste.cell_based.OnLatticeSimulation2(cell_population)\n",
      "simulator.SetOutputDirectory(\"Python/TestPottsBasedCellSorting\")\n",
      "simulator.SetEndTime(20.0)\n",
      "simulator.SetSamplingTimestepMultiple(10)"
     ],
     "language": "python",
     "metadata": {},
     "outputs": [],
     "prompt_number": 26
    },
    {
     "cell_type": "markdown",
     "metadata": {},
     "source": [
      "We must now create one or more update rules, which determine the Hamiltonian in the Potts simulation.\n",
      "For this test, we use two update rules based upon a volume constraint (VolumeConstraintPottsUpdateRule) and\n",
      "differential adhesion between cells (DifferentialAdhesionPottsUpdateRule), set appropriate parameters, and\n",
      "pass them to the OnLatticeSimulation.\n",
      "\n"
     ]
    },
    {
     "cell_type": "code",
     "collapsed": false,
     "input": [
      "volume_constraint_update_rule = chaste.cell_based.VolumeConstraintPottsUpdateRule2()\n",
      "volume_constraint_update_rule.SetMatureCellTargetVolume(16)\n",
      "volume_constraint_update_rule.SetDeformationEnergyParameter(0.2)\n",
      "simulator.AddUpdateRule(volume_constraint_update_rule)"
     ],
     "language": "python",
     "metadata": {},
     "outputs": [],
     "prompt_number": 27
    },
    {
     "cell_type": "markdown",
     "metadata": {},
     "source": [
      "We repeat the process for any other update rules.\n",
      "\n"
     ]
    },
    {
     "cell_type": "code",
     "collapsed": false,
     "input": [
      "differential_adhesion_update_rule = chaste.cell_based.DifferentialAdhesionPottsUpdateRule2()\n",
      "differential_adhesion_update_rule.SetLabelledCellLabelledCellAdhesionEnergyParameter(0.16)\n",
      "differential_adhesion_update_rule.SetLabelledCellCellAdhesionEnergyParameter(0.11)\n",
      "differential_adhesion_update_rule.SetCellCellAdhesionEnergyParameter(0.02)\n",
      "differential_adhesion_update_rule.SetLabelledCellBoundaryAdhesionEnergyParameter(0.16)\n",
      "differential_adhesion_update_rule.SetCellBoundaryAdhesionEnergyParameter(0.16)\n",
      "simulator.AddUpdateRule(differential_adhesion_update_rule)"
     ],
     "language": "python",
     "metadata": {},
     "outputs": [],
     "prompt_number": 28
    },
    {
     "cell_type": "markdown",
     "metadata": {},
     "source": [
      "To run the simulation, we call `Solve()`.\n",
      "\n"
     ]
    },
    {
     "cell_type": "code",
     "collapsed": false,
     "input": [
      "simulator.Solve()"
     ],
     "language": "python",
     "metadata": {},
     "outputs": [],
     "prompt_number": 29
    },
    {
     "cell_type": "markdown",
     "metadata": {},
     "source": [
      "The next two lines are for test purposes only and are not part of this tutorial.\n",
      "If different simulation input parameters are being explored the lines should be removed.\n",
      "\n"
     ]
    },
    {
     "cell_type": "code",
     "collapsed": false,
     "input": [
      "# Tear down the test \n",
      "chaste.cell_based.TearDownNotebookTest()"
     ],
     "language": "python",
     "metadata": {},
     "outputs": [],
     "prompt_number": null
    },
    {
     "cell_type": "markdown",
     "metadata": {},
     "source": [
      "## Test 3 - 3D Cell Sorting\n",
      "The next test extends the previous example to three dimensions.\n",
      "\n"
     ]
    },
    {
     "cell_type": "code",
     "collapsed": false,
     "input": [
      "# Set up the test \n",
      "chaste.cell_based.SetupNotebookTest()"
     ],
     "language": "python",
     "metadata": {},
     "outputs": []
    },
    {
     "cell_type": "markdown",
     "metadata": {},
     "source": [
      "First, we generate a Potts mesh. To create a PottsMesh, we can use the PottsMeshGenerator.\n",
      "This generates a regular square-shaped mesh, in which all elements are the same size.\n",
      "Here the first three arguments specify the domain width; the number of elements across; and the width of elements.\n",
      "The second set of three arguments specify the domain height; the number of elements up; and the height of individual elements.\n",
      "The third set of three arguments specify the domain depth; the number of elements deep; and the depth of individual elements.\n",
      "We have chosen an 4 by 4 by 4 ( = 64) block of elements each consisting of 2 by 2 by 2 ( = 8) lattice sites.\n",
      "\n"
     ]
    },
    {
     "cell_type": "code",
     "collapsed": false,
     "input": [
      "generator = chaste.mesh.PottsMeshGenerator3(10, 4, 2, 10, 4, 2, 10, 4, 2)\n",
      "mesh = generator.GetMesh()"
     ],
     "language": "python",
     "metadata": {},
     "outputs": []
    },
    {
     "cell_type": "markdown",
     "metadata": {},
     "source": [
      "Having created a mesh, we now create a VecCellPtrs. To do this, we the CellsGenerator helper class,\n",
      "as before but this time the third argument is set to make all cells non-proliferative.\n",
      "\n"
     ]
    },
    {
     "cell_type": "code",
     "collapsed": false,
     "input": [
      "cells = chaste.cell_based.VecCellPtr()\n",
      "differentiated_type = chaste.cell_based.DifferentiatedCellProliferativeType()\n",
      "cell_generator = chaste.cell_based.CellsGeneratorUniformCellCycleModel_3()\n",
      "cell_generator.GenerateBasicRandom(cells, mesh.GetNumElements(), differentiated_type)"
     ],
     "language": "python",
     "metadata": {},
     "outputs": []
    },
    {
     "cell_type": "markdown",
     "metadata": {},
     "source": [
      "As for the 2D case before we make a CellPopulation we make a pointer to a cell label and then assign this label to some randomly chosen cells.\n",
      "\n"
     ]
    },
    {
     "cell_type": "code",
     "collapsed": false,
     "input": [
      "label = chaste.cell_based.CellLabel()\n",
      "for eachCell in cells:\n",
      "    if(chaste.core.RandomNumberGenerator.Instance().ranf()<0.5):\n",
      "        eachCell.AddCellProperty(label)"
     ],
     "language": "python",
     "metadata": {},
     "outputs": []
    },
    {
     "cell_type": "markdown",
     "metadata": {},
     "source": [
      "Now we have a mesh and a set of cells to go with it, we can create a CellPopulation.\n",
      "\n"
     ]
    },
    {
     "cell_type": "code",
     "collapsed": false,
     "input": [
      "cell_population = chaste.cell_based.PottsBasedCellPopulation3(mesh, cells)"
     ],
     "language": "python",
     "metadata": {},
     "outputs": []
    },
    {
     "cell_type": "markdown",
     "metadata": {},
     "source": [
      "In order to visualize labelled cells we need to use the following command.\n",
      "\n"
     ]
    },
    {
     "cell_type": "code",
     "collapsed": false,
     "input": [
      "cell_population.AddCellWriterCellLabelWriter();"
     ],
     "language": "python",
     "metadata": {},
     "outputs": [],
     "prompt_number": null
    },
    {
     "cell_type": "markdown",
     "metadata": {},
     "source": [
      "We then pass in the cell population into an `OffLatticeSimulation`, and set the output directory and end time\n",
      "\n"
     ]
    },
    {
     "cell_type": "code",
     "collapsed": false,
     "input": [
      "simulator = chaste.cell_based.OnLatticeSimulation3(cell_population)\n",
      "simulator.SetOutputDirectory(\"Python/TestPottsBasedCellSorting3D\")\n",
      "simulator.SetEndTime(20.0)\n",
      "simulator.SetSamplingTimestepMultiple(10)"
     ],
     "language": "python",
     "metadata": {},
     "outputs": [],
     "prompt_number": null
    },
    {
     "cell_type": "markdown",
     "metadata": {},
     "source": [
      "We must now create one or more update rules, which determine the Hamiltonian in the Potts simulation.\n",
      "Now set the target volume to be appropriate for this 3D simulation.\n",
      "\n"
     ]
    },
    {
     "cell_type": "code",
     "collapsed": false,
     "input": [
      "volume_constraint_update_rule = chaste.cell_based.VolumeConstraintPottsUpdateRule3()\n",
      "volume_constraint_update_rule.SetMatureCellTargetVolume(8)\n",
      "volume_constraint_update_rule.SetDeformationEnergyParameter(0.2)\n",
      "simulator.AddUpdateRule(volume_constraint_update_rule)"
     ],
     "language": "python",
     "metadata": {},
     "outputs": [],
     "prompt_number": null
    },
    {
     "cell_type": "markdown",
     "metadata": {},
     "source": [
      "We use the same differential adhesion parameters as in the 2D case.\n",
      "\n"
     ]
    },
    {
     "cell_type": "code",
     "collapsed": false,
     "input": [
      "differential_adhesion_update_rule = chaste.cell_based.DifferentialAdhesionPottsUpdateRule3()\n",
      "differential_adhesion_update_rule.SetLabelledCellLabelledCellAdhesionEnergyParameter(0.16)\n",
      "differential_adhesion_update_rule.SetLabelledCellCellAdhesionEnergyParameter(0.11)\n",
      "differential_adhesion_update_rule.SetCellCellAdhesionEnergyParameter(0.02)\n",
      "differential_adhesion_update_rule.SetLabelledCellBoundaryAdhesionEnergyParameter(0.16)\n",
      "differential_adhesion_update_rule.SetCellBoundaryAdhesionEnergyParameter(0.16)\n",
      "simulator.AddUpdateRule(differential_adhesion_update_rule)"
     ],
     "language": "python",
     "metadata": {},
     "outputs": [],
     "prompt_number": null
    },
    {
     "cell_type": "markdown",
     "metadata": {},
     "source": [
      "To run the simulation, we call `Solve()`.\n",
      "\n"
     ]
    },
    {
     "cell_type": "code",
     "collapsed": false,
     "input": [
      "simulator.Solve();"
     ],
     "language": "python",
     "metadata": {},
     "outputs": [],
     "prompt_number": null
    },
    {
     "cell_type": "markdown",
     "metadata": {},
     "source": [
      "The next two lines are for test purposes only and are not part of this tutorial.\n",
      "If different simulation input parameters are being explored the lines should be removed.\n",
      "\n"
     ]
    },
    {
     "cell_type": "code",
     "collapsed": false,
     "input": [
      "# Tear down the test \n",
      "chaste.cell_based.TearDownNotebookTest()"
     ],
     "language": "python",
     "metadata": {},
     "outputs": [],
     "prompt_number": null
    }
   ],
   "metadata": {}
  }
 ]
}