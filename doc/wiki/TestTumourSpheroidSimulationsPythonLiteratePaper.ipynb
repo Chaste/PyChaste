{
 "cells": [
  {
   "cell_type": "markdown",
   "metadata": {},
   "source": [
    "This tutorial is automatically generated from the file test/python/cell_based/tutorials/TestTumourSpheroidSimulationsPythonLiteratePaper.py.\n",
    "\n"
   ]
  },
  {
   "cell_type": "markdown",
   "metadata": {},
   "source": [
    "\n",
    "# Introduction\n",
    "In this tutorial we show how Chaste can be used to simulate a growing cell monolayer culture or multicellular tumour spheroid.\n",
    "Like the crypt simulations, tumour spheroid simulations include cell-cycle models and force laws to determine how cells divide and move.\n",
    "In tumour spheroid simulations, however, these are also coupled to a system of partial differential equations (PDEs) that\n",
    "determine the concentration of specified nutrients (e.g. oxygen) throughout the cell population. Also, unlike in a crypt simulation\n",
    "(for example), the cell population may grow substantially as the simulation progresses.\n",
    "In summary, the main difference between this tutorial and the other cell-based simulation tutorials is that a PDE is defined,\n",
    "which is used in the simulation.\n",
    "\n",
    "## The Test\n",
    "\n"
   ]
  },
  {
   "cell_type": "code",
   "execution_count": null,
   "metadata": {},
   "outputs": [],
   "source": [
    "import unittest\n",
    "import chaste.core\n",
    "chaste.init()\n",
    "import chaste.cell_based\n",
    "import chaste.mesh\n",
    "import chaste.pde\n",
    "import chaste.visualization\n",
    "\n",
    "class TestRunningTumourSpheroidSimulationsTutorial(chaste.cell_based.AbstractCellBasedTestSuite):\n",
    "\n",
    "    def test_spheroid(self):\n",
    "\n"
   ]
  },
  {
   "cell_type": "markdown",
   "metadata": {},
   "source": [
    "First we want to create a non-periodic 'honeycomb' mesh. We use the honeycomb mesh generator, as before,\n",
    "saying 10 cells wide and 10 cells high. Note that the thickness of the ghost nodes layer is 0, i.e.\n",
    "there are no ghost nodes, and the false indicates that the returned mesh is not cylindrical. In contrast to the\n",
    "crypt simulation tutorial, here we call GetMesh() on the HoneycombMeshGenerator object to return the mesh, which is of type MutableMesh.\n",
    "\n"
   ]
  },
  {
   "cell_type": "code",
   "execution_count": null,
   "metadata": {},
   "outputs": [],
   "source": [
    "        generator = chaste.mesh.HoneycombMeshGenerator(10, 10, 0)\n",
    "        mesh = generator.GetMesh()\n",
    "\n"
   ]
  },
  {
   "cell_type": "markdown",
   "metadata": {},
   "source": [
    "Now create the cells.\n",
    "\n"
   ]
  },
  {
   "cell_type": "code",
   "execution_count": null,
   "metadata": {},
   "outputs": [],
   "source": [
    "        cells = chaste.cell_based.VecCellPtr()\n",
    "\n"
   ]
  },
  {
   "cell_type": "markdown",
   "metadata": {},
   "source": [
    "This line defines a mutation state to be used for all cells, of type WildTypeCellMutationState (i.e. 'healthy')\n",
    "\n"
   ]
  },
  {
   "cell_type": "code",
   "execution_count": null,
   "metadata": {},
   "outputs": [],
   "source": [
    "        state = chaste.cell_based.WildTypeCellMutationState()\n",
    "        stem_type = chaste.cell_based.StemCellProliferativeType()\n",
    "\n"
   ]
  },
  {
   "cell_type": "markdown",
   "metadata": {},
   "source": [
    "Use a generator to set up the initial cells\n",
    "\n"
   ]
  },
  {
   "cell_type": "code",
   "execution_count": null,
   "metadata": {},
   "outputs": [],
   "source": [
    "        cell_generator = chaste.cell_based.CellsGeneratorSimpleOxygenBasedCellCycleModel_2()\n",
    "        cell_generator.GenerateBasicRandom(cells, mesh.GetNumNodes(), stem_type)\n",
    "\n",
    "        for eachCell in cells:\n",
    "            model = eachCell.GetCellCycleModel()\n",
    "\n"
   ]
  },
  {
   "cell_type": "markdown",
   "metadata": {},
   "source": [
    "We also alter the default cell-cycle times.\n",
    "\n"
   ]
  },
  {
   "cell_type": "code",
   "execution_count": null,
   "metadata": {},
   "outputs": [],
   "source": [
    "            model.SetStemCellG1Duration(8.0)\n",
    "            model.SetTransitCellG1Duration(8.0)\n",
    "\n"
   ]
  },
  {
   "cell_type": "markdown",
   "metadata": {},
   "source": [
    "We now define a random birth time, chosen from [-T,0], where T = t1 + t2, where t1 is a parameter representing the\n",
    "G1 duration of a 'stem' cell, and t2 is the basic S+G2+M phases duration...\n",
    "\n"
   ]
  },
  {
   "cell_type": "code",
   "execution_count": null,
   "metadata": {},
   "outputs": [],
   "source": [
    "            birth_time = -chaste.core.RandomNumberGenerator.Instance().ranf() * (model.GetStemCellG1Duration() +\n",
    "                                                                                 model.GetSG2MDuration())\n",
    "            eachCell.SetBirthTime(birth_time)\n",
    "\n"
   ]
  },
  {
   "cell_type": "markdown",
   "metadata": {},
   "source": [
    "Now that we have defined the cells, we can define the CellPopulation. We use a MeshBasedCellPopulation since although\n",
    "the cell population is mesh-based, it does not include any ghost nodes. The constructor takes in the mesh and the cells vector.\n",
    "\n"
   ]
  },
  {
   "cell_type": "code",
   "execution_count": null,
   "metadata": {},
   "outputs": [],
   "source": [
    "        cell_population = chaste.cell_based.MeshBasedCellPopulation2_2(mesh, cells)\n",
    "\n"
   ]
  },
  {
   "cell_type": "markdown",
   "metadata": {},
   "source": [
    "Next we instantiate an instance of the PDE class which we defined above. This will be passed into the OffLatticeSimulationWithPdes object.\n",
    "The CellwiseSourcePde is a PDE class which inherits from AbstractLinearEllipticPde and represents the PDE u_xx + u_yy = k(x,y) u, where u(x,y)\n",
    "denotes the oxygen concentration at position (x,y) and the function k(x,y) specifies the rate of consumption by live cells there.\n",
    "Here k(x,y) takes the value -0.03 (the coefficient below) if the cell located at (x,y) is a live cell, and zero if the cell has died due\n",
    "to oxygen deprivation.\n",
    "\n"
   ]
  },
  {
   "cell_type": "code",
   "execution_count": null,
   "metadata": {},
   "outputs": [],
   "source": [
    "        pde = chaste.cell_based.CellwiseSourceEllipticPde2(cell_population, -0.03)\n",
    "\n"
   ]
  },
  {
   "cell_type": "markdown",
   "metadata": {},
   "source": [
    "We also create a constant-valued boundary condition to associate with the PDE.\n",
    "This boundary condition object takes in a single argument in its constructor,\n",
    "the value at the boundary. We also introduce a boolean to specify whether this value is the flux at the boundary\n",
    "(a Neumann boundary condition) or the value of the state variable at the boundary\n",
    "(a Dirichlet boundary condition) below\n",
    "\n"
   ]
  },
  {
   "cell_type": "code",
   "execution_count": null,
   "metadata": {},
   "outputs": [],
   "source": [
    "        bc = chaste.pde.ConstBoundaryCondition2(1.0)\n",
    "        is_neumann_bc = False\n",
    "\n"
   ]
  },
  {
   "cell_type": "markdown",
   "metadata": {},
   "source": [
    "To pass the PDE to our simulator, it must first be encapsulated in a\n",
    "cell-based PDE modifier object, together with the boundary condition for\n",
    "the PDE. The latter is specified by the second and third arguments of the\n",
    "constructor below: the second argument defines the value\n",
    "of the boundary condition and the third argument defines whether it is of Neumann type\n",
    "(true) or Dirichlet type (false). Thus, in our case, we are a specifying a constant-value\n",
    "boundary condition. Note that we currently cannot impose more than one boundary\n",
    "condition for each PDE (so that e.g. we cannot impose a zero-flux boundary condition\n",
    "on some part of the boundary and a fixed-value boundary condition on the rest), although\n",
    "the boundary condition itself can be made spatially varying or time-dependent.\n",
    "The PDE is tagged to show that the quantity to be solved for (the quantity of interest in\n",
    "the cells' data is \"oxygen\".\n",
    "The `CellData` class, is used to stores the value of the current nutrient concentration for each cell.\n",
    "\n"
   ]
  },
  {
   "cell_type": "code",
   "execution_count": null,
   "metadata": {},
   "outputs": [],
   "source": [
    "        pde_modifier = chaste.cell_based.EllipticGrowingDomainPdeModifier2(pde ,bc, is_neumann_bc)\n",
    "        pde_modifier.SetDependentVariableName(\"oxygen\")\n",
    "\n"
   ]
  },
  {
   "cell_type": "markdown",
   "metadata": {},
   "source": [
    "We then pass in the cell population into an `OffLatticeSimulation`, and set the output directory, output multiple and end time\n",
    "\n"
   ]
  },
  {
   "cell_type": "code",
   "execution_count": null,
   "metadata": {},
   "outputs": [],
   "source": [
    "        simulator = chaste.cell_based.OffLatticeSimulation2_2(cell_population)\n",
    "        simulator.SetOutputDirectory(\"Python/TestTumourSpheroid\")\n",
    "        simulator.SetEndTime(1.0)\n",
    "        simulator.AddSimulationModifier(pde_modifier)\n",
    "\n"
   ]
  },
  {
   "cell_type": "markdown",
   "metadata": {},
   "source": [
    "We now pass a force law to the simulation.\n",
    "\n"
   ]
  },
  {
   "cell_type": "code",
   "execution_count": null,
   "metadata": {},
   "outputs": [],
   "source": [
    "        force = chaste.cell_based.GeneralisedLinearSpringForce2_2()\n",
    "        force.SetCutOffLength(3)\n",
    "        simulator.AddForce(force)\n",
    "\n"
   ]
  },
  {
   "cell_type": "markdown",
   "metadata": {},
   "source": [
    "To run the simulation, we call `Solve()`.\n",
    "\n"
   ]
  },
  {
   "cell_type": "code",
   "execution_count": null,
   "metadata": {},
   "outputs": [],
   "source": [
    "        simulator.Solve();\n",
    "\n",
    "if __name__ == '__main__':\n",
    "    unittest.main(verbosity=2)\n",
    "\n"
   ]
  }
 ],
 "metadata": {},
 "nbformat": 4,
 "nbformat_minor": 1
}
