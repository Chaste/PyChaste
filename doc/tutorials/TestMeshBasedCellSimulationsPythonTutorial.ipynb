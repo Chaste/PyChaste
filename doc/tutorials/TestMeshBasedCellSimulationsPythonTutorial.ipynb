{
 "metadata": {
  "name": "",
  "signature": "sha256:7aa4af79561f77ff09fb65ef11cc52252f18dbfb35274be5f5984a35d373fcf8"
 },
 "nbformat": 3,
 "nbformat_minor": 0,
 "worksheets": [
  {
   "cells": [
    {
     "cell_type": "markdown",
     "metadata": {},
     "source": [
      "This tutorial is automatically generated from the file test/python/cell_based/tutorials/TestMeshBasedCellSimulationsPythonTutorial.py.\n",
      "\n"
     ]
    },
    {
     "cell_type": "code",
     "collapsed": false,
     "input": [
      "# Jupyter notebook specific imports \n",
      "import matplotlib as mpl \n",
      "import matplotlib.pyplot as plt \n",
      "%matplotlib inline"
     ],
     "language": "python",
     "metadata": {},
     "outputs": [],
     "prompt_number": 2
    },
    {
     "cell_type": "markdown",
     "metadata": {},
     "source": [
      "\n",
      "# Introduction\n",
      "In this tutorial we show how Chaste can be used to create, run and visualize mesh-based simulations.\n",
      "Full details of the mathematical model can be found in van Leeuwen et al. (2009) [doi:10.1111/j.1365-2184.2009.00627.x].\n",
      "\n",
      "## Imports and Setup\n",
      "\n"
     ]
    },
    {
     "cell_type": "code",
     "collapsed": false,
     "input": [
      "import chaste.core\n",
      "chaste.init()\n",
      "import chaste.cell_based\n",
      "import chaste.mesh\n",
      "import chaste.visualization"
     ],
     "language": "python",
     "metadata": {},
     "outputs": [],
     "prompt_number": 3
    },
    {
     "cell_type": "markdown",
     "metadata": {},
     "source": [
      "## Test 1 - a basic mesh-based simulation\n",
      "In the first test, we run a simple mesh-based simulation,\n",
      "in which we create a monolayer of cells, using a mutable mesh. Each cell is assigned a stochastic cell-cycle model.\n",
      "\n"
     ]
    },
    {
     "cell_type": "code",
     "collapsed": false,
     "input": [
      "# Set up the test \n",
      "chaste.cell_based.SetupNotebookTest()"
     ],
     "language": "python",
     "metadata": {},
     "outputs": [],
     "prompt_number": 4
    },
    {
     "cell_type": "markdown",
     "metadata": {},
     "source": [
      "Next, we generate a mutable mesh. To create a MutableMesh, we can use the HoneycombMeshGenerator.\n",
      "This generates a honeycomb-shaped mesh, in which all nodes are equidistant. Here the first and second arguments define the size of the mesh -\n",
      "we have chosen a mesh that is 2 nodes (i.e. cells) wide, and 2 nodes high.\n",
      "\n"
     ]
    },
    {
     "cell_type": "code",
     "collapsed": false,
     "input": [
      "file_handler = chaste.core.OutputFileHandler(\"Python/TestMeshBasedCellSimulationsTutorial\")\n",
      "generator = chaste.mesh.HoneycombMeshGenerator(5, 5)\n",
      "mesh = generator.GetMesh()"
     ],
     "language": "python",
     "metadata": {},
     "outputs": [],
     "prompt_number": 5
    },
    {
     "cell_type": "markdown",
     "metadata": {},
     "source": [
      "Having created a mesh, we now create a VecCellPtrs. To do this, we use the CellsGenerator helper class,\n",
      "which is templated over the type of cell cycle model required (here UniformCellCycleModel) and the dimension.\n",
      "For a list of possible cell cycle models see subclasses of AbstractCellCycleModel.\n",
      "Note that some of these models will require information on the surrounding medium such as Oxygen concentration to work,\n",
      "see specific class documentation for details.\n",
      "Some of these will be covered in later tutorials (UserTutorials/RunningContactInhibitionSimulations, UserTutorials/RunningDeltaNotchSimulations,\n",
      "and UserTutorials/RunningTumourSpheroidSimulations).\n",
      "We create an empty vector of cells and pass this into the method along with the mesh.\n",
      "The second argument represents the size of that the vector cells should become - one cell for each node,\n",
      "the third argument specifies the proliferative type of the cell.\n",
      "\n"
     ]
    },
    {
     "cell_type": "code",
     "collapsed": false,
     "input": [
      "cells = chaste.cell_based.VecCellPtr()\n",
      "transit_type = chaste.cell_based.TransitCellProliferativeType()\n",
      "cell_generator = chaste.cell_based.CellsGeneratorUniformCellCycleModel_2()\n",
      "cell_generator.GenerateBasicRandom(cells, mesh.GetNumNodes(), transit_type)"
     ],
     "language": "python",
     "metadata": {},
     "outputs": [],
     "prompt_number": 6
    },
    {
     "cell_type": "markdown",
     "metadata": {},
     "source": [
      "Now we have a mesh and a set of cells to go with it, we can create a CellPopulation.\n",
      "In general, this class associates a collection of cells with a mesh. For this test, because we have a MutableMesh,\n",
      "we use a particular type of cell population called a MeshBasedCellPopulation.\n",
      "\n"
     ]
    },
    {
     "cell_type": "code",
     "collapsed": false,
     "input": [
      "cell_population = chaste.cell_based.MeshBasedCellPopulation2_2(mesh, cells)"
     ],
     "language": "python",
     "metadata": {},
     "outputs": [],
     "prompt_number": 7
    },
    {
     "cell_type": "markdown",
     "metadata": {},
     "source": [
      "To view the results of this and the next test in Paraview it is necessary to explicitly generate the required .vtu files.\n",
      "This is detailed in the UserTutorials/VisualizingWithParaview tutorial. Note that the results in Paraview may appear different\n",
      "to those in the java based visualizer. This is related to the different methods used to generate voronoi tesselations in each and\n",
      "is resolved through the use of 'ghost nodes', as shown in the next test.\n",
      "\n"
     ]
    },
    {
     "cell_type": "code",
     "collapsed": false,
     "input": [
      "cell_population.AddPopulationWriterVoronoiDataWriter()"
     ],
     "language": "python",
     "metadata": {},
     "outputs": [],
     "prompt_number": 8
    },
    {
     "cell_type": "markdown",
     "metadata": {},
     "source": [
      "We can set up a Scene to do a quick visualization of the population before running the analysis (Jupyter only)\n",
      "\n"
     ]
    },
    {
     "cell_type": "code",
     "collapsed": false,
     "input": [
      "scene = chaste.visualization.VtkScene2()\n",
      "scene.SetCellPopulation(cell_population)\n",
      "chaste.visualization.vtk_show(scene)"
     ],
     "language": "python",
     "metadata": {},
     "outputs": [
      {
       "metadata": {},
       "output_type": "pyout",
       "png": "[encoded data removed]",
       "prompt_number": 9,
       "text": [
        "<IPython.core.display.Image at 0x7fba78295e90>"
       ]
      }
     ],
     "prompt_number": 9
    },
    {
     "cell_type": "markdown",
     "metadata": {},
     "source": [
      "We then pass in the cell population into an OffLatticeSimulation, and set the output directory and end time.\n",
      "\n"
     ]
    },
    {
     "cell_type": "code",
     "collapsed": false,
     "input": [
      "simulator = chaste.cell_based.OffLatticeSimulation2_2(cell_population)\n",
      "simulator.SetOutputDirectory(\"Python/TestMeshBasedCellSimulationsTutorial\")\n",
      "simulator.SetEndTime(10.0)"
     ],
     "language": "python",
     "metadata": {},
     "outputs": [],
     "prompt_number": 10
    },
    {
     "cell_type": "markdown",
     "metadata": {},
     "source": [
      "For longer simulations, we may not want to output the results every time step. In this case we can use the following method,\n",
      "to print results every 12 time steps instead. As the default time step used by the simulator is 30 seconds,\n",
      "this method will cause the simulator to print results every 6 minutes (or 0.1 hours).\n",
      "\n"
     ]
    },
    {
     "cell_type": "code",
     "collapsed": false,
     "input": [
      "simulator.SetSamplingTimestepMultiple(12)"
     ],
     "language": "python",
     "metadata": {},
     "outputs": [],
     "prompt_number": 11
    },
    {
     "cell_type": "markdown",
     "metadata": {},
     "source": [
      "We must now create one or more force laws, which determine the mechanics of the centres of each cell in a cell population.\n",
      "For this test, we use one force law, based on the spring based model, and pass it to the OffLatticeSimulation.\n",
      "For a list of possible forces see subclasses of AbstractForce. Note that some of these forces are not compatible with mesh-based simulations,\n",
      "see the specific class documentation for details. If you try to use an incompatible class then you will receive a warning.\n",
      "\n"
     ]
    },
    {
     "cell_type": "code",
     "collapsed": false,
     "input": [
      "force = chaste.cell_based.GeneralisedLinearSpringForce2_2()\n",
      "simulator.AddForce(force)"
     ],
     "language": "python",
     "metadata": {},
     "outputs": [],
     "prompt_number": 12
    },
    {
     "cell_type": "markdown",
     "metadata": {},
     "source": [
      "Save images of the population during the simulation\n",
      "\n"
     ]
    },
    {
     "cell_type": "code",
     "collapsed": false,
     "input": [
      "scene.SetSaveAsImages(True)\n",
      "scene.SetOutputFilePath(file_handler.GetOutputDirectoryFullPath() + \"/cell_population\")\n",
      "scene_modifier = chaste.cell_based.VtkSceneModifier2()\n",
      "scene_modifier.SetVtkScene(scene)\n",
      "scene_modifier.SetUpdateFrequency(12)\n",
      "simulator.AddSimulationModifier(scene_modifier)"
     ],
     "language": "python",
     "metadata": {},
     "outputs": [],
     "prompt_number": 13
    },
    {
     "cell_type": "markdown",
     "metadata": {},
     "source": [
      "To run the simulation, we call `Solve()`. We can again do a quick rendering of the population at the end of the simulation (Jupyter only)\n",
      "\n"
     ]
    },
    {
     "cell_type": "code",
     "collapsed": false,
     "input": [
      "simulator.Solve()\n",
      "chaste.visualization.vtk_show(scene)"
     ],
     "language": "python",
     "metadata": {},
     "outputs": [
      {
       "metadata": {},
       "output_type": "pyout",
       "png": "[encoded data removed]",
       "prompt_number": 14,
       "text": [
        "<IPython.core.display.Image at 0x7fba78295190>"
       ]
      }
     ],
     "prompt_number": 14
    },
    {
     "cell_type": "markdown",
     "metadata": {},
     "source": [
      "The next two lines are for test purposes only and are not part of this tutorial.\n",
      "If different simulation input parameters are being explored the lines should be removed.\n",
      "\n"
     ]
    },
    {
     "cell_type": "code",
     "collapsed": false,
     "input": [
      "# Tear down the test \n",
      "chaste.cell_based.TearDownNotebookTest()"
     ],
     "language": "python",
     "metadata": {},
     "outputs": [],
     "prompt_number": 15
    },
    {
     "cell_type": "markdown",
     "metadata": {},
     "source": [
      "To visualize the results, open a new terminal, cd to the Chaste directory, then cd to anim.\n",
      "Then do: java Visualize2dCentreCells /tmp/$USER/testoutput/MeshBasedMonolayer/results_from_time_0. We may have to do:\n",
      "javac Visualize2dCentreCells.java beforehand to create the java executable. For further details on visualization, see ChasteGuides/RunningCellBasedVisualization.\n",
      "You will notice that half of each cell cell around the edge is missing.\n",
      "This is because the Voronoi region for nodes on the edge of the mesh can be infinite, therefore we only visualize the part inside the mesh.\n",
      "This also means there may be \"long\" edges in the mesh which can cause the cells to move due long range interactions resulting in an artificially rounded shapeThere are two solutions to this.\n",
      "The first is to define a cut off length on the force, which can be done by using the command p_force->SetCutOffLength(1.5); on the GeneralisedLinearSpringForce.\n",
      "Here there will be no forces exerted on any \"springs\" which are longer than 1.5 cell radii.\n",
      "The second solution is to use 'ghost nodes'. Ghost nodes can be added to mesh-based simulations to remove infinite voronoi regions and long edges. To do this, a set of nodes (known as ghost nodes)\n",
      "are added around the original mesh which exert forces on each other but do not exert forces on the nodes of the original mesh (known as real nodes). In addition real nodes exert forces on ghost nodes\n",
      "so the ghost nodes remain surrounding the cell population.\n",
      "\n",
      "## Test 2 -  a basic mesh-based simulation with ghost nodes\n",
      "In the second test, we run a simple mesh-based simulation with ghost nodes, in which we create a monolayer of cells, using a mutable mesh.\n",
      "Each cell is assigned a stochastic cell-cycle model.\n",
      "\n"
     ]
    },
    {
     "cell_type": "code",
     "collapsed": false,
     "input": [
      "# Set up the test \n",
      "chaste.cell_based.SetupNotebookTest()"
     ],
     "language": "python",
     "metadata": {},
     "outputs": [],
     "prompt_number": 4
    },
    {
     "cell_type": "markdown",
     "metadata": {},
     "source": [
      "We start by generating a mutable mesh. To create a MutableMesh, we can use the HoneycombMeshGenerator as before.\n",
      "Here the first and second arguments define the size of the mesh - we have chosen a mesh that is 2 nodes (i.e. cells) wide,\n",
      "and 2 nodes high. The third argument specifies the number of layers of ghost nodes to make.\n",
      "\n"
     ]
    },
    {
     "cell_type": "code",
     "collapsed": false,
     "input": [
      "generator = chaste.mesh.HoneycombMeshGenerator(5, 5, 2)\n",
      "mesh = generator.GetMesh()"
     ],
     "language": "python",
     "metadata": {},
     "outputs": [],
     "prompt_number": 5
    },
    {
     "cell_type": "markdown",
     "metadata": {},
     "source": [
      "We only want to create cells to attach to real nodes, so we use the method GetCellLocationIndices to get the\n",
      "indices of the real nodes in the mesh. This will be passed in to the cell population later on.\n",
      "\n"
     ]
    },
    {
     "cell_type": "code",
     "collapsed": false,
     "input": [
      "location_indices = generator.GetCellLocationIndices()"
     ],
     "language": "python",
     "metadata": {},
     "outputs": [],
     "prompt_number": 6
    },
    {
     "cell_type": "markdown",
     "metadata": {},
     "source": [
      "Having created a mesh, we now create a std::vector of CellPtrs. To do this, we the CellsGenerator helper class again.\n",
      "This time the second argument is different and is the number of real nodes in the mesh.\n",
      "As before all cells have TransitCellProliferativeType.\n",
      "\n"
     ]
    },
    {
     "cell_type": "code",
     "collapsed": false,
     "input": [
      "cells = chaste.cell_based.VecCellPtr()\n",
      "transit_type = chaste.cell_based.TransitCellProliferativeType()\n",
      "cell_generator = chaste.cell_based.CellsGeneratorUniformCellCycleModel_2()\n",
      "cell_generator.GenerateBasicRandom(cells, len(location_indices), transit_type)"
     ],
     "language": "python",
     "metadata": {},
     "outputs": [],
     "prompt_number": 7
    },
    {
     "cell_type": "markdown",
     "metadata": {},
     "source": [
      "Now we have a mesh and a set of cells to go with it, we can create a CellPopulation.\n",
      "In general, this class associates a collection of cells with a set of elements or a mesh.\n",
      "For this test, because we have a MutableMesh, and ghost nodes we use a particular type of cell population called\n",
      "a MeshBasedCellPopulationWithGhostNodes. The third argument of the constructor takes a vector of the indices of the real nodes\n",
      "and should be the same length as the vector of cell pointers.\n",
      "\n"
     ]
    },
    {
     "cell_type": "code",
     "collapsed": false,
     "input": [
      "cell_population = chaste.cell_based.MeshBasedCellPopulationWithGhostNodes2(mesh, cells, location_indices)"
     ],
     "language": "python",
     "metadata": {},
     "outputs": [],
     "prompt_number": 8
    },
    {
     "cell_type": "markdown",
     "metadata": {},
     "source": [
      "Again Paraview output is explicitly requested.\n",
      "\n"
     ]
    },
    {
     "cell_type": "code",
     "collapsed": false,
     "input": [
      "cell_population.AddPopulationWriterVoronoiDataWriter()\n",
      "scene = chaste.visualization.VtkScene2()\n",
      "scene.SetCellPopulation(cell_population)\n",
      "chaste.visualization.vtk_show(scene, 800, 800)"
     ],
     "language": "python",
     "metadata": {},
     "outputs": [
      {
       "metadata": {},
       "output_type": "pyout",
       "png": "[encoded data removed]",
       "prompt_number": 9,
       "text": [
        "<IPython.core.display.Image at 0x7f3653a47050>"
       ]
      }
     ],
     "prompt_number": 9
    },
    {
     "cell_type": "markdown",
     "metadata": {},
     "source": [
      "We then pass in the cell population into an OffLatticeSimulation, and set the output directory, output multiple and end time.\n",
      "\n"
     ]
    },
    {
     "cell_type": "code",
     "collapsed": false,
     "input": [
      "simulator = chaste.cell_based.OffLatticeSimulation2_2(cell_population)\n",
      "simulator.SetOutputDirectory(\"Python/TestMeshBasedCellPopulationWithGhostNodes\")\n",
      "simulator.SetEndTime(10.0)\n",
      "simulator.SetSamplingTimestepMultiple(12)"
     ],
     "language": "python",
     "metadata": {},
     "outputs": [],
     "prompt_number": 10
    },
    {
     "cell_type": "markdown",
     "metadata": {},
     "source": [
      "Again we create a force law, and pass it to the OffLatticeSimulation.\n",
      "This force law ensures that ghost nodes don't exert forces on real nodes but real nodes exert forces on ghost nodes.\n",
      "\n"
     ]
    },
    {
     "cell_type": "code",
     "collapsed": false,
     "input": [
      "force = chaste.cell_based.GeneralisedLinearSpringForce2_2()\n",
      "simulator.AddForce(force)"
     ],
     "language": "python",
     "metadata": {},
     "outputs": [],
     "prompt_number": 11
    },
    {
     "cell_type": "markdown",
     "metadata": {},
     "source": [
      "To run the simulation, we call `Solve()`.\n",
      "\n"
     ]
    },
    {
     "cell_type": "code",
     "collapsed": false,
     "input": [
      "file_handler = chaste.core.OutputFileHandler(\"Python/TestMeshBasedCellSimulationsWithGhostNodesTutorial\")\n",
      "scene.SetSaveAsImages(True)\n",
      "scene.SetOutputFilePath(file_handler.GetOutputDirectoryFullPath() + \"/cell_population\")\n",
      "scene_modifier = chaste.cell_based.VtkSceneModifier2()\n",
      "scene_modifier.SetVtkScene(scene)\n",
      "scene_modifier.SetUpdateFrequency(12)\n",
      "simulator.AddSimulationModifier(scene_modifier)\n",
      "simulator.Solve();"
     ],
     "language": "python",
     "metadata": {},
     "outputs": [],
     "prompt_number": 12
    },
    {
     "cell_type": "code",
     "collapsed": false,
     "input": [
      "chaste.visualization.vtk_show(scene, 800, 800)"
     ],
     "language": "python",
     "metadata": {},
     "outputs": []
    },
    {
     "cell_type": "markdown",
     "metadata": {},
     "source": [
      "The next two lines are for test purposes only and are not part of this tutorial.\n",
      "If different simulation input parameters are being explored the lines should be removed.\n",
      "\n"
     ]
    },
    {
     "cell_type": "code",
     "collapsed": false,
     "input": [
      "# Tear down the test \n",
      "chaste.cell_based.TearDownNotebookTest()"
     ],
     "language": "python",
     "metadata": {},
     "outputs": [],
     "prompt_number": null
    },
    {
     "cell_type": "markdown",
     "metadata": {},
     "source": [
      "To visualize the results, open a new terminal, cd to the Chaste directory, then cd to anim.\n",
      "Then do: java Visualize2dCentreCells /tmp/$USER/testoutput/MeshBasedMonolayerWithGhostNodes/results_from_time_0.\n",
      "\n"
     ]
    },
    {
     "cell_type": "code",
     "collapsed": false,
     "input": [],
     "language": "python",
     "metadata": {},
     "outputs": [],
     "prompt_number": null
    }
   ],
   "metadata": {}
  }
 ]
}