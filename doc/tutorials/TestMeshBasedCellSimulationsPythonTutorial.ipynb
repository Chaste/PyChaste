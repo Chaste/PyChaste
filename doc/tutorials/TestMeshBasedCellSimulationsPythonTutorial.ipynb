{
 "metadata": {
  "name": "",
  "signature": "sha256:2e0e3c597872f0f64127867f644e4c6d6bd38f102d25cb874f2caffbfae2f9b8"
 },
 "nbformat": 3,
 "nbformat_minor": 0,
 "worksheets": [
  {
   "cells": [
    {
     "cell_type": "markdown",
     "metadata": {},
     "source": [
      "This tutorial is automatically generated from the file test/python/cell_based/tutorials/TestMeshBasedCellSimulationsPythonTutorial.py.\n",
      "\n"
     ]
    },
    {
     "cell_type": "code",
     "collapsed": false,
     "input": [
      "# Jupyter notebook specific imports \n",
      "import matplotlib as mpl \n",
      "from IPython import display \n",
      "%matplotlib inline"
     ],
     "language": "python",
     "metadata": {},
     "outputs": [],
     "prompt_number": 1
    },
    {
     "cell_type": "markdown",
     "metadata": {},
     "source": [
      "\n",
      "# Introduction\n",
      "In this tutorial we show how Chaste can be used to create, run and visualize mesh-based simulations.\n",
      "Full details of the mathematical model can be found in van Leeuwen et al. (2009) [doi:10.1111/j.1365-2184.2009.00627.x].\n",
      "\n",
      "## Imports and Setup\n",
      "\n"
     ]
    },
    {
     "cell_type": "code",
     "collapsed": false,
     "input": [
      "import matplotlib.pyplot as plt # Plotting\n",
      "import numpy as np # Matrix tools\n",
      "import chaste # The PyChaste module\n",
      "chaste.init() # Set up MPI\n",
      "import chaste.cell_based # Contains cell populations\n",
      "import chaste.mesh # Contains meshes\n",
      "import chaste.visualization # Visualization tools"
     ],
     "language": "python",
     "metadata": {},
     "outputs": [],
     "prompt_number": 2
    },
    {
     "cell_type": "markdown",
     "metadata": {},
     "source": [
      "## Test 1 - a basic mesh-based simulation\n",
      "In the first test, we run a simple mesh-based simulation,\n",
      "in which we create a monolayer of cells, using a mutable mesh. Each cell is assigned a stochastic cell-cycle model.\n",
      "\n"
     ]
    },
    {
     "cell_type": "code",
     "collapsed": false,
     "input": [
      "# Set up the test \n",
      "chaste.cell_based.SetupNotebookTest()"
     ],
     "language": "python",
     "metadata": {},
     "outputs": [],
     "prompt_number": 3
    },
    {
     "cell_type": "markdown",
     "metadata": {},
     "source": [
      "Next, we generate a mutable mesh. To create a `MutableMesh`, we can use the `HoneycombMeshGenerator`.\n",
      "This generates a honeycomb-shaped mesh, in which all nodes are equidistant. Here the first and second arguments define the size of the mesh -\n",
      "we have chosen a mesh that is 4 nodes (i.e. cells) wide, and 4 nodes high.\n",
      "\n"
     ]
    },
    {
     "cell_type": "code",
     "collapsed": false,
     "input": [
      "file_handler = chaste.core.OutputFileHandler(\"Python/TestMeshBasedCellSimulationsTutorial\", True)\n",
      "generator = chaste.mesh.HoneycombMeshGenerator(4, 4)\n",
      "mesh = generator.GetMesh()"
     ],
     "language": "python",
     "metadata": {},
     "outputs": [],
     "prompt_number": 4
    },
    {
     "cell_type": "markdown",
     "metadata": {},
     "source": [
      "Having created a mesh, we now create some cells. To do this, we use the `CellsGenerator` helper class,\n",
      "which is specialized by the type of cell cycle model required (here `UniformCellCycleModel`) and the dimension.\n",
      "For a list of possible cell cycle models see subclasses of `AbstractCellCycleModel`.\n",
      "Note that some of these models will require information on the surrounding medium such as Oxygen concentration to work,\n",
      "see specific class documentation for details. We create an empty vector of cells and pass this into the method along with the mesh.\n",
      "The second argument represents the size of that the list of cells should become - one cell for each node,\n",
      "the third argument specifies the proliferative type of the cell.\n",
      "\n"
     ]
    },
    {
     "cell_type": "code",
     "collapsed": false,
     "input": [
      "cells = chaste.cell_based.VecCellPtr()\n",
      "transit_type = chaste.cell_based.TransitCellProliferativeType()\n",
      "cell_generator = chaste.cell_based.CellsGeneratorUniformCellCycleModel_2()\n",
      "cell_generator.GenerateBasicRandom(cells, mesh.GetNumNodes(), transit_type)"
     ],
     "language": "python",
     "metadata": {},
     "outputs": [],
     "prompt_number": 5
    },
    {
     "cell_type": "markdown",
     "metadata": {},
     "source": [
      "Now we have a mesh and a set of cells to go with it, we can create a `CellPopulation`.\n",
      "In general, this class associates a collection of cells with a mesh. For this test, because we have a `MutableMesh`,\n",
      "we use a particular type of cell population called a `MeshBasedCellPopulation`.\n",
      "\n"
     ]
    },
    {
     "cell_type": "code",
     "collapsed": false,
     "input": [
      "cell_population = chaste.cell_based.MeshBasedCellPopulation2_2(mesh, cells)"
     ],
     "language": "python",
     "metadata": {},
     "outputs": [],
     "prompt_number": 6
    },
    {
     "cell_type": "markdown",
     "metadata": {},
     "source": [
      "To view the results of this and the next test in Paraview it is necessary to explicitly\n",
      "generate the required .vtu files.\n",
      "\n"
     ]
    },
    {
     "cell_type": "code",
     "collapsed": false,
     "input": [
      "cell_population.AddPopulationWriterVoronoiDataWriter()"
     ],
     "language": "python",
     "metadata": {},
     "outputs": [],
     "prompt_number": 7
    },
    {
     "cell_type": "markdown",
     "metadata": {},
     "source": [
      "We can set up a `VtkScene` to do a quick visualization of the population before running the analysis.\n",
      "\n"
     ]
    },
    {
     "cell_type": "code",
     "collapsed": false,
     "input": [
      "scene = chaste.visualization.VtkScene2()\n",
      "scene.SetCellPopulation(cell_population)\n",
      "nb_manager = chaste.visualization.JupyterNotebookManager()\n",
      "nb_manager.vtk_show(scene, height=600)"
     ],
     "language": "python",
     "metadata": {},
     "outputs": [
      {
       "metadata": {},
       "output_type": "pyout",
       "png": "[encoded data removed]",
       "prompt_number": 8,
       "text": [
        "<IPython.core.display.Image at 0x7fbcaa8b34d0>"
       ]
      }
     ],
     "prompt_number": 8
    },
    {
     "cell_type": "markdown",
     "metadata": {},
     "source": [
      "We then pass in the cell population into an `OffLatticeSimulation`, and set the output directory and end time.\n",
      "\n"
     ]
    },
    {
     "cell_type": "code",
     "collapsed": false,
     "input": [
      "simulator = chaste.cell_based.OffLatticeSimulation2_2(cell_population)\n",
      "simulator.SetOutputDirectory(\"Python/TestMeshBasedCellSimulationsTutorial\")\n",
      "simulator.SetEndTime(10.0)"
     ],
     "language": "python",
     "metadata": {},
     "outputs": [],
     "prompt_number": 9
    },
    {
     "cell_type": "markdown",
     "metadata": {},
     "source": [
      "For longer simulations, we may not want to output the results every time step. In this case we can use the following method,\n",
      "to print results every 12 time steps instead. As the default time step used by the simulator is 30 seconds,\n",
      "this method will cause the simulator to print results every 6 minutes (or 0.1 hours).\n",
      "\n"
     ]
    },
    {
     "cell_type": "code",
     "collapsed": false,
     "input": [
      "simulator.SetSamplingTimestepMultiple(12)"
     ],
     "language": "python",
     "metadata": {},
     "outputs": [],
     "prompt_number": 10
    },
    {
     "cell_type": "markdown",
     "metadata": {},
     "source": [
      "We must now create one or more force laws, which determine the mechanics of the centres of each cell in a cell population.\n",
      "For this test, we use one force law, based on the spring based model, and pass it to the `OffLatticeSimulation`.\n",
      "For a list of possible forces see subclasses of `AbstractForce`. Note that some of these forces are not compatible with mesh-based simulations,\n",
      "see the specific class documentation for details. If you try to use an incompatible class then you will receive a warning.\n",
      "\n"
     ]
    },
    {
     "cell_type": "code",
     "collapsed": false,
     "input": [
      "force = chaste.cell_based.GeneralisedLinearSpringForce2_2()\n",
      "simulator.AddForce(force)"
     ],
     "language": "python",
     "metadata": {},
     "outputs": [],
     "prompt_number": 11
    },
    {
     "cell_type": "markdown",
     "metadata": {},
     "source": [
      "Save snapshot images of the population during the simulation\n",
      "\n"
     ]
    },
    {
     "cell_type": "code",
     "collapsed": false,
     "input": [
      "scene_modifier = chaste.visualization.JupyterSceneModifier2(nb_manager)\n",
      "scene_modifier.SetVtkScene(scene)\n",
      "scene_modifier.SetUpdateFrequency(100)\n",
      "simulator.AddSimulationModifier(scene_modifier)"
     ],
     "language": "python",
     "metadata": {},
     "outputs": [],
     "prompt_number": 12
    },
    {
     "cell_type": "markdown",
     "metadata": {},
     "source": [
      "To run the simulation, we call `Solve()`. We can again do a quick rendering of the population at the end of the simulation\n",
      "\n"
     ]
    },
    {
     "cell_type": "code",
     "collapsed": false,
     "input": [
      "scene.Start()\n",
      "simulator.Solve()\n",
      "scene.End()\n",
      "# Tear down the test \n",
      "chaste.cell_based.TearDownNotebookTest()"
     ],
     "language": "python",
     "metadata": {},
     "outputs": [
      {
       "metadata": {},
       "output_type": "display_data",
       "png": "[encoded data removed]",
       "text": [
        "<IPython.core.display.Image at 0x7fbcaa8b3b50>"
       ]
      }
     ],
     "prompt_number": 13
    },
    {
     "cell_type": "markdown",
     "metadata": {},
     "source": [
      "Full results can be visualized in Paraview from the `file_handler.GetOutputDirectoryFullPath()` directory.\n",
      "\n",
      "## Test 2 -  a basic mesh-based simulation with ghost nodes\n",
      "In the second test, we run a simple mesh-based simulation with ghost nodes, in which we create a monolayer of cells, using a mutable mesh.\n",
      "Each cell is assigned a stochastic cell-cycle model.\n",
      "\n"
     ]
    },
    {
     "cell_type": "code",
     "collapsed": false,
     "input": [
      "# Set up the test \n",
      "chaste.cell_based.SetupNotebookTest()"
     ],
     "language": "python",
     "metadata": {},
     "outputs": [],
     "prompt_number": 14
    },
    {
     "cell_type": "markdown",
     "metadata": {},
     "source": [
      "We start by generating a mutable mesh. To create a `MutableMesh`, we can use the `HoneycombMeshGenerator` as before.\n",
      "Here the first and second arguments define the size of the mesh - we have chosen a mesh that is 2 nodes (i.e. cells) wide,\n",
      "and 2 nodes high. The third argument specifies the number of layers of ghost nodes to make.\n",
      "\n"
     ]
    },
    {
     "cell_type": "code",
     "collapsed": false,
     "input": [
      "file_handler = chaste.core.OutputFileHandler(\"Python/TestMeshBasedCellPopulationWithGhostNodes\")\n",
      "generator = chaste.mesh.HoneycombMeshGenerator(5, 5, 2)\n",
      "mesh = generator.GetMesh()"
     ],
     "language": "python",
     "metadata": {},
     "outputs": [],
     "prompt_number": 15
    },
    {
     "cell_type": "markdown",
     "metadata": {},
     "source": [
      "We only want to create cells to attach to real nodes, so we use the method `GetCellLocationIndices` to get the\n",
      "indices of the real nodes in the mesh. This will be passed in to the cell population later on.\n",
      "\n"
     ]
    },
    {
     "cell_type": "code",
     "collapsed": false,
     "input": [
      "location_indices = generator.GetCellLocationIndices()"
     ],
     "language": "python",
     "metadata": {},
     "outputs": [],
     "prompt_number": 16
    },
    {
     "cell_type": "markdown",
     "metadata": {},
     "source": [
      "Having created a mesh, we now create some cells. To do this, we use the `CellsGenerator` helper class again.\n",
      "This time the second argument is different and is the number of real nodes in the mesh.\n",
      "As before all cells have `TransitCellProliferativeType`.\n",
      "\n"
     ]
    },
    {
     "cell_type": "code",
     "collapsed": false,
     "input": [
      "cells = chaste.cell_based.VecCellPtr()\n",
      "transit_type = chaste.cell_based.TransitCellProliferativeType()\n",
      "cell_generator = chaste.cell_based.CellsGeneratorUniformCellCycleModel_2()\n",
      "cell_generator.GenerateBasicRandom(cells, len(location_indices), transit_type)"
     ],
     "language": "python",
     "metadata": {},
     "outputs": [],
     "prompt_number": 17
    },
    {
     "cell_type": "markdown",
     "metadata": {},
     "source": [
      "Now we have a mesh and a set of cells to go with it, we can create a `CellPopulation`.\n",
      "In general, this class associates a collection of cells with a set of elements or a mesh.\n",
      "For this test, because we have a `MutableMesh`, and ghost nodes we use a particular type of cell population called\n",
      "a `MeshBasedCellPopulationWithGhostNodes`. The third argument of the constructor takes a vector of the indices of the real nodes\n",
      "and should be the same length as the vector of cell pointers.\n",
      "\n"
     ]
    },
    {
     "cell_type": "code",
     "collapsed": false,
     "input": [
      "cell_population = chaste.cell_based.MeshBasedCellPopulationWithGhostNodes2(mesh, cells, location_indices)"
     ],
     "language": "python",
     "metadata": {},
     "outputs": [],
     "prompt_number": 18
    },
    {
     "cell_type": "markdown",
     "metadata": {},
     "source": [
      "Again Paraview output is explicitly requested.\n",
      "\n"
     ]
    },
    {
     "cell_type": "code",
     "collapsed": false,
     "input": [
      "cell_population.AddPopulationWriterVoronoiDataWriter()"
     ],
     "language": "python",
     "metadata": {},
     "outputs": [],
     "prompt_number": 19
    },
    {
     "cell_type": "markdown",
     "metadata": {},
     "source": [
      "We can set up a `VtkScene` to do a quick visualization of the population before running the analysis.\n",
      "\n"
     ]
    },
    {
     "cell_type": "code",
     "collapsed": false,
     "input": [
      "scene = chaste.visualization.VtkScene2()\n",
      "scene.SetCellPopulation(cell_population)\n",
      "scene.GetCellPopulationActorGenerator().SetShowVoronoiMeshEdges(True)\n",
      "nb_manager.vtk_show(scene, height=600)"
     ],
     "language": "python",
     "metadata": {},
     "outputs": [
      {
       "metadata": {},
       "output_type": "pyout",
       "png": "[encoded data removed]",
       "prompt_number": 20,
       "text": [
        "<IPython.core.display.Image at 0x7fbcaa8b3a50>"
       ]
      }
     ],
     "prompt_number": 20
    },
    {
     "cell_type": "markdown",
     "metadata": {},
     "source": [
      "We then pass in the cell population into an `OffLatticeSimulation`, and set the output directory, output multiple and end time.\n",
      "\n"
     ]
    },
    {
     "cell_type": "code",
     "collapsed": false,
     "input": [
      "simulator = chaste.cell_based.OffLatticeSimulation2_2(cell_population)\n",
      "simulator.SetOutputDirectory(\"Python/TestMeshBasedCellPopulationWithGhostNodes\")\n",
      "simulator.SetEndTime(10.0)\n",
      "simulator.SetSamplingTimestepMultiple(12)"
     ],
     "language": "python",
     "metadata": {},
     "outputs": [],
     "prompt_number": 21
    },
    {
     "cell_type": "markdown",
     "metadata": {},
     "source": [
      "Save snapshot images of the population during the simulation\n",
      "\n"
     ]
    },
    {
     "cell_type": "code",
     "collapsed": false,
     "input": [
      "scene_modifier = chaste.visualization.JupyterSceneModifier2(nb_manager)\n",
      "scene_modifier.SetVtkScene(scene)\n",
      "scene_modifier.SetUpdateFrequency(300)\n",
      "simulator.AddSimulationModifier(scene_modifier)"
     ],
     "language": "python",
     "metadata": {},
     "outputs": [],
     "prompt_number": 22
    },
    {
     "cell_type": "markdown",
     "metadata": {},
     "source": [
      "Again we create a force law, and pass it to the `OffLatticeSimulation`.\n",
      "This force law ensures that ghost nodes don't exert forces on real nodes but real nodes exert forces on ghost nodes.\n",
      "\n"
     ]
    },
    {
     "cell_type": "code",
     "collapsed": false,
     "input": [
      "force = chaste.cell_based.GeneralisedLinearSpringForce2_2()\n",
      "simulator.AddForce(force)"
     ],
     "language": "python",
     "metadata": {},
     "outputs": [],
     "prompt_number": 23
    },
    {
     "cell_type": "markdown",
     "metadata": {},
     "source": [
      "To run the simulation, we call `Solve()`.\n",
      "\n"
     ]
    },
    {
     "cell_type": "code",
     "collapsed": false,
     "input": [
      "scene.Start()\n",
      "simulator.Solve()"
     ],
     "language": "python",
     "metadata": {},
     "outputs": [
      {
       "metadata": {},
       "output_type": "display_data",
       "png": "[encoded data removed]",
       "text": [
        "<IPython.core.display.Image at 0x7fbcaa8a4650>"
       ]
      }
     ],
     "prompt_number": 24
    },
    {
     "cell_type": "markdown",
     "metadata": {},
     "source": [
      "The next two lines are for test purposes only and are not part of this tutorial.\n",
      "If different simulation input parameters are being explored the lines should be removed.\n",
      "\n"
     ]
    },
    {
     "cell_type": "code",
     "collapsed": false,
     "input": [
      "# Tear down the test \n",
      "chaste.cell_based.TearDownNotebookTest()"
     ],
     "language": "python",
     "metadata": {},
     "outputs": [],
     "prompt_number": 25
    },
    {
     "cell_type": "markdown",
     "metadata": {},
     "source": [
      "Full results can be visualized in Paraview from the `file_handler.GetOutputDirectoryFullPath()` directory.\n",
      "\n"
     ]
    }
   ],
   "metadata": {}
  }
 ]
}