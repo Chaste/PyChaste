{
 "metadata": {
  "name": "",
  "signature": "sha256:ebc1b946ba07feb80d50c0b7733ecfd94b272404ba14d56aef168d91ea8b8b59"
 },
 "nbformat": 3,
 "nbformat_minor": 0,
 "worksheets": [
  {
   "cells": [
    {
     "cell_type": "markdown",
     "metadata": {},
     "source": [
      "This tutorial is automatically generated from the file test/python/cell_based/tutorials/TestTensileTestTutorial.py.\n",
      "\n"
     ]
    },
    {
     "cell_type": "code",
     "collapsed": false,
     "input": [
      "# Jupyter notebook specific imports \n",
      "import matplotlib as mpl \n",
      "import matplotlib.pyplot as plt \n",
      "%matplotlib inline"
     ],
     "language": "python",
     "metadata": {},
     "outputs": [],
     "prompt_number": 1
    },
    {
     "cell_type": "markdown",
     "metadata": {},
     "source": [
      "\n",
      "# Introduction\n",
      "In this tutorial we will demonstrate a simulated tensile test on an epithelial sheet. This test\n",
      "demonstrates:\n",
      " * Working with vertex based off lattice populations\n",
      " * Applying boundary conditions\n",
      " * Working with forces\n",
      " \n",
      "## The Test\n",
      "\n"
     ]
    },
    {
     "cell_type": "code",
     "collapsed": false,
     "input": [
      "import numpy as np\n",
      "import chaste\n",
      "chaste.init()\n",
      "import chaste.cell_based\n",
      "import chaste.mesh\n",
      "import chaste.visualization"
     ],
     "language": "python",
     "metadata": {},
     "outputs": [],
     "prompt_number": 2
    },
    {
     "cell_type": "markdown",
     "metadata": {},
     "source": [
      "## Test 1 - A 2d test\n",
      "\n"
     ]
    },
    {
     "cell_type": "markdown",
     "metadata": {},
     "source": [
      "First, we generate a vertex mesh using a HoneycombVertexMeshGenerator.\n",
      "\n"
     ]
    },
    {
     "cell_type": "code",
     "collapsed": false,
     "input": [
      "# Set up the test \n",
      "chaste.cell_based.SetupNotebookTest()\n",
      "\n",
      "generator = chaste.mesh.HoneycombVertexMeshGenerator(5, 15)\n",
      "mesh = generator.GetMesh()"
     ],
     "language": "python",
     "metadata": {},
     "outputs": [],
     "prompt_number": 3
    },
    {
     "cell_type": "markdown",
     "metadata": {},
     "source": [
      "Now set up the cells, again we want to avoid proliferation.\n",
      "\n"
     ]
    },
    {
     "cell_type": "code",
     "collapsed": false,
     "input": [
      "cells = chaste.cell_based.VecCellPtr()\n",
      "differentiated_type = chaste.cell_based.DifferentiatedCellProliferativeType()\n",
      "cell_generator = chaste.cell_based.CellsGeneratorUniformG1GenerationalCellCycleModel_2()\n",
      "cell_generator.GenerateBasicRandom(cells, mesh.GetNumElements(), differentiated_type)"
     ],
     "language": "python",
     "metadata": {},
     "outputs": [],
     "prompt_number": 4
    },
    {
     "cell_type": "markdown",
     "metadata": {},
     "source": [
      "Next, create the cell population\n",
      "\n"
     ]
    },
    {
     "cell_type": "code",
     "collapsed": false,
     "input": [
      "cell_population = chaste.cell_based.VertexBasedCellPopulation2(mesh, cells)"
     ],
     "language": "python",
     "metadata": {},
     "outputs": [],
     "prompt_number": 5
    },
    {
     "cell_type": "markdown",
     "metadata": {},
     "source": [
      "PyChaste can do simple 3D rendering with VTK. We set up a VtkScene so that we can see the population evovle in real time."
     ]
    },
    {
     "cell_type": "code",
     "collapsed": false,
     "input": [
      "scene= chaste.visualization.VtkScene2()\n",
      "scene.SetCellPopulation(cell_population)\n",
      "nb_manager = chaste.visualization.JupyterNotebookManager()\n",
      "nb_manager.vtk_show(scene, height=600)"
     ],
     "language": "python",
     "metadata": {},
     "outputs": [
      {
       "metadata": {},
       "output_type": "pyout",
       "png": "[encoded data removed]",
       "prompt_number": 6,
       "text": [
        "<IPython.core.display.Image at 0x7f494a777290>"
       ]
      }
     ],
     "prompt_number": 6
    },
    {
     "cell_type": "markdown",
     "metadata": {},
     "source": [
      "Pass the cell population into an `OffLatticeSimulation`, and set the output directory, output multiple and end time\n",
      "\n"
     ]
    },
    {
     "cell_type": "code",
     "collapsed": false,
     "input": [
      "simulator = chaste.cell_based.OffLatticeSimulation2_2(cell_population)\n",
      "simulator.SetOutputDirectory(\"Python/TestTensileTest\")\n",
      "simulator.SetEndTime(2.0)\n",
      "simulator.SetSamplingTimestepMultiple(200)"
     ],
     "language": "python",
     "metadata": {},
     "outputs": [],
     "prompt_number": 7
    },
    {
     "cell_type": "markdown",
     "metadata": {},
     "source": [
      "Now create a force law\n",
      "\n"
     ]
    },
    {
     "cell_type": "code",
     "collapsed": false,
     "input": [
      "force = chaste.cell_based.NagaiHondaForce2()\n",
      "simulator.AddForce(force)"
     ],
     "language": "python",
     "metadata": {},
     "outputs": [],
     "prompt_number": 8
    },
    {
     "cell_type": "markdown",
     "metadata": {},
     "source": [
      "A NagaiHondaForce assumes that each cell has a target area. The target areas of cells are used to determine\n",
      "pressure forces on each vertex and eventually determine the size of each cell in the simulation.\n",
      "In order to assign target areas to cells and update them in each time step we add a SimpleTargetAreaModifier\n",
      "to the simulation, which inherits from AbstractTargetAreaModifier.\n",
      "\n"
     ]
    },
    {
     "cell_type": "code",
     "collapsed": false,
     "input": [
      "growth_modifier = chaste.cell_based.SimpleTargetAreaModifier2()\n",
      "simulator.AddSimulationModifier(growth_modifier)"
     ],
     "language": "python",
     "metadata": {},
     "outputs": [],
     "prompt_number": 9
    },
    {
     "cell_type": "markdown",
     "metadata": {},
     "source": [
      "For our tensile test we will fix the bottom of the sheet and subject the top to an applied displacement. We neglect\n",
      "fixing lateral degress of freedom for simplicity, since we are using an over-damped mechanical model.\n",
      "\n"
     ]
    },
    {
     "cell_type": "code",
     "collapsed": false,
     "input": [
      "point = (0.0, 0.0)\n",
      "normal = (0.0, -1.0)\n",
      "bc = chaste.cell_based.AttractingPlaneBoundaryCondition2_2(cell_population, point, normal)\n",
      "simulator.AddCellPopulationBoundaryCondition(bc)\n",
      "point = (0.0, 13.3)\n",
      "normal = (0.0, 1.0)\n",
      "bc2 = chaste.cell_based.AttractingPlaneBoundaryCondition2_2(cell_population, point, normal)\n",
      "simulator.AddCellPopulationBoundaryCondition(bc2)"
     ],
     "language": "python",
     "metadata": {},
     "outputs": [],
     "prompt_number": 10
    },
    {
     "cell_type": "markdown",
     "metadata": {},
     "source": [
      "We want to displace our top boundary over time. We could write a custom boundary condition class to do this.\n",
      "A more simple alternative is to modify the the position of the point describing our boundary plane in `bc2`\n",
      "as the simulation progresses. As per earlier tutorials we make a new `SimulationModifier` class to do this.\n",
      "\n"
     ]
    },
    {
     "cell_type": "code",
     "collapsed": false,
     "input": [
      "class BoundaryConditionModifier(chaste.cell_based.AbstractCellBasedSimulationModifier2_2):\n",
      "\n",
      "    \"\"\" Class for time varying boundary conditions\n",
      "    \"\"\"\n",
      "\n",
      "    def __init__(self, boundary_condition):\n",
      "        self.boundary_condition = boundary_condition\n",
      "        self.original_location = boundary_condition.rGetPointOnPlane()\n",
      "        self.velocity = 0.5 # cell lengths per time\n",
      "        super(BoundaryConditionModifier, self).__init__()\n",
      "\n",
      "    def UpdateAtEndOfTimeStep(self, cell_population):\n",
      "\n",
      "        \"\"\" Move the boundary upwards at the specified velocity\n",
      "        \"\"\"\n",
      "\n",
      "        total_time = chaste.cell_based.SimulationTime.Instance().GetTime()\n",
      "        new_location = [self.original_location[0], self.original_location[1]+self.velocity*total_time]\n",
      "        self.boundary_condition.SetPointOnPlane(np.array(new_location))\n",
      "\n",
      "    def SetupSolve(self, cell_population, output_directory):\n",
      "\n",
      "        \"\"\" Make sure the cell population is in the correct state at the start of the simulation\n",
      "        \"\"\"\n",
      "\n",
      "        cell_population.Update()\n",
      "\n",
      "    def OutputSimulationModifierParameters(self, rParamsFile):\n",
      "\n",
      "        \"\"\" This needs to be explicitly over-ridden as the C++ method is pure virtual.\n",
      "        \"\"\"\n",
      "\n",
      "        pass \n",
      "bc_modifier = BoundaryConditionModifier(bc2)\n",
      "simulator.AddSimulationModifier(bc_modifier)"
     ],
     "language": "python",
     "metadata": {},
     "outputs": [],
     "prompt_number": 11
    },
    {
     "cell_type": "markdown",
     "metadata": {},
     "source": [
      "Save snapshot images of the population during the simulation\n",
      "\n"
     ]
    },
    {
     "cell_type": "code",
     "collapsed": false,
     "input": [
      "scene_modifier = chaste.visualization.JupyterSceneModifier2(nb_manager)\n",
      "scene_modifier.SetVtkScene(scene)\n",
      "scene_modifier.SetUpdateFrequency(1000)\n",
      "simulator.AddSimulationModifier(scene_modifier)"
     ],
     "language": "python",
     "metadata": {},
     "outputs": [],
     "prompt_number": 12
    },
    {
     "cell_type": "markdown",
     "metadata": {},
     "source": [
      "To run the simulation, we call `Solve()`.\n",
      "\n"
     ]
    },
    {
     "cell_type": "code",
     "collapsed": false,
     "input": [
      "scene.Start()\n",
      "simulator.Solve();"
     ],
     "language": "python",
     "metadata": {},
     "outputs": [
      {
       "metadata": {},
       "output_type": "display_data",
       "png": "[encoded data removed]",
       "text": [
        "<IPython.core.display.Image at 0x7f494a7775d0>"
       ]
      }
     ],
     "prompt_number": 13
    },
    {
     "cell_type": "code",
     "collapsed": false,
     "input": [],
     "language": "python",
     "metadata": {},
     "outputs": []
    }
   ],
   "metadata": {}
  }
 ]
}