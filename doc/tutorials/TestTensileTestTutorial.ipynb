{
 "cells": [
  {
   "cell_type": "markdown",
   "metadata": {},
   "source": [
    "This tutorial is automatically generated from the file test/python/cell_based/tutorials/TestTensileTestTutorial.py.\n",
    "\n"
   ]
  },
  {
   "cell_type": "code",
   "execution_count": null,
   "metadata": {},
   "outputs": [],
   "source": [
    "# Jupyter notebook specific imports \n",
    "import matplotlib as mpl \n",
    "import matplotlib.pyplot as plt \n",
    "%matplotlib inline"
   ]
  },
  {
   "cell_type": "markdown",
   "metadata": {},
   "source": [
    "\n",
    "# Introduction\n",
    "In this tutorial we will demonstrate a simulated tensile test on an epithelial sheet. This test\n",
    "demonstrates:\n",
    " * Working with vertex based off lattice populations\n",
    " * Applying boundary conditions\n",
    " * Working with forces\n",
    " \n",
    "## The Test\n",
    "\n"
   ]
  },
  {
   "cell_type": "code",
   "execution_count": null,
   "metadata": {},
   "outputs": [],
   "source": [
    "import numpy as np\n",
    "import chaste.core\n",
    "chaste.init()\n",
    "import chaste.cell_based\n",
    "import chaste.mesh\n",
    "import chaste.visualization"
   ]
  },
  {
   "cell_type": "markdown",
   "metadata": {},
   "source": [
    "## Test 1 - A 2d test\n",
    "\n"
   ]
  },
  {
   "cell_type": "markdown",
   "metadata": {},
   "source": [
    "First, we generate a vertex mesh using a HoneycombVertexMeshGenerator.\n",
    "\n"
   ]
  },
  {
   "cell_type": "code",
   "execution_count": null,
   "metadata": {},
   "outputs": [],
   "source": [
    "generator = chaste.mesh.HoneycombVertexMeshGenerator(5, 15)\n",
    "mesh = generator.GetMesh()"
   ]
  },
  {
   "cell_type": "markdown",
   "metadata": {},
   "source": [
    "Now set up the cells, again we want to avoid proliferation.\n",
    "\n"
   ]
  },
  {
   "cell_type": "code",
   "execution_count": null,
   "metadata": {},
   "outputs": [],
   "source": [
    "cells = chaste.cell_based.VecCellPtr()\n",
    "differentiated_type = chaste.cell_based.DifferentiatedCellProliferativeType()\n",
    "cell_generator = chaste.cell_based.CellsGeneratorUniformG1GenerationalCellCycleModel_2()\n",
    "cell_generator.GenerateBasicRandom(cells, mesh.GetNumElements(), differentiated_type)"
   ]
  },
  {
   "cell_type": "markdown",
   "metadata": {},
   "source": [
    "Next, create the cell population\n",
    "\n"
   ]
  },
  {
   "cell_type": "code",
   "execution_count": null,
   "metadata": {},
   "outputs": [],
   "source": [
    "cell_population = chaste.cell_based.VertexBasedCellPopulation2(mesh, cells)"
   ]
  },
  {
   "cell_type": "markdown",
   "metadata": {},
   "source": [
    "Pass the cell population into an `OffLatticeSimulation`, and set the output directory, output multiple and end time\n",
    "\n"
   ]
  },
  {
   "cell_type": "code",
   "execution_count": null,
   "metadata": {},
   "outputs": [],
   "source": [
    "simulator = chaste.cell_based.OffLatticeSimulation2_2(cell_population)\n",
    "simulator.SetOutputDirectory(\"Python/TestTensileTest\")\n",
    "simulator.SetEndTime(2.0)\n",
    "simulator.SetSamplingTimestepMultiple(50)"
   ]
  },
  {
   "cell_type": "markdown",
   "metadata": {},
   "source": [
    "Now create a force law\n",
    "\n"
   ]
  },
  {
   "cell_type": "code",
   "execution_count": null,
   "metadata": {},
   "outputs": [],
   "source": [
    "force = chaste.cell_based.NagaiHondaForce2()\n",
    "simulator.AddForce(force)"
   ]
  },
  {
   "cell_type": "markdown",
   "metadata": {},
   "source": [
    "A NagaiHondaForce assumes that each cell has a target area. The target areas of cells are used to determine\n",
    "pressure forces on each vertex and eventually determine the size of each cell in the simulation.\n",
    "In order to assign target areas to cells and update them in each time step we add a SimpleTargetAreaModifier\n",
    "to the simulation, which inherits from AbstractTargetAreaModifier.\n",
    "\n"
   ]
  },
  {
   "cell_type": "code",
   "execution_count": null,
   "metadata": {},
   "outputs": [],
   "source": [
    "growth_modifier = chaste.cell_based.SimpleTargetAreaModifier2()\n",
    "simulator.AddSimulationModifier(growth_modifier)"
   ]
  },
  {
   "cell_type": "markdown",
   "metadata": {},
   "source": [
    "For our tensile test we will fix the bottom of the sheet and subject the top to an applied displacement. We neglect\n",
    "fixing lateral degress of freedom for simplicity, since we are using an over-damped mechanical model.\n",
    "\n"
   ]
  },
  {
   "cell_type": "code",
   "execution_count": null,
   "metadata": {},
   "outputs": [],
   "source": [
    "point = (0.0, 0.0)\n",
    "normal = (0.0, -1.0)\n",
    "bc = chaste.cell_based.AttractingPlaneBoundaryCondition2_2(cell_population, point, normal)\n",
    "simulator.AddCellPopulationBoundaryCondition(bc)\n",
    "normal = (0.0, 1.0)\n",
    "bc2 = chaste.cell_based.AttractingPlaneBoundaryCondition2_2(cell_population, point, normal)\n",
    "simulator.AddCellPopulationBoundaryCondition(bc2)"
   ]
  },
  {
   "cell_type": "markdown",
   "metadata": {},
   "source": [
    "We want to displace our top boundary over time. We could write a custom boundary condition class to do this.\n",
    "A more simple alternative is to modify the the position of the point describing our boundary plane in `bc2`\n",
    "as the simulation progresses. As per earlier tutorials we make a new `SimulationModifier` class to do this.\n",
    "\n"
   ]
  },
  {
   "cell_type": "code",
   "execution_count": null,
   "metadata": {},
   "outputs": [],
   "source": [
    "    \"\"\" Class for time varying boundary conditions\n",
    "    \"\"\"\n",
    "        self.boundary_condition = boundary_condition\n",
    "        self.original_location = boundary_condition.rGetPointOnPlane()\n",
    "        self.velocity = 0.5 # cell lengths per time\n",
    "        super(BoundaryConditionModifier, self).__init__()\n",
    "        \"\"\" Move the boundary upwards at the specified velocity\n",
    "        \"\"\"\n",
    "        total_time = chaste.cell_based.SimulationTime.Instance().GetTime()\n",
    "        new_location = [self.original_location[0], self.original_location[1]+self.velocity*total_time]\n",
    "        self.boundary_condition.SetPointOnPlane(np.array(new_location))\n",
    "        \"\"\" Make sure the cell population is in the correct state at the start of the simulation\n",
    "        \"\"\"\n",
    "        cell_population.Update()\n",
    "        \"\"\" This needs to be explicitly over-ridden as the C++ method is pure virtual.\n",
    "        \"\"\"\n",
    "        pass\n",
    "bc_modifier = BoundaryConditionModifier(bc2)\n",
    "simulator.AddSimulationModifier(bc_modifier)"
   ]
  },
  {
   "cell_type": "markdown",
   "metadata": {},
   "source": [
    "PyChaste can do simple 3D rendering with VTK. We set up a `VtkScene` so that we can see the population\n",
    "evovle in real time.\n",
    "\n"
   ]
  },
  {
   "cell_type": "code",
   "execution_count": null,
   "metadata": {},
   "outputs": [],
   "source": [
    "scene= chaste.visualization.VtkScene2()\n",
    "scene.SetIsInteractive(True)\n",
    "scene.SetCellPopulation(cell_population)"
   ]
  },
  {
   "cell_type": "markdown",
   "metadata": {},
   "source": [
    "Save snapshot images of the population during the simulation\n",
    "\n"
   ]
  },
  {
   "cell_type": "code",
   "execution_count": null,
   "metadata": {},
   "outputs": [],
   "source": [
    "scene_modifier = chaste.cell_based.VtkSceneModifier2()\n",
    "scene_modifier.SetVtkScene(scene)\n",
    "scene_modifier.SetUpdateFrequency(100)\n",
    "simulator.AddSimulationModifier(scene_modifier)"
   ]
  },
  {
   "cell_type": "markdown",
   "metadata": {},
   "source": [
    "To run the simulation, we call `Solve()`.\n",
    "\n"
   ]
  },
  {
   "cell_type": "code",
   "execution_count": null,
   "metadata": {},
   "outputs": [],
   "source": [
    "scene.Start()\n",
    "simulator.Solve();\n",
    "scene.StartInteractiveEventHandler()"
   ]
  }
 ],
 "metadata": {},
 "nbformat": 4,
 "nbformat_minor": 1
}
