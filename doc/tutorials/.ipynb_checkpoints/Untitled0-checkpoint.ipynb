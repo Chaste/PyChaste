{
 "metadata": {
  "name": "",
  "signature": "sha256:2b386d787a80bcbe089e8bd6ba879e25dfe1cd79be11c4dc79a9a4ba1ea579a6"
 },
 "nbformat": 3,
 "nbformat_minor": 0,
 "worksheets": [
  {
   "cells": [
    {
     "cell_type": "code",
     "collapsed": false,
     "input": [
      "from IPython.display import Image, HTML, display\n",
      "from six.moves import StringIO\n",
      "library_javascript = StringIO()\n",
      "with open(\"/home/grogan/index.html\") as infile:\n",
      "    library_javascript.write(infile.read())\n",
      "display(HTML(library_javascript.getvalue()))"
     ],
     "language": "python",
     "metadata": {},
     "outputs": []
    }
   ],
   "metadata": {}
  }
 ]
}