{
 "cells": [
  {
   "cell_type": "markdown",
   "id": "73f1bc0d",
   "metadata": {},
   "source": [
    "This tutorial is automatically generated from the file /home/kwabena/repo/PyChaste/test/python/cell_based/tutorials/TestImmersedBoundaryTutorial.py.\n",
    "\n"
   ]
  },
  {
   "cell_type": "code",
   "execution_count": null,
   "id": "529189e2",
   "metadata": {},
   "outputs": [],
   "source": [
    "# Jupyter notebook specific imports \n",
    "import matplotlib as mpl \n",
    "from IPython import display \n",
    "%matplotlib inline"
   ]
  },
  {
   "cell_type": "markdown",
   "id": "8be0f7bf",
   "metadata": {},
   "source": [
    "\n",
    "## Introduction\n",
    "This tutorial is a demonstration of the immersed boundary method, a technique\n",
    "for simulating fluid-structure interactions. We can use the immersed boundary\n",
    "method to simulate a cell as a structure with its outer **boundary immersed**\n",
    "in a fluid. There is a two-way coupling between the fluid and the structure:\n",
    "the flow of the fluid exerts a force on the structure, and the structure\n",
    "influences the flow of the fluid.\n",
    "\n",
    "In this tutorial, we demonstrate how to:\n",
    "1. Building single cell immersed boundary capable simulations.\n",
    "2. Multi-cellular simulations.\n",
    "3. Adding and manipulating fluid sources.\n",
    "\n",
    "## Imports\n",
    "\n"
   ]
  },
  {
   "cell_type": "code",
   "execution_count": null,
   "id": "7a08f7af",
   "metadata": {},
   "outputs": [],
   "source": [
    "import chaste\n",
    "chaste.init() # setup MPI\n",
    "from chaste.cell_based import (\n",
    "    AbstractCellBasedTestSuite,\n",
    "    CellsGeneratorUniformCellCycleModel_2,\n",
    "    DifferentiatedCellProliferativeType,\n",
    "    ForwardEulerNumericalMethod2_2,\n",
    "    ImmersedBoundaryCellPopulation2,\n",
    "    ImmersedBoundaryLinearMembraneForce2,\n",
    "    ImmersedBoundarySimulationModifier2,\n",
    "    OffLatticeSimulation2_2,\n",
    "    SimulationTime,\n",
    "    TearDownNotebookTest,\n",
    ")\n",
    "from chaste.mesh import ImmersedBoundaryPalisadeMeshGenerator\n",
    "import chaste.visualization"
   ]
  },
  {
   "cell_type": "markdown",
   "id": "1d63ea78",
   "metadata": {},
   "source": [
    "### Simple Immersed Boundary Simulations\n",
    "We begin by exploring simulations containing a single cell. This will\n",
    "familiarise you with how to generate immersed boundary cells, the steps\n",
    "involved in setting up an immersed boundary simulation, and the options\n",
    "available for controlling how the cells are generated and behave.\n",
    "\n",
    "Immersed boundary simulations operate over a square domain, with `x` and `y`\n",
    "coordinates lying in the range `0` to `1`. The domain wraps on both axes -\n",
    "this means that if a cell moves off the right hand edge of the domain,\n",
    "the segment will appear on the left hand side. This is not purely visual;\n",
    "forces are also transmitted across these boundaries.\n",
    "\n",
    " **Tip** Make sure all your coordinates are between `0` and `1`.\n",
    "\n"
   ]
  },
  {
   "cell_type": "markdown",
   "id": "5720be7d",
   "metadata": {},
   "source": [
    "#### The First Cell\n",
    "\n"
   ]
  },
  {
   "cell_type": "code",
   "execution_count": null,
   "id": "0d525101",
   "metadata": {},
   "outputs": [],
   "source": [
    "#Set the start time for the simulation\n",
    "SimulationTime.Instance().SetStartTime(0.0)"
   ]
  },
  {
   "cell_type": "markdown",
   "id": "960941ed",
   "metadata": {},
   "source": [
    " **Tip** Lines of code beginning with `#` are comments in Python\n",
    " \n",
    "Next, we define the necessary geometry.\n",
    "\n"
   ]
  },
  {
   "cell_type": "code",
   "execution_count": null,
   "id": "dc8534c6",
   "metadata": {},
   "outputs": [],
   "source": [
    "# Generate a mesh containing a single cell\n",
    "gen = ImmersedBoundaryPalisadeMeshGenerator(1, 128, 0.1, 2.0, 0.0, False)\n",
    "mesh = gen.GetMesh()"
   ]
  },
  {
   "cell_type": "markdown",
   "id": "b3445932",
   "metadata": {},
   "source": [
    "The first line of code defines an `ImmersedBoundaryPalisadeMeshGenerator`\n",
    "called `gen`. The 3rd and 4th parameters control the exponent of the\n",
    "superellipse(`0.1`) and the aspect ratio of the cell(`2.0`). You can\n",
    "experiment with modifying these to change the initial shape of the cell.\n",
    "\n",
    "The second line of code instructs the mesh generator to generate a mesh.\n",
    "Checking the type of mesh with `type(mesh)` will show it as\n",
    "`ImmersedBoundaryMesh2_2`. The `2_2` suffix denotes that we are using\n",
    "a 2-dimensional space, and 2-dimensional elements to define the mesh.\n",
    "\n",
    "We now set the fluid grid resolution. The following code specifies\n",
    "that we are using a 64x64 grid to simulate our fluid over.\n",
    "\n"
   ]
  },
  {
   "cell_type": "code",
   "execution_count": null,
   "id": "699122f4",
   "metadata": {},
   "outputs": [],
   "source": [
    "#Set the fluid grid resolution\n",
    "mesh.SetNumGridPtsXAndY(64)"
   ]
  },
  {
   "cell_type": "markdown",
   "id": "4a9e3a83",
   "metadata": {},
   "source": [
    "Next, we set up the cell population\n",
    "\n"
   ]
  },
  {
   "cell_type": "code",
   "execution_count": null,
   "id": "1624795b",
   "metadata": {},
   "outputs": [],
   "source": [
    "# Generate the cells\n",
    "cell_type = DifferentiatedCellProliferativeType()\n",
    "cell_generator = CellsGeneratorUniformCellCycleModel_2()\n",
    "cells = cell_generator.GenerateBasicRandom(mesh.GetNumElements(), cell_type)\n",
    "# Set up the cell population\n",
    "cell_population = ImmersedBoundaryCellPopulation2(mesh, cells)"
   ]
  },
  {
   "cell_type": "markdown",
   "id": "3c7939e3",
   "metadata": {},
   "source": [
    "We specify a cell type and cell cycle model. These can be\n",
    "interchanged to modify the life cycle of the cells. The\n",
    "`CellsGenerator` then constructs the necessary information for each\n",
    "of the elements in the mesh. Finally, we construct an\n",
    "`ImmersedBoundaryCellPopulation`. We then specify whether the\n",
    "population has active fluid sources or not. For now, we are not\n",
    "using any fluid sources, so we set this to false\n",
    "\n"
   ]
  },
  {
   "cell_type": "code",
   "execution_count": null,
   "id": "38158696",
   "metadata": {},
   "outputs": [],
   "source": [
    "# Specify whether the population has active fluid sources\n",
    "cell_population.SetIfPopulationHasActiveSources(False)"
   ]
  },
  {
   "cell_type": "markdown",
   "id": "2d2d95a1",
   "metadata": {},
   "source": [
    "Here, we use an `OffLatticeSimulation` simulator to control the\n",
    "simulation. Although the fluid is simulated on a lattice (grid),\n",
    "the nodes/cells are not bound to a lattice.\n",
    "\n"
   ]
  },
  {
   "cell_type": "code",
   "execution_count": null,
   "id": "319add36",
   "metadata": {},
   "outputs": [],
   "source": [
    "# Create a simulator to manage our simulation\n",
    "simulator = OffLatticeSimulation2_2(cell_population)\n",
    "numerical_method = ForwardEulerNumericalMethod2_2()\n",
    "numerical_method.SetUseUpdateNodeLocation(True)\n",
    "simulator.SetNumericalMethod(numerical_method)"
   ]
  },
  {
   "cell_type": "markdown",
   "id": "3eeb6c2b",
   "metadata": {},
   "source": [
    "As we have an off-lattice simulation, we need a way to model the\n",
    "fluid. This is handled by the `ImmersedBoundarySimulationModifier`.\n",
    "Modifiers in chaste are classes that can be attached to simulations\n",
    "to perform some additional custom functionality each timestep.\n",
    "In this case, the modifier is responsible for solving the\n",
    "Navier-Stokes equations and propagating forces between the nodes and\n",
    "the fluid.\n",
    "\n"
   ]
  },
  {
   "cell_type": "code",
   "execution_count": null,
   "id": "5188263b",
   "metadata": {},
   "outputs": [],
   "source": [
    "# Add an immersed boundary simulation modifier.\n",
    "# The modifier is responsible for managing the fluid simulation\n",
    "# and propagating forces between the fluid & cell."
   ]
  },
  {
   "cell_type": "markdown",
   "id": "154ab0d2",
   "metadata": {},
   "source": [
    "We must also provide the modifier with a force model to govern\n",
    "interactions between the nodes forming the boundary of the cells.\n",
    "Note that these forces only act between nodes in the same cell,\n",
    "they do not control interactions between cells.\n",
    "\n"
   ]
  },
  {
   "cell_type": "code",
   "execution_count": null,
   "id": "916b49c1",
   "metadata": {},
   "outputs": [],
   "source": [
    "# Add a force law to model the behaviour of the cell membrane\n",
    "boundary_force = ImmersedBoundaryLinearMembraneForce2()\n",
    "boundary_force.SetElementSpringConst(1.0 * 1e7)"
   ]
  },
  {
   "cell_type": "markdown",
   "id": "44cc9d7b",
   "metadata": {},
   "source": [
    "The spring constant(`1.0 * 1e7`) defines how stiff the cell boundary\n",
    "is. You can experiment with adjusting the spring constant to change\n",
    "the force behaviour between nodes of the cell boundary.\n",
    "The `ImmersedBoundaryLinearMembraneForce` models forces between\n",
    "membrane nodes using linear springs i.e, the force applied is\n",
    "proportional to the deviation of the distance between nodes\n",
    "from a rest length.\n",
    "\n",
    "Finally, we set up the simulation properties and run it.\n",
    "\n"
   ]
  },
  {
   "cell_type": "code",
   "execution_count": null,
   "id": "3eb50f2d",
   "metadata": {},
   "outputs": [],
   "source": [
    "# Set simulation properties\n",
    "dt = 0.05\n",
    "simulator.SetOutputDirectory(\"Python/TestImmersedBoundary\")\n",
    "simulator.SetDt(dt)\n",
    "simulator.SetSamplingTimestepMultiple(4)\n",
    "simulator.SetEndTime(1000 * dt)\n",
    "# Perform the simulation\n",
    "simulator.Solve()\n",
    "SimulationTime.Instance().Destroy()\n",
    "TearDownNotebookTest()"
   ]
  }
 ],
 "metadata": {},
 "nbformat": 4,
 "nbformat_minor": 5
}
