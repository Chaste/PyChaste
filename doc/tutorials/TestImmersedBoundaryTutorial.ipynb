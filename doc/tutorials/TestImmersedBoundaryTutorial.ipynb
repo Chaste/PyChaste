{
 "cells": [
  {
   "cell_type": "markdown",
   "id": "10d49fc0",
   "metadata": {},
   "source": [
    "This tutorial is automatically generated from the file /home/kwabena/repo/PyChaste/test/python/cell_based/tutorials/TestImmersedBoundaryTutorial.py.\n",
    "\n"
   ]
  },
  {
   "cell_type": "code",
   "execution_count": null,
   "id": "37e0eb83",
   "metadata": {},
   "outputs": [],
   "source": [
    "# Jupyter notebook specific imports \n",
    "import matplotlib as mpl \n",
    "from IPython import display \n",
    "%matplotlib inline"
   ]
  },
  {
   "cell_type": "markdown",
   "id": "af011b03",
   "metadata": {},
   "source": [
    "\n",
    "## Introduction\n",
    "This tutorial is a demonstration of the immersed boundary method, a technique\n",
    "for simulating fluid-structure interactions. We can use the immersed boundary\n",
    "method to simulate a cell as a structure with its outer **boundary immersed**\n",
    "in a fluid. There is a two-way coupling between the fluid and the structure:\n",
    "the flow of the fluid exerts a force on the structure, and the structure\n",
    "influences the flow of the fluid.\n",
    "\n",
    "In this tutorial, we demonstrate:\n",
    "1. Building single-cell immersed boundary capable simulations.\n",
    "2. Building multi-cellular immersed boundary simulations.\n",
    "3. Adding and manipulating immersed boundary fluid sources.\n",
    "\n",
    "## Imports\n",
    "\n"
   ]
  },
  {
   "cell_type": "code",
   "execution_count": null,
   "id": "485d8440",
   "metadata": {},
   "outputs": [],
   "source": [
    "import chaste\n",
    "chaste.init()  # setup MPI\n",
    "from chaste.cell_based import (\n",
    "    AbstractCellBasedTestSuite,\n",
    "    CellsGeneratorUniformCellCycleModel_2,\n",
    "    DifferentiatedCellProliferativeType,\n",
    "    ForwardEulerNumericalMethod2_2,\n",
    "    ImmersedBoundaryCellPopulation2,\n",
    "    ImmersedBoundaryLinearInteractionForce2,\n",
    "    ImmersedBoundaryLinearMembraneForce2,\n",
    "    ImmersedBoundarySimulationModifier2,\n",
    "    OffLatticeSimulation2_2,\n",
    "    SimulationTime,\n",
    "    TearDownNotebookTest,\n",
    ")\n",
    "from chaste.mesh import FluidSource2, ImmersedBoundaryPalisadeMeshGenerator\n",
    "import chaste.visualization"
   ]
  },
  {
   "cell_type": "markdown",
   "id": "98d21225",
   "metadata": {},
   "source": [
    "### Simple Immersed Boundary Simulations\n",
    "We begin by exploring simulations containing a single cell. This will\n",
    "familiarise you with how to generate immersed boundary cells, the steps\n",
    "involved in setting up an immersed boundary simulation, and the options\n",
    "available for controlling how the cells are generated and behave.\n",
    "\n",
    "Immersed boundary simulations operate over a square domain, with `x` and `y`\n",
    "coordinates lying in the range `0` to `1`. The domain wraps on both axes -\n",
    "this means that if a cell moves off the right hand edge of the domain,\n",
    "the segment will appear on the left hand side. This is not purely visual;\n",
    "forces are also transmitted across these boundaries.\n",
    "\n",
    " **Tip** Make sure all your coordinates are between `0` and `1`.\n",
    "\n"
   ]
  },
  {
   "cell_type": "code",
   "execution_count": null,
   "id": "8575bb86",
   "metadata": {},
   "outputs": [],
   "source": [
    "# Set the start time for the simulation\n",
    "SimulationTime.Instance().SetStartTime(0.0)"
   ]
  },
  {
   "cell_type": "markdown",
   "id": "d52abc31",
   "metadata": {},
   "source": [
    " **Tip** Lines of code beginning with `#` are comments in Python\n",
    " \n",
    "Next, we define the necessary geometry.\n",
    "\n"
   ]
  },
  {
   "cell_type": "code",
   "execution_count": null,
   "id": "64212899",
   "metadata": {},
   "outputs": [],
   "source": [
    "# Generate a mesh containing a single cell\n",
    "gen = ImmersedBoundaryPalisadeMeshGenerator(1, 128, 0.1, 2.0, 0.0, False)\n",
    "mesh = gen.GetMesh()"
   ]
  },
  {
   "cell_type": "markdown",
   "id": "c07e0482",
   "metadata": {},
   "source": [
    "The first line of code defines an `ImmersedBoundaryPalisadeMeshGenerator`\n",
    "called `gen`. The 3rd and 4th parameters control the exponent of the\n",
    "superellipse(`0.1`) and the aspect ratio of the cell(`2.0`). You can\n",
    "experiment with modifying these to change the initial shape of the cell.\n",
    "\n",
    "The second line of code instructs the mesh generator to generate a mesh.\n",
    "Checking the type of mesh with `type(mesh)` will show it as\n",
    "`ImmersedBoundaryMesh2_2`. The `2_2` suffix denotes that we are using\n",
    "a 2-dimensional space, and 2-dimensional elements to define the mesh.\n",
    "\n",
    "We now set the fluid grid resolution. The following code specifies\n",
    "that we are using a 64x64 grid to simulate our fluid over.\n",
    "\n"
   ]
  },
  {
   "cell_type": "code",
   "execution_count": null,
   "id": "719b46a7",
   "metadata": {},
   "outputs": [],
   "source": [
    "# Set the fluid grid resolution\n",
    "mesh.SetNumGridPtsXAndY(64)"
   ]
  },
  {
   "cell_type": "markdown",
   "id": "4cdd3480",
   "metadata": {},
   "source": [
    "Next, we set up the cell population\n",
    "\n"
   ]
  },
  {
   "cell_type": "code",
   "execution_count": null,
   "id": "da032fda",
   "metadata": {},
   "outputs": [],
   "source": [
    "# Generate the cells\n",
    "cell_type = DifferentiatedCellProliferativeType()\n",
    "cell_generator = CellsGeneratorUniformCellCycleModel_2()\n",
    "cells = cell_generator.GenerateBasicRandom(mesh.GetNumElements(), cell_type)\n",
    "# Set up the cell population\n",
    "cell_population = ImmersedBoundaryCellPopulation2(mesh, cells)"
   ]
  },
  {
   "cell_type": "markdown",
   "id": "50f88c8e",
   "metadata": {},
   "source": [
    "We specify a cell type and cell cycle model. These can be\n",
    "interchanged to modify the life cycle of the cells. The\n",
    "`CellsGenerator` then constructs the necessary information for each\n",
    "of the elements in the mesh. Finally, we construct an\n",
    "`ImmersedBoundaryCellPopulation`. We then specify whether the\n",
    "population has active fluid sources or not. For now, we are not\n",
    "using any fluid sources, so we set this to false\n",
    "\n"
   ]
  },
  {
   "cell_type": "code",
   "execution_count": null,
   "id": "ab7d7c00",
   "metadata": {},
   "outputs": [],
   "source": [
    "# Specify whether the population has active fluid sources\n",
    "cell_population.SetIfPopulationHasActiveSources(False)"
   ]
  },
  {
   "cell_type": "markdown",
   "id": "98bbfbd8",
   "metadata": {},
   "source": [
    "Here, we use an `OffLatticeSimulation` simulator to control the\n",
    "simulation. Although the fluid is simulated on a lattice (grid),\n",
    "the nodes/cells are not bound to a lattice.\n",
    "\n"
   ]
  },
  {
   "cell_type": "code",
   "execution_count": null,
   "id": "0f275a93",
   "metadata": {},
   "outputs": [],
   "source": [
    "# Create a simulator to manage our simulation\n",
    "simulator = OffLatticeSimulation2_2(cell_population)\n",
    "numerical_method = ForwardEulerNumericalMethod2_2()\n",
    "numerical_method.SetUseUpdateNodeLocation(True)\n",
    "simulator.SetNumericalMethod(numerical_method)"
   ]
  },
  {
   "cell_type": "markdown",
   "id": "cc1c2b31",
   "metadata": {},
   "source": [
    "As we have an off-lattice simulation, we need a way to model the\n",
    "fluid. This is handled by the `ImmersedBoundarySimulationModifier`.\n",
    "Modifiers in chaste are classes that can be attached to simulations\n",
    "to perform some additional custom functionality each timestep.\n",
    "In this case, the modifier is responsible for solving the\n",
    "Navier-Stokes equations and propagating forces between the nodes and\n",
    "the fluid.\n",
    "\n"
   ]
  },
  {
   "cell_type": "code",
   "execution_count": null,
   "id": "26e89451",
   "metadata": {},
   "outputs": [],
   "source": [
    "# Add an immersed boundary simulation modifier.\n",
    "ib_modifier = ImmersedBoundarySimulationModifier2()\n",
    "simulator.AddSimulationModifier(ib_modifier)"
   ]
  },
  {
   "cell_type": "markdown",
   "id": "7a50e537",
   "metadata": {},
   "source": [
    "We must also provide the modifier with a force model to govern\n",
    "interactions between the nodes forming the boundary of the cells.\n",
    "Note that these forces only act between nodes in the same cell,\n",
    "they do not control interactions between cells.\n",
    "\n"
   ]
  },
  {
   "cell_type": "code",
   "execution_count": null,
   "id": "0d8dbd4f",
   "metadata": {},
   "outputs": [],
   "source": [
    "# Add a force law to model the behaviour of the cell membrane\n",
    "boundary_force = ImmersedBoundaryLinearMembraneForce2()\n",
    "boundary_force.SetElementSpringConst(1.0 * 1e7)\n",
    "ib_modifier.AddImmersedBoundaryForce(boundary_force)"
   ]
  },
  {
   "cell_type": "markdown",
   "id": "eef19d3d",
   "metadata": {},
   "source": [
    "The spring constant(`1.0 * 1e7`) defines how stiff the cell boundary\n",
    "is. You can experiment with adjusting the spring constant to change\n",
    "the force behaviour between nodes of the cell boundary.\n",
    "The `ImmersedBoundaryLinearMembraneForce` models forces between\n",
    "membrane nodes using linear springs i.e, the force applied is\n",
    "proportional to the deviation of the distance between nodes\n",
    "from a rest length.\n",
    "\n",
    "Finally, we set up the simulation properties and run it.\n",
    "\n"
   ]
  },
  {
   "cell_type": "code",
   "execution_count": null,
   "id": "a0a48881",
   "metadata": {},
   "outputs": [],
   "source": [
    "# Set simulation properties\n",
    "dt = 0.05\n",
    "simulator.SetOutputDirectory(\"Python/TestImmersedBoundary\")\n",
    "simulator.SetDt(dt)\n",
    "simulator.SetSamplingTimestepMultiple(4)\n",
    "simulator.SetEndTime(1000 * dt)\n",
    "# Perform the simulation\n",
    "simulator.Solve()\n",
    "SimulationTime.Instance().Destroy()\n",
    "TearDownNotebookTest()"
   ]
  },
  {
   "cell_type": "markdown",
   "id": "bfe1b482",
   "metadata": {},
   "source": [
    "### Adding More Cells\n",
    "\n"
   ]
  },
  {
   "cell_type": "markdown",
   "id": "de09605a",
   "metadata": {},
   "source": [
    "#### Multiple Cells\n",
    "We can use the mesh generator to generate multiple cells. The first\n",
    "parameter of the mesh generator constructor controls the number of\n",
    "cells. Try increasing the number of cells by adjusting the parameter\n",
    "value. A sensible range for this tutorial is 4-10 cells.\n",
    "\n"
   ]
  },
  {
   "cell_type": "code",
   "execution_count": null,
   "id": "8f076763",
   "metadata": {},
   "outputs": [],
   "source": [
    "# Create a mesh generator\n",
    "gen = ImmersedBoundaryPalisadeMeshGenerator(1, 128, 0.1, 2.0, 0.0, False)"
   ]
  },
  {
   "cell_type": "markdown",
   "id": "7925d86f",
   "metadata": {},
   "source": [
    "#### Laminas\n",
    "In addition to the cells we have seen so far, we can introduce\n",
    "laminas to the simulation. Laminas are surfaces with reduced\n",
    "dimensionality. For 3D elements, a lamina is a 2D surface. For the\n",
    "2D elements we are working with, laminas are lines. Changing the last\n",
    "parameter of the mesh generator constructor from `False` to `True`\n",
    "will generate a basal lamina spanning the palisade cells.\n",
    "Laminas can also interact with the fluid field, and can be made\n",
    "'leaky' to allow some flow across their boundary. This can be used\n",
    "to model a permeable boundary.\n",
    "\n",
    "#### Cell Variations\n",
    "Apart from using the 3rd and 4th constructor parameters to modify\n",
    "the cell shapes, we can also introduce variation between cells by\n",
    "modifying the 5th parameter.\n",
    "\n"
   ]
  },
  {
   "cell_type": "code",
   "execution_count": null,
   "id": "dbb3ab72",
   "metadata": {},
   "outputs": [],
   "source": [
    "# Generate the mesh\n",
    "mesh = gen.GetMesh()\n",
    "# Set the fluid grid resolution\n",
    "mesh.SetNumGridPtsXAndY(64)\n",
    "# Set the start time for the simulation\n",
    "SimulationTime.Instance().SetStartTime(0.0)\n",
    "# Generate the cells\n",
    "cell_type = DifferentiatedCellProliferativeType()\n",
    "cell_generator = CellsGeneratorUniformCellCycleModel_2()\n",
    "cells = cell_generator.GenerateBasicRandom(mesh.GetNumElements(), cell_type)\n",
    "# Set up the cell population\n",
    "cell_population = ImmersedBoundaryCellPopulation2(mesh, cells)\n",
    "# Specify whether the population has active fluid sources\n",
    "cell_population.SetIfPopulationHasActiveSources(False)\n",
    "# Create a simulator to manage our simulation\n",
    "simulator = OffLatticeSimulation2_2(cell_population)\n",
    "numerical_method = ForwardEulerNumericalMethod2_2()\n",
    "numerical_method.SetUseUpdateNodeLocation(True)\n",
    "simulator.SetNumericalMethod(numerical_method)\n",
    "# Add an immersed boundary simulation modifier\n",
    "ib_modifier = ImmersedBoundarySimulationModifier2()\n",
    "simulator.AddSimulationModifier(ib_modifier)\n",
    "# Add a force law to model the behaviour of the cell membrane\n",
    "boundary_force = ImmersedBoundaryLinearMembraneForce2()\n",
    "boundary_force.SetElementSpringConst(1.0 * 1e7)\n",
    "ib_modifier.AddImmersedBoundaryForce(boundary_force)"
   ]
  },
  {
   "cell_type": "markdown",
   "id": "dec897cd",
   "metadata": {},
   "source": [
    "#### Intercellular Interactions\n",
    "So far, we have encountered forces that act to maintain the shape\n",
    "of the cell membrane. We can also introduce forces that apply\n",
    "between cells using `ImmersedBoundaryLinearInteractionForce`. I\n",
    "Instead of the `SetElementSpringConst` method, it has a\n",
    "`SetSpringConst` method which we should use. The rest length can\n",
    "also be modified using the `SetRestLength` method.\n",
    "\n"
   ]
  },
  {
   "cell_type": "code",
   "execution_count": null,
   "id": "850bcc64",
   "metadata": {},
   "outputs": [],
   "source": [
    "# Add a new intercellular force law\n",
    "interaction_force = ImmersedBoundaryLinearInteractionForce2()\n",
    "interaction_force.SetSpringConst(1.0 * 1e6)\n",
    "ib_modifier.AddImmersedBoundaryForce(interaction_force)\n",
    "# Set simulation properties\n",
    "dt = 0.05\n",
    "simulator.SetOutputDirectory(\"Python/TestImmersedBoundary\")\n",
    "simulator.SetDt(dt)\n",
    "simulator.SetSamplingTimestepMultiple(4)\n",
    "simulator.SetEndTime(1000 * dt)\n",
    "# Perform the simulation\n",
    "simulator.Solve()\n",
    "SimulationTime.Instance().Destroy()\n",
    "TearDownNotebookTest()"
   ]
  },
  {
   "cell_type": "markdown",
   "id": "9ffd7e3c",
   "metadata": {},
   "source": [
    "### Adding Fluid Sources\n",
    "Now that we are familiar with how to generate the cells, we will\n",
    "introduce fluid sources.\n",
    "\n"
   ]
  },
  {
   "cell_type": "markdown",
   "id": "1750226e",
   "metadata": {},
   "source": [
    "#### Adding a Fluid Source\n",
    "We begin by constructing a fluid source object.\n",
    "\n"
   ]
  },
  {
   "cell_type": "code",
   "execution_count": null,
   "id": "abfce3f6",
   "metadata": {},
   "outputs": [],
   "source": [
    "source = FluidSource2(0, 0.5, 0.7)"
   ]
  },
  {
   "cell_type": "markdown",
   "id": "a7ab24b0",
   "metadata": {},
   "source": [
    "This constructs a `FluidSource` object in 2 dimensions. The first\n",
    "parameter gives the index of the fluid source. Each source you\n",
    "create must have a unique index. The next parameters are the\n",
    "`x` and `y` coordinates of the source. Fluid sources in chaste are\n",
    "point-like, that is to say they do not have any area/volume.\n",
    "\n",
    "Having created the fluid source, we set its strength:\n",
    "\n"
   ]
  },
  {
   "cell_type": "code",
   "execution_count": null,
   "id": "ef651e17",
   "metadata": {},
   "outputs": [],
   "source": [
    "source.SetStrength(0.012)"
   ]
  },
  {
   "cell_type": "markdown",
   "id": "dbd100f9",
   "metadata": {},
   "source": [
    "Now, we must associate the source with an element in the simulation\n",
    "so that the simulation is aware of the source.\n",
    "\n"
   ]
  },
  {
   "cell_type": "code",
   "execution_count": null,
   "id": "9992df47",
   "metadata": {},
   "outputs": [],
   "source": [
    "# Create the mesh\n",
    "gen = ImmersedBoundaryPalisadeMeshGenerator(5, 128, 0.1, 2.0, 0.0, False)\n",
    "mesh = gen.GetMesh()\n",
    "mesh.SetNumGridPtsXAndY(64)\n",
    "# Associate the fluid source with an element in the mesh\n",
    "mesh.GetElement(0).SetFluidSource(source)"
   ]
  },
  {
   "cell_type": "markdown",
   "id": "f61f28ba",
   "metadata": {},
   "source": [
    "Finally, we must tell the cell population that fluid sources are present.\n",
    "\n"
   ]
  },
  {
   "cell_type": "code",
   "execution_count": null,
   "id": "e217d335",
   "metadata": {},
   "outputs": [],
   "source": [
    "# Set up the cell population\n",
    "SimulationTime.Instance().SetStartTime(0.0)\n",
    "cell_type = DifferentiatedCellProliferativeType()\n",
    "cell_generator = CellsGeneratorUniformCellCycleModel_2()\n",
    "cells = cell_generator.GenerateBasicRandom(mesh.GetNumElements(), cell_type)\n",
    "cell_population = ImmersedBoundaryCellPopulation2(mesh, cells)\n",
    "# Specify that fluid sources are present\n",
    "cell_population.SetIfPopulationHasActiveSources(True)"
   ]
  },
  {
   "cell_type": "markdown",
   "id": "730b0219",
   "metadata": {},
   "source": [
    "#### Varying the Source Location\n",
    "You can experiment with the source location. Try moving it closer to\n",
    "and further away from the cells.\n",
    "\n",
    "#### Varying the Source Strength\n",
    "Try modifying the source strength to see what impact this has on\n",
    "the cell shapes.\n",
    "\n"
   ]
  },
  {
   "cell_type": "code",
   "execution_count": null,
   "id": "6e3d3d75",
   "metadata": {},
   "outputs": [],
   "source": [
    "# Create a simulator\n",
    "simulator = OffLatticeSimulation2_2(cell_population)\n",
    "numerical_method = ForwardEulerNumericalMethod2_2()\n",
    "numerical_method.SetUseUpdateNodeLocation(True)\n",
    "simulator.SetNumericalMethod(numerical_method)\n",
    "# Add an immersed boundary simulation modifier\n",
    "ib_modifier = ImmersedBoundarySimulationModifier2()\n",
    "simulator.AddSimulationModifier(ib_modifier)"
   ]
  },
  {
   "cell_type": "markdown",
   "id": "befe2e0b",
   "metadata": {},
   "source": [
    "#### Fluid-Cell Interaction\n",
    "Have a go at modifying the spring constant of the\n",
    "`ImmersedBoundaryLinearMembraneForce` to see how this changes the\n",
    "effect of the fluid source on the cells.\n",
    "\n"
   ]
  },
  {
   "cell_type": "code",
   "execution_count": null,
   "id": "bab58d4a",
   "metadata": {},
   "outputs": [],
   "source": [
    "boundary_force = ImmersedBoundaryLinearMembraneForce2()\n",
    "boundary_force.SetElementSpringConst(1.0 * 1e7)\n",
    "ib_modifier.AddImmersedBoundaryForce(boundary_force)\n",
    "interaction_force = ImmersedBoundaryLinearInteractionForce2()\n",
    "interaction_force.SetSpringConst(1.0 * 1e6)\n",
    "ib_modifier.AddImmersedBoundaryForce(interaction_force)"
   ]
  },
  {
   "cell_type": "markdown",
   "id": "ccba3052",
   "metadata": {},
   "source": [
    "#### Adding More Sources\n",
    "Try adding second fluid source. You will need to use a unique index,\n",
    "and attach it to a different element as each element can only manage\n",
    "a single fluid source.\n",
    "\n"
   ]
  },
  {
   "cell_type": "code",
   "execution_count": null,
   "id": "a69bc075",
   "metadata": {},
   "outputs": [],
   "source": [
    "# Set simulation properties\n",
    "dt = 0.05\n",
    "simulator.SetOutputDirectory(\"Python/TestImmersedBoundary\")\n",
    "simulator.SetDt(dt)\n",
    "simulator.SetSamplingTimestepMultiple(4)\n",
    "simulator.SetEndTime(1000 * dt)\n",
    "# Perform the simulation\n",
    "simulator.Solve()\n",
    "SimulationTime.Instance().Destroy()\n",
    "TearDownNotebookTest()"
   ]
  },
  {
   "cell_type": "markdown",
   "id": "29722570",
   "metadata": {},
   "source": [
    "#### Further Exercises\n",
    " * Try integrating a different cell cycle model to introduce cell\n",
    " division. See how the presence of a fluid source impacts the\n",
    " structure that is formed.\n",
    " * Use one of the cell writers to collect some statistics\n",
    "\n"
   ]
  }
 ],
 "metadata": {},
 "nbformat": 4,
 "nbformat_minor": 5
}
