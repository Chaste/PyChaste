{
 "cells": [
  {
   "cell_type": "markdown",
   "id": "fe26027f",
   "metadata": {},
   "source": [
    "This tutorial is automatically generated from the file ../test/python/cell_based/tutorials/TestPottsBasedCellSimulationsPythonTutorial.py.\n",
    "\n"
   ]
  },
  {
   "cell_type": "code",
   "execution_count": null,
   "id": "722137ac",
   "metadata": {},
   "outputs": [],
   "source": [
    "# Jupyter notebook specific imports \n",
    "import matplotlib as mpl \n",
    "from IPython import display \n",
    "%matplotlib inline"
   ]
  },
  {
   "cell_type": "markdown",
   "id": "7c983357",
   "metadata": {},
   "source": [
    "\n",
    "# Introduction\n",
    "In this tutorial we show how Chaste can be used to create, run and visualize Potts-based simulations.\n",
    "Full details of the mathematical model can be found in Graner, F. and Glazier, J. A. (1992).\n",
    "\n",
    "## The Test\n",
    "\n"
   ]
  },
  {
   "cell_type": "code",
   "execution_count": null,
   "id": "6e28e95b",
   "metadata": {},
   "outputs": [],
   "source": [
    "import chaste  # The PyChaste module\n",
    "import chaste.cell_based  # Contains cell populations\n",
    "import chaste.mesh  # Contains meshes\n",
    "import chaste.visualization  # Visualization tools\n",
    "chaste.init()  # Set up MPI"
   ]
  },
  {
   "cell_type": "markdown",
   "id": "1750572a",
   "metadata": {},
   "source": [
    "## Test 1 - A basic node-based simulation\n",
    "In the first test, we run a simple Potts-based simulation, in which we create a monolayer of cells, using a Potts mesh.\n",
    "Each cell is assigned a stochastic cell-cycle model.\n",
    "\n"
   ]
  },
  {
   "cell_type": "code",
   "execution_count": null,
   "id": "9934f251",
   "metadata": {},
   "outputs": [],
   "source": [
    "# Set up the test \n",
    "chaste.cell_based.SetupNotebookTest()"
   ]
  },
  {
   "cell_type": "markdown",
   "id": "bbfa49bf",
   "metadata": {},
   "source": [
    "First, we generate a Potts mesh. To create a PottsMesh, we can use the PottsMeshGenerator.\n",
    "This generates a regular square-shaped mesh, in which all elements are the same size.\n",
    "Here the first three arguments specify the domain width; the number of elements across; and the width of elements.\n",
    "The second set of three arguments specify the domain height; the number of elements up; and the height of individual elements.\n",
    "We have chosen a 2 by 2 block of elements, each consisting of 4 by 4 ( = 16) lattice sites.\n",
    "\n"
   ]
  },
  {
   "cell_type": "code",
   "execution_count": null,
   "id": "55f38d19",
   "metadata": {},
   "outputs": [],
   "source": [
    "chaste.core.OutputFileHandler(\"Python/TestPottsBasedCellSimulationsTutorial\")\n",
    "generator = chaste.mesh.PottsMeshGenerator2(50, 2, 4,\n",
    "                                            50, 2, 4)\n",
    "mesh = generator.GetMesh()"
   ]
  },
  {
   "cell_type": "markdown",
   "id": "a91fdb20",
   "metadata": {},
   "source": [
    "Having created a mesh, we now create a vector of CellPtrs. To do this, we the CellsGenerator helper class,\n",
    "which is templated over the type of cell model required and the dimension.\n",
    "We create an empty vector of cells and pass this into the method along with the mesh.\n",
    "The second argument represents the size of that the vector cells should become - one cell for each element.\n",
    "Third argument makes all cells proliferate.\n",
    "\n"
   ]
  },
  {
   "cell_type": "code",
   "execution_count": null,
   "id": "33614632",
   "metadata": {},
   "outputs": [],
   "source": [
    "cell_generator = chaste.cell_based.CellsGeneratorUniformCellCycleModel_2()\n",
    "cells = cell_generator.GenerateBasic(mesh.GetNumElements())"
   ]
  },
  {
   "cell_type": "markdown",
   "id": "627977c0",
   "metadata": {},
   "source": [
    "Now we have a mesh and a set of cells to go with it, we can create a CellPopulation.\n",
    "In general, this class associates a collection of cells with a mesh. For this test, because we have a PottsMesh,\n",
    "we use a particular type of cell population called a PottsBasedCellPopulation.\n",
    "\n"
   ]
  },
  {
   "cell_type": "code",
   "execution_count": null,
   "id": "c6f33a23",
   "metadata": {},
   "outputs": [],
   "source": [
    "cell_population = chaste.cell_based.PottsBasedCellPopulation2(mesh,\n",
    "                                                              cells)"
   ]
  },
  {
   "cell_type": "markdown",
   "id": "605a945a",
   "metadata": {},
   "source": [
    "We can set the \"Temperature\" to be used in the Potts Simulation using the optional command below. The default value is 0.1.\n",
    "\n"
   ]
  },
  {
   "cell_type": "code",
   "execution_count": null,
   "id": "cb238e68",
   "metadata": {},
   "outputs": [],
   "source": [
    "cell_population.SetTemperature(0.1)"
   ]
  },
  {
   "cell_type": "markdown",
   "id": "be5535e5",
   "metadata": {},
   "source": [
    "By default the Potts simulation will make 1 sweep over the whole domain per timestep.\n",
    "To use a different number of sweeps per timestep use the command.\n",
    "\n"
   ]
  },
  {
   "cell_type": "code",
   "execution_count": null,
   "id": "6389e49a",
   "metadata": {},
   "outputs": [],
   "source": [
    "cell_population.SetNumSweepsPerTimestep(1)"
   ]
  },
  {
   "cell_type": "markdown",
   "id": "c3ee1f4c",
   "metadata": {},
   "source": [
    "We can set up a `VtkScene` to do a quick visualization of the population before running the analysis.\n",
    "\n"
   ]
  },
  {
   "cell_type": "code",
   "execution_count": null,
   "id": "d4c65850",
   "metadata": {},
   "outputs": [],
   "source": [
    "scene = chaste.visualization.VtkScene2()\n",
    "scene.SetCellPopulation(cell_population)\n",
    "scene.GetCellPopulationActorGenerator().SetShowPottsMeshEdges(True)\n",
    "nb_manager = chaste.visualization.JupyterNotebookManager()\n",
    "nb_manager.vtk_show(scene, height=600)"
   ]
  },
  {
   "cell_type": "markdown",
   "id": "698d2c01",
   "metadata": {},
   "source": [
    "We then pass in the cell population into an `OffLatticeSimulation`, and set the output directory and end time\n",
    "\n"
   ]
  },
  {
   "cell_type": "code",
   "execution_count": null,
   "id": "ef1a7d77",
   "metadata": {},
   "outputs": [],
   "source": [
    "simulator = chaste.cell_based.OnLatticeSimulation2(cell_population)\n",
    "simulator.SetOutputDirectory(\"Python/TestPottsBasedCellSimulationsTutorial\")\n",
    "simulator.SetEndTime(50.0)"
   ]
  },
  {
   "cell_type": "markdown",
   "id": "56b04ad7",
   "metadata": {},
   "source": [
    "The default timestep is 0.1, but can be changed using the below command. The timestep is used in conjunction with the \"Temperature\"\n",
    "and number of sweeps per timestep to specify the relationship between cell movement and proliferation.\n",
    "We also set the simulation to only output every 10 steps i.e. once per hour.\n",
    "\n"
   ]
  },
  {
   "cell_type": "code",
   "execution_count": null,
   "id": "34458dba",
   "metadata": {},
   "outputs": [],
   "source": [
    "simulator.SetDt(0.1)\n",
    "simulator.SetSamplingTimestepMultiple(10)"
   ]
  },
  {
   "cell_type": "markdown",
   "id": "42596e10",
   "metadata": {},
   "source": [
    "We must now create one or more update rules, which determine the Hamiltonian in the Potts simulation.\n",
    "For this test, we use two update rules based upon a volume constraint (VolumeConstraintPottsUpdateRule)\n",
    "and adhesion between cells (AdhesionPottsUpdateRule) and pass them to the OnLatticeSimulation.\n",
    "For a list of possible update rules see subclasses of AbstractPottsUpdateRule.\n",
    "\n"
   ]
  },
  {
   "cell_type": "code",
   "execution_count": null,
   "id": "fab5817f",
   "metadata": {},
   "outputs": [],
   "source": [
    "volume_constraint_update_rule = chaste.cell_based.VolumeConstraintPottsUpdateRule2()"
   ]
  },
  {
   "cell_type": "markdown",
   "id": "1e8391b6",
   "metadata": {},
   "source": [
    "Set an appropriate target volume in number of lattice sites. Here we use the default value of 16 lattice sites.\n",
    "\n"
   ]
  },
  {
   "cell_type": "code",
   "execution_count": null,
   "id": "e72fb371",
   "metadata": {},
   "outputs": [],
   "source": [
    "volume_constraint_update_rule.SetMatureCellTargetVolume(16)"
   ]
  },
  {
   "cell_type": "markdown",
   "id": "a90457d0",
   "metadata": {},
   "source": [
    "You can also vary the deformation energy parameter.\n",
    "The larger the parameter the more cells will try to maintain target volume. Here we use the default value of 0.2.\n",
    "\n"
   ]
  },
  {
   "cell_type": "code",
   "execution_count": null,
   "id": "69cd75e6",
   "metadata": {},
   "outputs": [],
   "source": [
    "volume_constraint_update_rule.SetDeformationEnergyParameter(0.2)"
   ]
  },
  {
   "cell_type": "markdown",
   "id": "cf085a6a",
   "metadata": {},
   "source": [
    "Finally we add the update rule to the simulator.\n",
    "\n"
   ]
  },
  {
   "cell_type": "code",
   "execution_count": null,
   "id": "556817c8",
   "metadata": {},
   "outputs": [],
   "source": [
    "simulator.AddUpdateRule(volume_constraint_update_rule)"
   ]
  },
  {
   "cell_type": "markdown",
   "id": "7da26bd8",
   "metadata": {},
   "source": [
    "We repeat the process for any other update rules.\n",
    "\n"
   ]
  },
  {
   "cell_type": "code",
   "execution_count": null,
   "id": "96f3a915",
   "metadata": {},
   "outputs": [],
   "source": [
    "adhesion_update_rule = chaste.cell_based.AdhesionPottsUpdateRule2()\n",
    "simulator.AddUpdateRule(adhesion_update_rule)"
   ]
  },
  {
   "cell_type": "markdown",
   "id": "c20c081f",
   "metadata": {},
   "source": [
    "Save snapshot images of the population during the simulation\n",
    "\n"
   ]
  },
  {
   "cell_type": "code",
   "execution_count": null,
   "id": "b8e965f1",
   "metadata": {},
   "outputs": [],
   "source": [
    "scene_modifier = chaste.visualization.JupyterSceneModifier2(nb_manager)\n",
    "scene_modifier.SetVtkScene(scene)\n",
    "scene_modifier.SetUpdateFrequency(100)\n",
    "simulator.AddSimulationModifier(scene_modifier)"
   ]
  },
  {
   "cell_type": "markdown",
   "id": "6e0d622d",
   "metadata": {},
   "source": [
    "To run the simulation, we call `Solve()`. We can again do a quick rendering of the population at the end of the simulation\n",
    "\n"
   ]
  },
  {
   "cell_type": "code",
   "execution_count": null,
   "id": "abfa1220",
   "metadata": {},
   "outputs": [],
   "source": [
    "scene.Start()\n",
    "simulator.Solve()"
   ]
  },
  {
   "cell_type": "markdown",
   "id": "7e621647",
   "metadata": {},
   "source": [
    "The next two lines are for test purposes only and are not part of this tutorial.\n",
    "If different simulation input parameters are being explored the lines should be removed.\n",
    "\n"
   ]
  },
  {
   "cell_type": "code",
   "execution_count": null,
   "id": "de9ee328",
   "metadata": {},
   "outputs": [],
   "source": [
    "                       50.0, 6)\n",
    "# Tear down the test \n",
    "chaste.cell_based.TearDownNotebookTest()"
   ]
  },
  {
   "cell_type": "markdown",
   "id": "1decbf79",
   "metadata": {},
   "source": [
    "## Test 2 - Cell sorting\n",
    "The next test generates a collection of cells, there are two types of cells, labelled ones and non labelled ones,\n",
    "there is differential adhesion between the cell types. For the parameters specified, the cells sort into separate types.\n",
    "\n"
   ]
  },
  {
   "cell_type": "code",
   "execution_count": null,
   "id": "4658f560",
   "metadata": {},
   "outputs": [],
   "source": [
    "# Set up the test \n",
    "chaste.cell_based.SetupNotebookTest()"
   ]
  },
  {
   "cell_type": "markdown",
   "id": "22d91700",
   "metadata": {},
   "source": [
    "First, we generate a Potts mesh. To create a PottsMesh, we can use the PottsMeshGenerator.\n",
    "This generates a regular square-shaped mesh, in which all elements are the same size.\n",
    "We have chosen an 8 by 8 block of elements each consisting of 4 by 4 ( = 16) lattice sites.\n",
    "\n"
   ]
  },
  {
   "cell_type": "code",
   "execution_count": null,
   "id": "91f401bb",
   "metadata": {},
   "outputs": [],
   "source": [
    "generator = chaste.mesh.PottsMeshGenerator2(50, 8, 4,\n",
    "                                            50, 8, 4)\n",
    "mesh = generator.GetMesh()"
   ]
  },
  {
   "cell_type": "markdown",
   "id": "461297ca",
   "metadata": {},
   "source": [
    "Having created a mesh, we now create a VectorSharedPtrCells. To do this, we the CellsGenerator helper class,\n",
    "as before but this time the third argument is set to make all cells non-proliferative.\n",
    "\n"
   ]
  },
  {
   "cell_type": "code",
   "execution_count": null,
   "id": "d2fb425e",
   "metadata": {},
   "outputs": [],
   "source": [
    "differentiated_type = chaste.cell_based.DifferentiatedCellProliferativeType()\n",
    "cell_generator = chaste.cell_based.CellsGeneratorUniformCellCycleModel_2()\n",
    "cells = cell_generator.GenerateBasicRandom(mesh.GetNumElements(),\n",
    "                                      differentiated_type)"
   ]
  },
  {
   "cell_type": "markdown",
   "id": "0ad517b0",
   "metadata": {},
   "source": [
    "Before we make a CellPopulation we make a cell label and then assign this label to some randomly chosen cells.\n",
    "\n"
   ]
  },
  {
   "cell_type": "code",
   "execution_count": null,
   "id": "15815e4f",
   "metadata": {},
   "outputs": [],
   "source": [
    "label = chaste.cell_based.CellLabel()\n",
    "for eachCell in cells:\n",
    "    if(chaste.core.RandomNumberGenerator.Instance().ranf() < 0.5):\n",
    "        eachCell.AddCellProperty(label)"
   ]
  },
  {
   "cell_type": "markdown",
   "id": "659d8e43",
   "metadata": {},
   "source": [
    "Now we have a mesh and a set of cells to go with it, we can create a CellPopulation.\n",
    "\n"
   ]
  },
  {
   "cell_type": "code",
   "execution_count": null,
   "id": "8a7dc842",
   "metadata": {},
   "outputs": [],
   "source": [
    "cell_population = chaste.cell_based.PottsBasedCellPopulation2(mesh,\n",
    "                                                              cells)"
   ]
  },
  {
   "cell_type": "markdown",
   "id": "c13baf5d",
   "metadata": {},
   "source": [
    "In order to visualize labelled cells we need to use the following command.\n",
    "\n"
   ]
  },
  {
   "cell_type": "code",
   "execution_count": null,
   "id": "2d9b2419",
   "metadata": {},
   "outputs": [],
   "source": [
    "cell_population.AddCellWriterCellLabelWriter()"
   ]
  },
  {
   "cell_type": "markdown",
   "id": "08c38fbb",
   "metadata": {},
   "source": [
    "We then pass in the cell population into an `OffLatticeSimulation`, and set the output directory and end time\n",
    "\n"
   ]
  },
  {
   "cell_type": "code",
   "execution_count": null,
   "id": "aed04eba",
   "metadata": {},
   "outputs": [],
   "source": [
    "simulator = chaste.cell_based.OnLatticeSimulation2(cell_population)\n",
    "simulator.SetOutputDirectory(\"Python/TestPottsBasedCellSorting\")\n",
    "simulator.SetEndTime(20.0)\n",
    "simulator.SetSamplingTimestepMultiple(10)"
   ]
  },
  {
   "cell_type": "markdown",
   "id": "80e2d404",
   "metadata": {},
   "source": [
    "We must now create one or more update rules, which determine the Hamiltonian in the Potts simulation.\n",
    "For this test, we use two update rules based upon a volume constraint (VolumeConstraintPottsUpdateRule) and\n",
    "differential adhesion between cells (DifferentialAdhesionPottsUpdateRule), set appropriate parameters, and\n",
    "pass them to the OnLatticeSimulation.\n",
    "\n"
   ]
  },
  {
   "cell_type": "code",
   "execution_count": null,
   "id": "8f0204dc",
   "metadata": {},
   "outputs": [],
   "source": [
    "volume_constraint_update_rule = chaste.cell_based.VolumeConstraintPottsUpdateRule2()\n",
    "volume_constraint_update_rule.SetMatureCellTargetVolume(16)\n",
    "volume_constraint_update_rule.SetDeformationEnergyParameter(0.2)\n",
    "simulator.AddUpdateRule(volume_constraint_update_rule)"
   ]
  },
  {
   "cell_type": "markdown",
   "id": "9a7d93e8",
   "metadata": {},
   "source": [
    "We repeat the process for any other update rules.\n",
    "\n"
   ]
  },
  {
   "cell_type": "code",
   "execution_count": null,
   "id": "2ec888ed",
   "metadata": {},
   "outputs": [],
   "source": [
    "differential_adhesion_update_rule = chaste.cell_based.DifferentialAdhesionPottsUpdateRule2()\n",
    "differential_adhesion_update_rule.SetLabelledCellLabelledCellAdhesionEnergyParameter(0.16)\n",
    "differential_adhesion_update_rule.SetLabelledCellCellAdhesionEnergyParameter(0.11)\n",
    "differential_adhesion_update_rule.SetCellCellAdhesionEnergyParameter(0.02)\n",
    "differential_adhesion_update_rule.SetLabelledCellBoundaryAdhesionEnergyParameter(0.16)\n",
    "differential_adhesion_update_rule.SetCellBoundaryAdhesionEnergyParameter(0.16)\n",
    "simulator.AddUpdateRule(differential_adhesion_update_rule)"
   ]
  },
  {
   "cell_type": "markdown",
   "id": "90188a5e",
   "metadata": {},
   "source": [
    "To run the simulation, we call `Solve()`.\n",
    "\n"
   ]
  },
  {
   "cell_type": "code",
   "execution_count": null,
   "id": "63b404af",
   "metadata": {},
   "outputs": [],
   "source": [
    "simulator.Solve()"
   ]
  },
  {
   "cell_type": "markdown",
   "id": "eb6ec287",
   "metadata": {},
   "source": [
    "The next two lines are for test purposes only and are not part of this tutorial.\n",
    "If different simulation input parameters are being explored the lines should be removed.\n",
    "\n"
   ]
  },
  {
   "cell_type": "code",
   "execution_count": null,
   "id": "6225d338",
   "metadata": {},
   "outputs": [],
   "source": [
    "                       20.0, 6)\n",
    "# Tear down the test \n",
    "chaste.cell_based.TearDownNotebookTest()"
   ]
  },
  {
   "cell_type": "markdown",
   "id": "9471f9fd",
   "metadata": {},
   "source": [
    "## Test 3 - 3D Cell Sorting\n",
    "The next test extends the previous example to three dimensions.\n",
    "\n"
   ]
  },
  {
   "cell_type": "code",
   "execution_count": null,
   "id": "7a665cfc",
   "metadata": {},
   "outputs": [],
   "source": [
    "# Set up the test \n",
    "chaste.cell_based.SetupNotebookTest()"
   ]
  },
  {
   "cell_type": "markdown",
   "id": "00647aea",
   "metadata": {},
   "source": [
    "First, we generate a Potts mesh. To create a PottsMesh, we can use the PottsMeshGenerator.\n",
    "This generates a regular square-shaped mesh, in which all elements are the same size.\n",
    "Here the first three arguments specify the domain width; the number of elements across; and the width of elements.\n",
    "The second set of three arguments specify the domain height; the number of elements up; and the height of individual elements.\n",
    "The third set of three arguments specify the domain depth; the number of elements deep; and the depth of individual elements.\n",
    "We have chosen an 4 by 4 by 4 ( = 64) block of elements each consisting of 2 by 2 by 2 ( = 8) lattice sites.\n",
    "\n"
   ]
  },
  {
   "cell_type": "code",
   "execution_count": null,
   "id": "261b8586",
   "metadata": {},
   "outputs": [],
   "source": [
    "generator = chaste.mesh.PottsMeshGenerator3(10, 4, 2,\n",
    "                                            10, 4, 2,\n",
    "                                            10, 4, 2)\n",
    "mesh = generator.GetMesh()"
   ]
  },
  {
   "cell_type": "markdown",
   "id": "b6e31280",
   "metadata": {},
   "source": [
    "Having created a mesh, we now create a VectorSharedPtrCells. To do this, we the CellsGenerator helper class,\n",
    "as before but this time the third argument is set to make all cells non-proliferative.\n",
    "\n"
   ]
  },
  {
   "cell_type": "code",
   "execution_count": null,
   "id": "47c643c7",
   "metadata": {},
   "outputs": [],
   "source": [
    "differentiated_type = chaste.cell_based.DifferentiatedCellProliferativeType()\n",
    "cell_generator = chaste.cell_based.CellsGeneratorUniformCellCycleModel_3()\n",
    "cells = cell_generator.GenerateBasicRandom(mesh.GetNumElements(),\n",
    "                                           differentiated_type)"
   ]
  },
  {
   "cell_type": "markdown",
   "id": "c415abaf",
   "metadata": {},
   "source": [
    "As for the 2D case before we make a CellPopulation we make a pointer to a cell label and then assign this label to some randomly chosen cells.\n",
    "\n"
   ]
  },
  {
   "cell_type": "code",
   "execution_count": null,
   "id": "fc267e74",
   "metadata": {},
   "outputs": [],
   "source": [
    "label = chaste.cell_based.CellLabel()\n",
    "for eachCell in cells:\n",
    "    if(chaste.core.RandomNumberGenerator.Instance().ranf() < 0.5):\n",
    "        eachCell.AddCellProperty(label)"
   ]
  },
  {
   "cell_type": "markdown",
   "id": "618691c5",
   "metadata": {},
   "source": [
    "Now we have a mesh and a set of cells to go with it, we can create a CellPopulation.\n",
    "\n"
   ]
  },
  {
   "cell_type": "code",
   "execution_count": null,
   "id": "d2c7fcbc",
   "metadata": {},
   "outputs": [],
   "source": [
    "cell_population = chaste.cell_based.PottsBasedCellPopulation3(mesh,\n",
    "                                                              cells)"
   ]
  },
  {
   "cell_type": "markdown",
   "id": "dc3c8739",
   "metadata": {},
   "source": [
    "In order to visualize labelled cells we need to use the following command.\n",
    "\n"
   ]
  },
  {
   "cell_type": "code",
   "execution_count": null,
   "id": "401d5a8e",
   "metadata": {},
   "outputs": [],
   "source": [
    "cell_population.AddCellWriterCellLabelWriter()"
   ]
  },
  {
   "cell_type": "markdown",
   "id": "8eb40125",
   "metadata": {},
   "source": [
    "We then pass in the cell population into an `OffLatticeSimulation`, and set the output directory and end time\n",
    "\n"
   ]
  },
  {
   "cell_type": "code",
   "execution_count": null,
   "id": "95b77b57",
   "metadata": {},
   "outputs": [],
   "source": [
    "simulator = chaste.cell_based.OnLatticeSimulation3(cell_population)\n",
    "simulator.SetOutputDirectory(\"Python/TestPottsBasedCellSorting3D\")\n",
    "simulator.SetEndTime(20.0)\n",
    "simulator.SetSamplingTimestepMultiple(10)"
   ]
  },
  {
   "cell_type": "markdown",
   "id": "8fe58ca4",
   "metadata": {},
   "source": [
    "We must now create one or more update rules, which determine the Hamiltonian in the Potts simulation.\n",
    "Now set the target volume to be appropriate for this 3D simulation.\n",
    "\n"
   ]
  },
  {
   "cell_type": "code",
   "execution_count": null,
   "id": "98315238",
   "metadata": {},
   "outputs": [],
   "source": [
    "volume_constraint_update_rule = chaste.cell_based.VolumeConstraintPottsUpdateRule3()\n",
    "volume_constraint_update_rule.SetMatureCellTargetVolume(8)\n",
    "volume_constraint_update_rule.SetDeformationEnergyParameter(0.2)\n",
    "simulator.AddUpdateRule(volume_constraint_update_rule)"
   ]
  },
  {
   "cell_type": "markdown",
   "id": "e66a5118",
   "metadata": {},
   "source": [
    "We use the same differential adhesion parameters as in the 2D case.\n",
    "\n"
   ]
  },
  {
   "cell_type": "code",
   "execution_count": null,
   "id": "eb89094c",
   "metadata": {},
   "outputs": [],
   "source": [
    "differential_adhesion_update_rule = chaste.cell_based.DifferentialAdhesionPottsUpdateRule3()\n",
    "differential_adhesion_update_rule.SetLabelledCellLabelledCellAdhesionEnergyParameter(0.16)\n",
    "differential_adhesion_update_rule.SetLabelledCellCellAdhesionEnergyParameter(0.11)\n",
    "differential_adhesion_update_rule.SetCellCellAdhesionEnergyParameter(0.02)\n",
    "differential_adhesion_update_rule.SetLabelledCellBoundaryAdhesionEnergyParameter(0.16)\n",
    "differential_adhesion_update_rule.SetCellBoundaryAdhesionEnergyParameter(0.16)\n",
    "simulator.AddUpdateRule(differential_adhesion_update_rule)"
   ]
  },
  {
   "cell_type": "markdown",
   "id": "73a41c30",
   "metadata": {},
   "source": [
    "To run the simulation, we call `Solve()`.\n",
    "\n"
   ]
  },
  {
   "cell_type": "code",
   "execution_count": null,
   "id": "ab765b87",
   "metadata": {},
   "outputs": [],
   "source": [
    "simulator.Solve()"
   ]
  },
  {
   "cell_type": "markdown",
   "id": "5a35c7df",
   "metadata": {},
   "source": [
    "The next two lines are for test purposes only and are not part of this tutorial.\n",
    "If different simulation input parameters are being explored the lines should be removed.\n",
    "\n"
   ]
  },
  {
   "cell_type": "code",
   "execution_count": null,
   "id": "56d9c1bf",
   "metadata": {},
   "outputs": [],
   "source": [
    "                       20.0, 6)\n",
    "# Tear down the test \n",
    "chaste.cell_based.TearDownNotebookTest()"
   ]
  }
 ],
 "metadata": {},
 "nbformat": 4,
 "nbformat_minor": 5
}
