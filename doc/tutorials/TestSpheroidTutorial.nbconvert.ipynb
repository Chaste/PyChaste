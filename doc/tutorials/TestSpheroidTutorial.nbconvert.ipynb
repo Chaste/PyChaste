{
 "cells": [
  {
   "cell_type": "markdown",
   "id": "7d953825",
   "metadata": {},
   "source": [
    "This tutorial is automatically generated from the file ../test/python/cell_based/tutorials/TestSpheroidTutorial.py.\n",
    "\n"
   ]
  },
  {
   "cell_type": "code",
   "execution_count": null,
   "id": "28001f1c",
   "metadata": {},
   "outputs": [],
   "source": [
    "# Jupyter notebook specific imports \n",
    "import matplotlib as mpl \n",
    "from IPython import display \n",
    "%matplotlib inline"
   ]
  },
  {
   "cell_type": "markdown",
   "id": "c01108e5",
   "metadata": {},
   "source": [
    "\n",
    "# Introduction\n",
    "This tutorial is an example of modelling spheroid growth with a nutrient.\n",
    "It covers:\n",
    " * Setting up an off-lattice cell population\n",
    " * Setting up a cell cycle model with oxygen dependence\n",
    " * Setting up and solving an oxygen transport PDE\n",
    " * Setting up a cell killer\n",
    " ## Imports and Setup\n",
    "\n"
   ]
  },
  {
   "cell_type": "code",
   "execution_count": null,
   "id": "1cb48bf2",
   "metadata": {},
   "outputs": [],
   "source": [
    "import matplotlib.pyplot as plt # Plotting\n",
    "import numpy as np # Matrix tools\n",
    "import chaste # The PyChaste module\n",
    "import chaste.mesh # Contains meshes\n",
    "import chaste.pde # PDEs\n",
    "import chaste.cell_based # Contains cell populations\n",
    "import chaste.visualization # Visualization tools\n",
    "chaste.init() # Set up MPI"
   ]
  },
  {
   "cell_type": "markdown",
   "id": "f9056e76",
   "metadata": {},
   "source": [
    "## Test 1 - a 2D mesh-based spheroid\n",
    "In this test we set up a spheroid with a plentiful supply of oxygen on the boundary and watch it grow\n",
    "over time. Cells can gradually become apoptotic if the oxygen tension is too low.\n",
    "\n"
   ]
  },
  {
   "cell_type": "code",
   "execution_count": null,
   "id": "036baef6",
   "metadata": {},
   "outputs": [],
   "source": [
    "# Set up the test \n",
    "chaste.cell_based.SetupNotebookTest()"
   ]
  },
  {
   "cell_type": "markdown",
   "id": "e84e12d3",
   "metadata": {},
   "source": [
    "This time we will use on off-lattice `MeshBased` cell population. Cell centres are joined with\n",
    "springs with a Delauney Triangulation used to identify neighbours. Cell area is given by the dual\n",
    "(Voronoi Tesselation). We start off with a small number of cells. We use a `MutableMesh` which\n",
    "can change connectivity over time and a `HoneycombMeshGenerator` to set it up with a simple\n",
    "honeycomb pattern. Here the first and second arguments define the size of the mesh -\n",
    "we have chosen a mesh that is 5 nodes (i.e. cells) wide, and 5 nodes high. The extra '2' argument puts\n",
    "two layers of non-cell elements around the mesh, which help to form a nicer voronoi tesselation\n",
    "for area calculations.\n",
    "\n"
   ]
  },
  {
   "cell_type": "code",
   "execution_count": null,
   "id": "f5a2550f",
   "metadata": {},
   "outputs": [],
   "source": [
    "chaste.core.OutputFileHandler(\"Python/TestSpheroidTutorial\")\n",
    "generator = chaste.mesh.HoneycombMeshGenerator(5, 5)\n",
    "mesh = generator.GetMesh()"
   ]
  },
  {
   "cell_type": "markdown",
   "id": "cab30cb5",
   "metadata": {},
   "source": [
    "We create some cells next, with a stem-like proliferative type. This means they will continually\n",
    "proliferate if there is enough oxygen, similar to how a tumour spheroid may behave.\n",
    "\n"
   ]
  },
  {
   "cell_type": "code",
   "execution_count": null,
   "id": "32ae9dc1",
   "metadata": {},
   "outputs": [],
   "source": [
    "stem_type = chaste.cell_based.StemCellProliferativeType()\n",
    "cell_generator = chaste.cell_based.CellsGeneratorSimpleOxygenBasedCellCycleModel_2()\n",
    "cells = cell_generator.GenerateBasicRandom(mesh.GetNumNodes(), stem_type)"
   ]
  },
  {
   "cell_type": "markdown",
   "id": "a8d9e316",
   "metadata": {},
   "source": [
    "Define when cells become apoptotic\n",
    "\n"
   ]
  },
  {
   "cell_type": "code",
   "execution_count": null,
   "id": "c0a8ede5",
   "metadata": {},
   "outputs": [],
   "source": [
    "for eachCell in cells:\n",
    "    cell_cycle_model = eachCell.GetCellCycleModel()\n",
    "    eachCell.GetCellData().SetItem(\"oxygen\", 30.0)\n",
    "    cell_cycle_model.SetDimension(2)\n",
    "    cell_cycle_model.SetStemCellG1Duration(4.0)\n",
    "    cell_cycle_model.SetHypoxicConcentration(0.1)\n",
    "    cell_cycle_model.SetQuiescentConcentration(0.3)\n",
    "    cell_cycle_model.SetCriticalHypoxicDuration(8)\n",
    "    g1_duration = cell_cycle_model.GetStemCellG1Duration()\n",
    "    sg2m_duration = cell_cycle_model.GetSG2MDuration()\n",
    "    rnum = chaste.core.RandomNumberGenerator.Instance().ranf()\n",
    "    birth_time = -rnum * (g1_duration + sg2m_duration)\n",
    "    eachCell.SetBirthTime(birth_time)"
   ]
  },
  {
   "cell_type": "markdown",
   "id": "542c7805",
   "metadata": {},
   "source": [
    "Now we have a mesh and a set of cells to go with it, we can create a `CellPopulation` as before.\n",
    "\n"
   ]
  },
  {
   "cell_type": "code",
   "execution_count": null,
   "id": "26c2bdb7",
   "metadata": {},
   "outputs": [],
   "source": [
    "cell_population = chaste.cell_based.MeshBasedCellPopulation2_2(mesh, cells)"
   ]
  },
  {
   "cell_type": "markdown",
   "id": "d14c5bc6",
   "metadata": {},
   "source": [
    "To view the results of this and the next test in Paraview it is necessary to explicitly generate the required .vtu files.\n",
    "\n"
   ]
  },
  {
   "cell_type": "code",
   "execution_count": null,
   "id": "1a79e3e5",
   "metadata": {},
   "outputs": [],
   "source": [
    "cell_population.AddPopulationWriterVoronoiDataWriter()"
   ]
  },
  {
   "cell_type": "markdown",
   "id": "2d30ffa6",
   "metadata": {},
   "source": [
    "We then pass in the cell population into an `OffLatticeSimulation`, and set the output directory and end time.\n",
    "\n"
   ]
  },
  {
   "cell_type": "code",
   "execution_count": null,
   "id": "ddd98115",
   "metadata": {},
   "outputs": [],
   "source": [
    "simulator = chaste.cell_based.OffLatticeSimulation2_2(cell_population)\n",
    "simulator.SetOutputDirectory(\"Python/TestSpheroidTutorial\")\n",
    "simulator.SetEndTime(5.0)"
   ]
  },
  {
   "cell_type": "markdown",
   "id": "4ec5e761",
   "metadata": {},
   "source": [
    "We ask for output every 12 increments\n",
    "\n"
   ]
  },
  {
   "cell_type": "code",
   "execution_count": null,
   "id": "28a96497",
   "metadata": {},
   "outputs": [],
   "source": [
    "simulator.SetSamplingTimestepMultiple(100)"
   ]
  },
  {
   "cell_type": "markdown",
   "id": "b2e29299",
   "metadata": {},
   "source": [
    "We define how the springs between cells behave using a force law.\n",
    "\n"
   ]
  },
  {
   "cell_type": "code",
   "execution_count": null,
   "id": "68bac92a",
   "metadata": {},
   "outputs": [],
   "source": [
    "force = chaste.cell_based.GeneralisedLinearSpringForce2_2()\n",
    "simulator.AddForce(force)"
   ]
  },
  {
   "cell_type": "markdown",
   "id": "6242379d",
   "metadata": {},
   "source": [
    "We set up a PDE for oxygen diffusion and consumption by cells, setting the rate of consumption to 0.1\n",
    "\n"
   ]
  },
  {
   "cell_type": "code",
   "execution_count": null,
   "id": "705b8b8b",
   "metadata": {},
   "outputs": [],
   "source": [
    "pde = chaste.cell_based.CellwiseSourceEllipticPde2(cell_population, -0.5)"
   ]
  },
  {
   "cell_type": "markdown",
   "id": "8a44cf04",
   "metadata": {},
   "source": [
    "We set a constant amount of oxygen on the edge of the spheroid\n",
    "\n"
   ]
  },
  {
   "cell_type": "code",
   "execution_count": null,
   "id": "ca02d747",
   "metadata": {},
   "outputs": [],
   "source": [
    "bc = chaste.pde.ConstBoundaryCondition2(1.0)\n",
    "is_neumann_bc = False"
   ]
  },
  {
   "cell_type": "markdown",
   "id": "79ebdc8b",
   "metadata": {},
   "source": [
    "Set up a pde modifier to solve the PDE at each simulation time step\n",
    "\n"
   ]
  },
  {
   "cell_type": "code",
   "execution_count": null,
   "id": "64493e57",
   "metadata": {},
   "outputs": [],
   "source": [
    "#pde_modifier.SetDependentVariableName(\"oxygen\")\n",
    "#simulator.AddSimulationModifier(pde_modifier)"
   ]
  },
  {
   "cell_type": "markdown",
   "id": "e1ee68a4",
   "metadata": {},
   "source": [
    "As before, we set up a scene modifier for real-time visualization\n",
    "\n"
   ]
  },
  {
   "cell_type": "code",
   "execution_count": null,
   "id": "4543c5ba",
   "metadata": {},
   "outputs": [],
   "source": [
    "scene = chaste.visualization.VtkScene2()\n",
    "scene.SetCellPopulation(cell_population)\n",
    "scene.GetCellPopulationActorGenerator().SetColorByCellData(True)\n",
    "scene.GetCellPopulationActorGenerator().SetDataLabel(\"oxygen\")\n",
    "scene.GetCellPopulationActorGenerator().SetShowCellCentres(True)\n",
    "scene.GetCellPopulationActorGenerator().SetShowVoronoiMeshEdges(False)\n",
    "nb_manager = chaste.visualization.JupyterNotebookManager()\n",
    "scene_modifier = chaste.visualization.JupyterSceneModifier2(nb_manager)\n",
    "scene_modifier.SetVtkScene(scene)\n",
    "scene_modifier.SetUpdateFrequency(100)\n",
    "simulator.AddSimulationModifier(scene_modifier)"
   ]
  },
  {
   "cell_type": "markdown",
   "id": "54fb894b",
   "metadata": {},
   "source": [
    "Eventually remove apoptotic cells\n",
    "\n"
   ]
  },
  {
   "cell_type": "code",
   "execution_count": null,
   "id": "239312fd",
   "metadata": {},
   "outputs": [],
   "source": [
    "killer = chaste.cell_based.ApoptoticCellKiller2(cell_population)\n",
    "simulator.AddCellKiller(killer)"
   ]
  },
  {
   "cell_type": "markdown",
   "id": "799be0a3",
   "metadata": {},
   "source": [
    "To run the simulation, we call `Solve()`. We can again do a quick rendering of the population at the end of the simulation\n",
    "\n"
   ]
  },
  {
   "cell_type": "code",
   "execution_count": null,
   "id": "bce6762b",
   "metadata": {},
   "outputs": [],
   "source": [
    "scene.Start()\n",
    "simulator.Solve()\n",
    "# Tear down the test \n",
    "chaste.cell_based.TearDownNotebookTest()"
   ]
  },
  {
   "cell_type": "markdown",
   "id": "d956368f",
   "metadata": {},
   "source": [
    "Full results can be visualized in Paraview from the `file_handler.GetOutputDirectoryFullPath()` directory.\n",
    "\n"
   ]
  }
 ],
 "metadata": {},
 "nbformat": 4,
 "nbformat_minor": 5
}
