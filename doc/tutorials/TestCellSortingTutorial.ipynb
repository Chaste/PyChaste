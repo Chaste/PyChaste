{
 "cells": [
  {
   "cell_type": "markdown",
   "metadata": {},
   "source": [
    "This tutorial is automatically generated from the file test/python/cell_based/tutorials/TestCellSortingTutorial.py.\n",
    "\n"
   ]
  },
  {
   "cell_type": "code",
   "execution_count": 1,
   "metadata": {},
   "outputs": [],
   "source": [
    "# Jupyter notebook specific imports \n",
    "import matplotlib as mpl \n",
    "from IPython import display \n",
    "%matplotlib inline"
   ]
  },
  {
   "cell_type": "markdown",
   "metadata": {},
   "source": [
    "\n",
    "# Introduction\n",
    "This test is a demonstration of cell sorting using a Cellular Potts based framework.\n",
    "It shows:\n",
    " * How to set up a Potts simulation\n",
    " * Working with labels\n",
    " \n",
    "## The Test\n",
    "\n"
   ]
  },
  {
   "cell_type": "code",
   "execution_count": 2,
   "metadata": {},
   "outputs": [],
   "source": [
    "import matplotlib.pyplot as plt # Plotting\n",
    "import numpy as np # Matrix tools\n",
    "import chaste # The PyChaste module\n",
    "chaste.init() # Set up MPI\n",
    "import chaste.cell_based # Contains cell populations\n",
    "import chaste.mesh # Contains meshes\n",
    "import chaste.visualization # Visualization tools"
   ]
  },
  {
   "cell_type": "markdown",
   "metadata": {},
   "source": [
    "## Test 1 - Cell sorting\n",
    "The next test generates a collection of cells, there are two types of cells, labelled ones and non labelled ones,\n",
    "there is differential adhesion between the cell types. For the parameters specified, the cells sort into separate types.\n",
    "\n"
   ]
  },
  {
   "cell_type": "code",
   "execution_count": 3,
   "metadata": {},
   "outputs": [],
   "source": [
    "# Set up the test \n",
    "chaste.cell_based.SetupNotebookTest()"
   ]
  },
  {
   "cell_type": "markdown",
   "metadata": {},
   "source": [
    "First, we generate a `Potts` mesh. To create a `PottsMesh`, we can use the `PottsMeshGenerator`.\n",
    "This generates a regular square-shaped mesh, in which all elements are the same size.\n",
    "We have chosen an 8 by 8 block of elements each consisting of 4 by 4 ( = 16) lattice sites.\n",
    "\n"
   ]
  },
  {
   "cell_type": "code",
   "execution_count": 4,
   "metadata": {},
   "outputs": [],
   "source": [
    "generator = chaste.mesh.PottsMeshGenerator2(50, 8, 4, 50, 8, 4)\n",
    "mesh = generator.GetMesh()"
   ]
  },
  {
   "cell_type": "markdown",
   "metadata": {},
   "source": [
    "Having created a mesh, we now create some cells. To do this, we the `CellsGenerator` helper class,\n",
    "as before but this time the third argument is set to make all cells non-proliferative.\n",
    "\n"
   ]
  },
  {
   "cell_type": "code",
   "execution_count": 5,
   "metadata": {},
   "outputs": [],
   "source": [
    "differentiated_type = chaste.cell_based.DifferentiatedCellProliferativeType()\n",
    "cell_generator = chaste.cell_based.CellsGeneratorUniformCellCycleModel_2()\n",
    "cells = cell_generator.GenerateBasicRandom(mesh.GetNumElements(), differentiated_type)"
   ]
  },
  {
   "cell_type": "markdown",
   "metadata": {},
   "source": [
    "Before we make a CellPopulation we make a cell label and then assign this label to some randomly chosen cells.\n",
    "\n"
   ]
  },
  {
   "cell_type": "code",
   "execution_count": 6,
   "metadata": {},
   "outputs": [],
   "source": [
    "label = chaste.cell_based.CellLabel()\n",
    "for eachCell in cells:\n",
    "    if(chaste.core.RandomNumberGenerator.Instance().ranf()<0.5):\n",
    "        eachCell.AddCellProperty(label)"
   ]
  },
  {
   "cell_type": "markdown",
   "metadata": {},
   "source": [
    "Now we have a mesh and a set of cells to go with it, we can create a `CellPopulation`.\n",
    "\n"
   ]
  },
  {
   "cell_type": "code",
   "execution_count": 7,
   "metadata": {},
   "outputs": [],
   "source": [
    "cell_population = chaste.cell_based.PottsBasedCellPopulation2(mesh, cells)"
   ]
  },
  {
   "cell_type": "markdown",
   "metadata": {},
   "source": [
    "In order to visualize labelled cells we need to use the following command.\n",
    "\n"
   ]
  },
  {
   "cell_type": "code",
   "execution_count": 8,
   "metadata": {},
   "outputs": [],
   "source": [
    "cell_population.AddCellWriterCellLabelWriter()"
   ]
  },
  {
   "cell_type": "markdown",
   "metadata": {},
   "source": [
    "PyChaste can do simple 3D rendering with VTK. We set up a VtkScene so that we can\n",
    "see the population evovle in real time.\n",
    "\n"
   ]
  },
  {
   "cell_type": "code",
   "execution_count": 10,
   "metadata": {},
   "outputs": [],
   "source": [
    "scene= chaste.visualization.VtkScene2()\n",
    "scene.SetCellPopulation(cell_population)\n",
    "scene.GetCellPopulationActorGenerator().SetShowPottsMeshEdges(True)\n",
    "nb_manager = chaste.visualization.JupyterNotebookManager()\n",
    "#nb_manager.vtk_show(scene, height=600)"
   ]
  },
  {
   "cell_type": "markdown",
   "metadata": {},
   "source": [
    "We then pass in the cell population into an `OffLatticeSimulation`, and set the output directory and end time\n",
    "\n"
   ]
  },
  {
   "cell_type": "code",
   "execution_count": 11,
   "metadata": {},
   "outputs": [],
   "source": [
    "simulator = chaste.cell_based.OnLatticeSimulation2(cell_population)\n",
    "simulator.SetOutputDirectory(\"Python/TestCellSorting\")\n",
    "simulator.SetEndTime(20.0)\n",
    "simulator.SetSamplingTimestepMultiple(10)"
   ]
  },
  {
   "cell_type": "markdown",
   "metadata": {},
   "source": [
    "We must now create one or more update rules, which determine the Hamiltonian in the Potts simulation.\n",
    "For this test, we use two update rules based upon a volume constraint (`VolumeConstraintPottsUpdateRule`) and\n",
    "differential adhesion between cells (`DifferentialAdhesionPottsUpdateRule`), set appropriate parameters, and\n",
    "pass them to the `OnLatticeSimulation`.\n",
    "\n"
   ]
  },
  {
   "cell_type": "code",
   "execution_count": 12,
   "metadata": {},
   "outputs": [],
   "source": [
    "volume_constraint_update_rule = chaste.cell_based.VolumeConstraintPottsUpdateRule2()\n",
    "volume_constraint_update_rule.SetMatureCellTargetVolume(16)\n",
    "volume_constraint_update_rule.SetDeformationEnergyParameter(0.2)\n",
    "simulator.AddUpdateRule(volume_constraint_update_rule)"
   ]
  },
  {
   "cell_type": "markdown",
   "metadata": {},
   "source": [
    "We repeat the process for any other update rules.\n",
    "\n"
   ]
  },
  {
   "cell_type": "code",
   "execution_count": 13,
   "metadata": {},
   "outputs": [],
   "source": [
    "differential_adhesion_update_rule = chaste.cell_based.DifferentialAdhesionPottsUpdateRule2()\n",
    "differential_adhesion_update_rule.SetLabelledCellLabelledCellAdhesionEnergyParameter(0.16)\n",
    "differential_adhesion_update_rule.SetLabelledCellCellAdhesionEnergyParameter(0.11)\n",
    "differential_adhesion_update_rule.SetCellCellAdhesionEnergyParameter(0.02)\n",
    "differential_adhesion_update_rule.SetLabelledCellBoundaryAdhesionEnergyParameter(0.16)\n",
    "differential_adhesion_update_rule.SetCellBoundaryAdhesionEnergyParameter(0.16)\n",
    "simulator.AddUpdateRule(differential_adhesion_update_rule)"
   ]
  },
  {
   "cell_type": "markdown",
   "metadata": {},
   "source": [
    "Set up plotting\n",
    "\n"
   ]
  },
  {
   "cell_type": "code",
   "execution_count": 14,
   "metadata": {},
   "outputs": [],
   "source": [
    "scene_modifier = chaste.visualization.JupyterSceneModifier2(nb_manager)\n",
    "scene_modifier.SetVtkScene(scene)\n",
    "scene_modifier.SetUpdateFrequency(1000)\n",
    "simulator.AddSimulationModifier(scene_modifier)"
   ]
  },
  {
   "cell_type": "markdown",
   "metadata": {},
   "source": [
    "To run the simulation, we call `Solve()`.\n",
    "\n"
   ]
  },
  {
   "cell_type": "code",
   "execution_count": 15,
   "metadata": {},
   "outputs": [
    {
     "ename": "TypeError",
     "evalue": "Unable to convert function return value to a Python type! The signature was\n\t(self: chaste.visualization._chaste_project_PyChaste_visualization.VtkScene2) -> vtkSmartPointer<vtkRenderer>",
     "output_type": "error",
     "traceback": [
      "\u001b[0;31m---------------------------------------------------------------------------\u001b[0m",
      "\u001b[0;31mTypeError\u001b[0m                                 Traceback (most recent call last)",
      "\u001b[0;32m<ipython-input-15-44e7981dfade>\u001b[0m in \u001b[0;36m<module>\u001b[0;34m\u001b[0m\n\u001b[1;32m      1\u001b[0m \u001b[0mscene\u001b[0m\u001b[0;34m.\u001b[0m\u001b[0mStart\u001b[0m\u001b[0;34m(\u001b[0m\u001b[0;34m)\u001b[0m\u001b[0;34m\u001b[0m\u001b[0;34m\u001b[0m\u001b[0m\n\u001b[0;32m----> 2\u001b[0;31m \u001b[0msimulator\u001b[0m\u001b[0;34m.\u001b[0m\u001b[0mSolve\u001b[0m\u001b[0;34m(\u001b[0m\u001b[0;34m)\u001b[0m\u001b[0;34m\u001b[0m\u001b[0;34m\u001b[0m\u001b[0m\n\u001b[0m\u001b[1;32m      3\u001b[0m \u001b[0;31m# Tear down the test\u001b[0m\u001b[0;34m\u001b[0m\u001b[0;34m\u001b[0m\u001b[0;34m\u001b[0m\u001b[0m\n\u001b[1;32m      4\u001b[0m \u001b[0mchaste\u001b[0m\u001b[0;34m.\u001b[0m\u001b[0mcell_based\u001b[0m\u001b[0;34m.\u001b[0m\u001b[0mTearDownNotebookTest\u001b[0m\u001b[0;34m(\u001b[0m\u001b[0;34m)\u001b[0m\u001b[0;34m\u001b[0m\u001b[0;34m\u001b[0m\u001b[0m\n",
      "\u001b[0;32m~/Code/chaste-build/projects/PyChaste/python/chaste/visualization/fortests.py\u001b[0m in \u001b[0;36mUpdateAtEndOfTimeStep\u001b[0;34m(self, cell_population)\u001b[0m\n\u001b[1;32m    179\u001b[0m \u001b[0;34m\u001b[0m\u001b[0m\n\u001b[1;32m    180\u001b[0m             \u001b[0;32mif\u001b[0m \u001b[0mself\u001b[0m\u001b[0;34m.\u001b[0m\u001b[0moutput_format\u001b[0m \u001b[0;34m==\u001b[0m \u001b[0;34m'png'\u001b[0m\u001b[0;34m:\u001b[0m\u001b[0;34m\u001b[0m\u001b[0;34m\u001b[0m\u001b[0m\n\u001b[0;32m--> 181\u001b[0;31m                 \u001b[0mIPython\u001b[0m\u001b[0;34m.\u001b[0m\u001b[0mdisplay\u001b[0m\u001b[0;34m.\u001b[0m\u001b[0mdisplay\u001b[0m\u001b[0;34m(\u001b[0m\u001b[0mself\u001b[0m\u001b[0;34m.\u001b[0m\u001b[0mplotting_manager\u001b[0m\u001b[0;34m.\u001b[0m\u001b[0mvtk_show\u001b[0m\u001b[0;34m(\u001b[0m\u001b[0mself\u001b[0m\u001b[0;34m.\u001b[0m\u001b[0mGetVtkScene\u001b[0m\u001b[0;34m(\u001b[0m\u001b[0;34m)\u001b[0m\u001b[0;34m,\u001b[0m \u001b[0moutput_format\u001b[0m\u001b[0;34m=\u001b[0m\u001b[0mself\u001b[0m\u001b[0;34m.\u001b[0m\u001b[0moutput_format\u001b[0m\u001b[0;34m)\u001b[0m\u001b[0;34m)\u001b[0m\u001b[0;34m\u001b[0m\u001b[0;34m\u001b[0m\u001b[0m\n\u001b[0m\u001b[1;32m    182\u001b[0m             \u001b[0;32melse\u001b[0m\u001b[0;34m:\u001b[0m\u001b[0;34m\u001b[0m\u001b[0;34m\u001b[0m\u001b[0m\n\u001b[1;32m    183\u001b[0m                 \u001b[0mself\u001b[0m\u001b[0;34m.\u001b[0m\u001b[0mplotting_manager\u001b[0m\u001b[0;34m.\u001b[0m\u001b[0mvtk_show\u001b[0m\u001b[0;34m(\u001b[0m\u001b[0mself\u001b[0m\u001b[0;34m.\u001b[0m\u001b[0mGetVtkScene\u001b[0m\u001b[0;34m(\u001b[0m\u001b[0;34m)\u001b[0m\u001b[0;34m,\u001b[0m \u001b[0moutput_format\u001b[0m\u001b[0;34m=\u001b[0m\u001b[0mself\u001b[0m\u001b[0;34m.\u001b[0m\u001b[0moutput_format\u001b[0m\u001b[0;34m)\u001b[0m\u001b[0;34m\u001b[0m\u001b[0;34m\u001b[0m\u001b[0m\n",
      "\u001b[0;32m~/Code/chaste-build/projects/PyChaste/python/chaste/visualization/fortests.py\u001b[0m in \u001b[0;36mvtk_show\u001b[0;34m(self, scene, width, height, output_format, increment)\u001b[0m\n\u001b[1;32m    132\u001b[0m                 \u001b[0mrenderWindow\u001b[0m \u001b[0;34m=\u001b[0m \u001b[0mvtk\u001b[0m\u001b[0;34m.\u001b[0m\u001b[0mvtkRenderWindow\u001b[0m\u001b[0;34m(\u001b[0m\u001b[0;34m)\u001b[0m\u001b[0;34m\u001b[0m\u001b[0;34m\u001b[0m\u001b[0m\n\u001b[1;32m    133\u001b[0m                 \u001b[0mrenderWindow\u001b[0m\u001b[0;34m.\u001b[0m\u001b[0mSetOffScreenRendering\u001b[0m\u001b[0;34m(\u001b[0m\u001b[0;36m1\u001b[0m\u001b[0;34m)\u001b[0m\u001b[0;34m\u001b[0m\u001b[0;34m\u001b[0m\u001b[0m\n\u001b[0;32m--> 134\u001b[0;31m                 \u001b[0mrenderWindow\u001b[0m\u001b[0;34m.\u001b[0m\u001b[0mAddRenderer\u001b[0m\u001b[0;34m(\u001b[0m\u001b[0mscene\u001b[0m\u001b[0;34m.\u001b[0m\u001b[0mGetRenderer\u001b[0m\u001b[0;34m(\u001b[0m\u001b[0;34m)\u001b[0m\u001b[0;34m)\u001b[0m\u001b[0;34m\u001b[0m\u001b[0;34m\u001b[0m\u001b[0m\n\u001b[0m\u001b[1;32m    135\u001b[0m                 \u001b[0mrenderWindow\u001b[0m\u001b[0;34m.\u001b[0m\u001b[0mSetSize\u001b[0m\u001b[0;34m(\u001b[0m\u001b[0mwidth\u001b[0m\u001b[0;34m,\u001b[0m \u001b[0mheight\u001b[0m\u001b[0;34m)\u001b[0m\u001b[0;34m\u001b[0m\u001b[0;34m\u001b[0m\u001b[0m\n\u001b[1;32m    136\u001b[0m                 \u001b[0mrenderWindow\u001b[0m\u001b[0;34m.\u001b[0m\u001b[0mRender\u001b[0m\u001b[0;34m(\u001b[0m\u001b[0;34m)\u001b[0m\u001b[0;34m\u001b[0m\u001b[0;34m\u001b[0m\u001b[0m\n",
      "\u001b[0;31mTypeError\u001b[0m: Unable to convert function return value to a Python type! The signature was\n\t(self: chaste.visualization._chaste_project_PyChaste_visualization.VtkScene2) -> vtkSmartPointer<vtkRenderer>"
     ]
    }
   ],
   "source": [
    "scene.Start()\n",
    "simulator.Solve()\n",
    "# Tear down the test \n",
    "chaste.cell_based.TearDownNotebookTest()"
   ]
  },
  {
   "cell_type": "code",
   "execution_count": null,
   "metadata": {},
   "outputs": [],
   "source": []
  }
 ],
 "metadata": {
  "kernelspec": {
   "display_name": "Python 3",
   "language": "python",
   "name": "python3"
  },
  "language_info": {
   "codemirror_mode": {
    "name": "ipython",
    "version": 3
   },
   "file_extension": ".py",
   "mimetype": "text/x-python",
   "name": "python",
   "nbconvert_exporter": "python",
   "pygments_lexer": "ipython3",
   "version": "3.6.9"
  }
 },
 "nbformat": 4,
 "nbformat_minor": 2
}
