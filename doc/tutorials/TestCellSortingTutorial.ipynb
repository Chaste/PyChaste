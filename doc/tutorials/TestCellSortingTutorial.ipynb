{
 "metadata": {
  "name": "",
  "signature": "sha256:1546d3ff16fce06dcfff9bfd938e68b5b4d0079a4d34acacad81983b9c8679ee"
 },
 "nbformat": 3,
 "nbformat_minor": 0,
 "worksheets": [
  {
   "cells": [
    {
     "cell_type": "markdown",
     "metadata": {},
     "source": [
      "This tutorial is automatically generated from the file test/python/cell_based/tutorials/TestCellSortingTutorial.py.\n",
      "\n"
     ]
    },
    {
     "cell_type": "code",
     "collapsed": false,
     "input": [
      "# Jupyter notebook specific imports \n",
      "import matplotlib as mpl \n",
      "import matplotlib.pyplot as plt \n",
      "%matplotlib inline"
     ],
     "language": "python",
     "metadata": {},
     "outputs": [],
     "prompt_number": 1
    },
    {
     "cell_type": "markdown",
     "metadata": {},
     "source": [
      "\n",
      "# Introduction\n",
      "This test is a demonstration of cell sorting using a Cellular Potts based framework.\n",
      "It shows:\n",
      " * How to set up a Potts simulation\n",
      " * Working with labels\n",
      " \n",
      "## The Test\n",
      "\n"
     ]
    },
    {
     "cell_type": "code",
     "collapsed": false,
     "input": [
      "import chaste.core\n",
      "chaste.init()\n",
      "import chaste.cell_based\n",
      "import chaste.mesh\n",
      "import chaste.visualization"
     ],
     "language": "python",
     "metadata": {},
     "outputs": [],
     "prompt_number": 2
    },
    {
     "cell_type": "markdown",
     "metadata": {},
     "source": [
      "## Test 1 - Cell sorting\n",
      "The next test generates a collection of cells, there are two types of cells, labelled ones and non labelled ones,\n",
      "there is differential adhesion between the cell types. For the parameters specified, the cells sort into separate types.\n",
      "\n"
     ]
    },
    {
     "cell_type": "markdown",
     "metadata": {},
     "source": [
      "First, we generate a Potts mesh. To create a PottsMesh, we can use the PottsMeshGenerator.\n",
      "This generates a regular square-shaped mesh, in which all elements are the same size.\n",
      "We have chosen an 8 by 8 block of elements each consisting of 4 by 4 ( = 16) lattice sites.\n",
      "\n"
     ]
    },
    {
     "cell_type": "code",
     "collapsed": false,
     "input": [
      "# Set up the test \n",
      "chaste.cell_based.SetupNotebookTest()\n",
      "\n",
      "generator = chaste.mesh.PottsMeshGenerator2(50, 8, 4, 50, 8, 4)\n",
      "mesh = generator.GetMesh()"
     ],
     "language": "python",
     "metadata": {},
     "outputs": [],
     "prompt_number": 3
    },
    {
     "cell_type": "markdown",
     "metadata": {},
     "source": [
      "Having created a mesh, we now create some cells. To do this, we the CellsGenerator helper class,\n",
      "as before but this time the third argument is set to make all cells non-proliferative.\n",
      "\n"
     ]
    },
    {
     "cell_type": "code",
     "collapsed": false,
     "input": [
      "cells = chaste.cell_based.VecCellPtr()\n",
      "differentiated_type = chaste.cell_based.DifferentiatedCellProliferativeType()\n",
      "cell_generator = chaste.cell_based.CellsGeneratorUniformCellCycleModel_2()\n",
      "cell_generator.GenerateBasicRandom(cells, mesh.GetNumElements(), differentiated_type)"
     ],
     "language": "python",
     "metadata": {},
     "outputs": [],
     "prompt_number": 4
    },
    {
     "cell_type": "markdown",
     "metadata": {},
     "source": [
      "Before we make a CellPopulation we make a cell label and then assign this label to some randomly chosen cells.\n",
      "\n"
     ]
    },
    {
     "cell_type": "code",
     "collapsed": false,
     "input": [
      "label = chaste.cell_based.CellLabel()\n",
      "for eachCell in cells:\n",
      "    if(chaste.core.RandomNumberGenerator.Instance().ranf()<0.5):\n",
      "        eachCell.AddCellProperty(label)"
     ],
     "language": "python",
     "metadata": {},
     "outputs": [],
     "prompt_number": 5
    },
    {
     "cell_type": "markdown",
     "metadata": {},
     "source": [
      "Now we have a mesh and a set of cells to go with it, we can create a CellPopulation.\n",
      "\n"
     ]
    },
    {
     "cell_type": "code",
     "collapsed": false,
     "input": [
      "cell_population = chaste.cell_based.PottsBasedCellPopulation2(mesh, cells)"
     ],
     "language": "python",
     "metadata": {},
     "outputs": [],
     "prompt_number": 6
    },
    {
     "cell_type": "markdown",
     "metadata": {},
     "source": [
      "In order to visualize labelled cells we need to use the following command.\n",
      "\n"
     ]
    },
    {
     "cell_type": "code",
     "collapsed": false,
     "input": [
      "cell_population.AddCellWriterCellLabelWriter();"
     ],
     "language": "python",
     "metadata": {},
     "outputs": [],
     "prompt_number": 7
    },
    {
     "cell_type": "markdown",
     "metadata": {},
     "source": [
      "PyChaste can do simple 3D rendering with VTK. We set up a VtkScene so that we can see the population evovle in real time."
     ]
    },
    {
     "cell_type": "code",
     "collapsed": false,
     "input": [
      "scene= chaste.visualization.VtkScene2()\n",
      "scene.SetCellPopulation(cell_population)\n",
      "scene.GetCellPopulationActorGenerator().SetShowCellCentres(True)\n",
      "scene.GetCellPopulationActorGenerator().SetColorByCellType(True)\n",
      "nb_manager = chaste.visualization.JupyterNotebookManager()\n",
      "nb_manager.vtk_show(scene, width=600)"
     ],
     "language": "python",
     "metadata": {},
     "outputs": [
      {
       "metadata": {},
       "output_type": "pyout",
       "png": "[encoded data removed]",
       "prompt_number": 8,
       "text": [
        "<IPython.core.display.Image at 0x7f25e57cd5d0>"
       ]
      }
     ],
     "prompt_number": 8
    },
    {
     "cell_type": "markdown",
     "metadata": {},
     "source": [
      "We then pass in the cell population into an `OffLatticeSimulation`, and set the output directory and end time\n",
      "\n"
     ]
    },
    {
     "cell_type": "code",
     "collapsed": false,
     "input": [
      "simulator = chaste.cell_based.OnLatticeSimulation2(cell_population)\n",
      "simulator.SetOutputDirectory(\"Python/TestCellSorting\")\n",
      "simulator.SetEndTime(10.0)\n",
      "simulator.SetSamplingTimestepMultiple(10)"
     ],
     "language": "python",
     "metadata": {},
     "outputs": [],
     "prompt_number": 9
    },
    {
     "cell_type": "markdown",
     "metadata": {},
     "source": [
      "We must now create one or more update rules, which determine the Hamiltonian in the Potts simulation.\n",
      "For this test, we use two update rules based upon a volume constraint (VolumeConstraintPottsUpdateRule) and\n",
      "differential adhesion between cells (DifferentialAdhesionPottsUpdateRule), set appropriate parameters, and\n",
      "pass them to the OnLatticeSimulation.\n",
      "\n"
     ]
    },
    {
     "cell_type": "code",
     "collapsed": false,
     "input": [
      "volume_constraint_update_rule = chaste.cell_based.VolumeConstraintPottsUpdateRule2()\n",
      "volume_constraint_update_rule.SetMatureCellTargetVolume(16)\n",
      "volume_constraint_update_rule.SetDeformationEnergyParameter(0.2)\n",
      "simulator.AddUpdateRule(volume_constraint_update_rule)"
     ],
     "language": "python",
     "metadata": {},
     "outputs": [],
     "prompt_number": 10
    },
    {
     "cell_type": "markdown",
     "metadata": {},
     "source": [
      "We repeat the process for any other update rules.\n",
      "\n"
     ]
    },
    {
     "cell_type": "code",
     "collapsed": false,
     "input": [
      "differential_adhesion_update_rule = chaste.cell_based.DifferentialAdhesionPottsUpdateRule2()\n",
      "differential_adhesion_update_rule.SetLabelledCellLabelledCellAdhesionEnergyParameter(0.16)\n",
      "differential_adhesion_update_rule.SetLabelledCellCellAdhesionEnergyParameter(0.11)\n",
      "differential_adhesion_update_rule.SetCellCellAdhesionEnergyParameter(0.02)\n",
      "differential_adhesion_update_rule.SetLabelledCellBoundaryAdhesionEnergyParameter(0.16)\n",
      "differential_adhesion_update_rule.SetCellBoundaryAdhesionEnergyParameter(0.16)\n",
      "simulator.AddUpdateRule(differential_adhesion_update_rule)"
     ],
     "language": "python",
     "metadata": {},
     "outputs": [],
     "prompt_number": 11
    },
    {
     "cell_type": "code",
     "collapsed": false,
     "input": [
      "scene_modifier = chaste.visualization.JupyterSceneModifier2(nb_manager)\n",
      "scene_modifier.SetVtkScene(scene)\n",
      "scene_modifier.SetUpdateFrequency(1000)\n",
      "simulator.AddSimulationModifier(scene_modifier)"
     ],
     "language": "python",
     "metadata": {},
     "outputs": [],
     "prompt_number": 12
    },
    {
     "cell_type": "markdown",
     "metadata": {},
     "source": [
      "To run the simulation, we call `Solve()`.\n",
      "\n"
     ]
    },
    {
     "cell_type": "code",
     "collapsed": false,
     "input": [
      "scene.Start()\n",
      "simulator.Solve();"
     ],
     "language": "python",
     "metadata": {},
     "outputs": [
      {
       "metadata": {},
       "output_type": "display_data",
       "png": "[encoded data removed]",
       "text": [
        "<IPython.core.display.Image at 0x7f25e57c1950>"
       ]
      }
     ],
     "prompt_number": 13
    },
    {
     "cell_type": "code",
     "collapsed": false,
     "input": [],
     "language": "python",
     "metadata": {},
     "outputs": []
    }
   ],
   "metadata": {}
  }
 ]
}