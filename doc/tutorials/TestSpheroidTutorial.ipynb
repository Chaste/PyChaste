{
 "metadata": {
  "name": "",
  "signature": "sha256:c074ac8f10301493d82b94e81be5351bb773c6ded975a7b9df46711acdf904df"
 },
 "nbformat": 3,
 "nbformat_minor": 0,
 "worksheets": [
  {
   "cells": [
    {
     "cell_type": "markdown",
     "metadata": {},
     "source": [
      "This tutorial is automatically generated from the file test/python/cell_based/tutorials/TestSpheroidTutorial.py.\n",
      "\n"
     ]
    },
    {
     "cell_type": "code",
     "collapsed": false,
     "input": [
      "# Jupyter notebook specific imports \n",
      "import matplotlib as mpl \n",
      "from IPython import display \n",
      "%matplotlib inline"
     ],
     "language": "python",
     "metadata": {},
     "outputs": [],
     "prompt_number": 1
    },
    {
     "cell_type": "markdown",
     "metadata": {},
     "source": [
      "\n",
      "# Introduction\n",
      "This tutorial is an example of modelling spheroid growth with a nutrient.\n",
      "It covers:\n",
      " * Setting up an off-lattice cell population\n",
      " * Setting up a cell cycle model with oxygen dependence\n",
      " * Setting up and solving an oxygen transport PDE\n",
      " * Setting up a cell killer\n",
      " ## Imports and Setup\n",
      "\n"
     ]
    },
    {
     "cell_type": "code",
     "collapsed": false,
     "input": [
      "import matplotlib.pyplot as plt # Plotting\n",
      "import numpy as np # Matrix tools\n",
      "import chaste # The PyChaste module\n",
      "chaste.init() # Set up MPI\n",
      "import chaste.cell_based # Contains cell populations\n",
      "import chaste.mesh # Contains meshes\n",
      "import chaste.visualization # Visualization tools\n",
      "import chaste.pde # PDEs "
     ],
     "language": "python",
     "metadata": {},
     "outputs": [],
     "prompt_number": 2
    },
    {
     "cell_type": "markdown",
     "metadata": {},
     "source": [
      "## Test 1 - a 2D mesh-based spheroid\n",
      "In this test we set up a spheroid with a plentiful supply of oxygen on the boundary and watch it grow\n",
      "over time. Cells can gradually become apoptotic if the oxygen tension is too low.\n",
      "\n"
     ]
    },
    {
     "cell_type": "code",
     "collapsed": false,
     "input": [
      "# Set up the test \n",
      "chaste.cell_based.SetupNotebookTest()"
     ],
     "language": "python",
     "metadata": {},
     "outputs": [],
     "prompt_number": 3
    },
    {
     "cell_type": "markdown",
     "metadata": {},
     "source": [
      "This time we will use on off-lattice `MeshBased` cell population. Cell centres are joined with\n",
      "springs with a Delauney Triangulation used to identify neighbours. Cell area is given by the dual\n",
      "(Voronoi Tesselation). We start off with a small number of cells. We use a `MutableMesh` which\n",
      "can change connectivity over time and a `HoneycombMeshGenerator` to set it up with a simple\n",
      "honeycomb pattern. Here the first and second arguments define the size of the mesh -\n",
      "we have chosen a mesh that is 5 nodes (i.e. cells) wide, and 5 nodes high. The extra '2' argument puts\n",
      "two layers of non-cell elements around the mesh, which help to form a nicer voronoi tesselation\n",
      "for area calculations.\n",
      "\n"
     ]
    },
    {
     "cell_type": "code",
     "collapsed": false,
     "input": [
      "file_handler = chaste.core.OutputFileHandler(\"Python/TestSpheroidTutorial\")\n",
      "generator = chaste.mesh.HoneycombMeshGenerator(5, 5)\n",
      "mesh = generator.GetMesh()"
     ],
     "language": "python",
     "metadata": {},
     "outputs": [],
     "prompt_number": 4
    },
    {
     "cell_type": "markdown",
     "metadata": {},
     "source": [
      "We create some cells next, with a stem-like proliferative type. This means they will continually\n",
      "proliferate if there is enough oxygen, similar to how a tumour spheroid may behave.\n",
      "\n"
     ]
    },
    {
     "cell_type": "code",
     "collapsed": false,
     "input": [
      "cells = chaste.cell_based.VecCellPtr()\n",
      "stem_type = chaste.cell_based.StemCellProliferativeType()\n",
      "cell_generator = chaste.cell_based.CellsGeneratorSimpleOxygenBasedCellCycleModel_2()\n",
      "cell_generator.GenerateBasicRandom(cells, mesh.GetNumNodes(), stem_type)"
     ],
     "language": "python",
     "metadata": {},
     "outputs": [],
     "prompt_number": 5
    },
    {
     "cell_type": "markdown",
     "metadata": {},
     "source": [
      "Define when cells become apoptotic\n",
      "\n"
     ]
    },
    {
     "cell_type": "code",
     "collapsed": false,
     "input": [
      "for eachCell in cells:\n",
      "    cell_cycle_model = eachCell.GetCellCycleModel()\n",
      "    cell_cycle_model.SetDimension(2)\n",
      "    cell_cycle_model.SetStemCellG1Duration(4.0)\n",
      "    cell_cycle_model.SetHypoxicConcentration(0.1)\n",
      "    cell_cycle_model.SetQuiescentConcentration(0.3)\n",
      "    cell_cycle_model.SetCriticalHypoxicDuration(8)\n",
      "    g1_duration = cell_cycle_model.GetStemCellG1Duration()\n",
      "    sg2m_duration = cell_cycle_model.GetSG2MDuration()\n",
      "    rnum = chaste.core.RandomNumberGenerator.Instance().ranf()\n",
      "    birth_time = -rnum * (g1_duration + sg2m_duration)\n",
      "    eachCell.SetBirthTime(birth_time);"
     ],
     "language": "python",
     "metadata": {},
     "outputs": [],
     "prompt_number": 6
    },
    {
     "cell_type": "markdown",
     "metadata": {},
     "source": [
      "Now we have a mesh and a set of cells to go with it, we can create a `CellPopulation` as before.\n",
      "\n"
     ]
    },
    {
     "cell_type": "code",
     "collapsed": false,
     "input": [
      "cell_population = chaste.cell_based.MeshBasedCellPopulation2_2(mesh, cells)"
     ],
     "language": "python",
     "metadata": {},
     "outputs": [],
     "prompt_number": 7
    },
    {
     "cell_type": "markdown",
     "metadata": {},
     "source": [
      "To view the results of this and the next test in Paraview it is necessary to explicitly generate the required .vtu files.\n",
      "\n"
     ]
    },
    {
     "cell_type": "code",
     "collapsed": false,
     "input": [
      "cell_population.AddPopulationWriterVoronoiDataWriter()"
     ],
     "language": "python",
     "metadata": {},
     "outputs": [],
     "prompt_number": 8
    },
    {
     "cell_type": "markdown",
     "metadata": {},
     "source": [
      "We then pass in the cell population into an `OffLatticeSimulation`, and set the output directory and end time.\n",
      "\n"
     ]
    },
    {
     "cell_type": "code",
     "collapsed": false,
     "input": [
      "simulator = chaste.cell_based.OffLatticeSimulation2_2(cell_population)\n",
      "simulator.SetOutputDirectory(\"Python/TestSpheroidTutorial\")\n",
      "simulator.SetEndTime(5.0)"
     ],
     "language": "python",
     "metadata": {},
     "outputs": [],
     "prompt_number": 9
    },
    {
     "cell_type": "markdown",
     "metadata": {},
     "source": [
      "We ask for output every 12 increments\n",
      "\n"
     ]
    },
    {
     "cell_type": "code",
     "collapsed": false,
     "input": [
      "simulator.SetSamplingTimestepMultiple(100)"
     ],
     "language": "python",
     "metadata": {},
     "outputs": [],
     "prompt_number": 10
    },
    {
     "cell_type": "markdown",
     "metadata": {},
     "source": [
      "We define how the springs between cells behave using a force law.\n",
      "\n"
     ]
    },
    {
     "cell_type": "code",
     "collapsed": false,
     "input": [
      "force = chaste.cell_based.GeneralisedLinearSpringForce2_2()\n",
      "simulator.AddForce(force)"
     ],
     "language": "python",
     "metadata": {},
     "outputs": [],
     "prompt_number": 11
    },
    {
     "cell_type": "markdown",
     "metadata": {},
     "source": [
      "We set up a PDE for oxygen diffusion and consumption by cells, setting the rate of consumption to 0.1\n",
      "\n"
     ]
    },
    {
     "cell_type": "code",
     "collapsed": false,
     "input": [
      "pde = chaste.cell_based.CellwiseSourceEllipticPde2(cell_population, -0.5)"
     ],
     "language": "python",
     "metadata": {},
     "outputs": [],
     "prompt_number": 12
    },
    {
     "cell_type": "markdown",
     "metadata": {},
     "source": [
      "We set a constant amount of oxygen on the edge of the spheroid\n",
      "\n"
     ]
    },
    {
     "cell_type": "code",
     "collapsed": false,
     "input": [
      "bc = chaste.pde.ConstBoundaryCondition2(1.0)\n",
      "is_neumann_bc = False"
     ],
     "language": "python",
     "metadata": {},
     "outputs": [],
     "prompt_number": 13
    },
    {
     "cell_type": "markdown",
     "metadata": {},
     "source": [
      "Set up a pde modifier to solve the PDE at each simulation time step\n",
      "\n"
     ]
    },
    {
     "cell_type": "code",
     "collapsed": false,
     "input": [
      "pde_modifier = chaste.cell_based.EllipticGrowingDomainPdeModifier2(pde, bc, is_neumann_bc)\n",
      "pde_modifier.SetDependentVariableName(\"oxygen\")\n",
      "simulator.AddSimulationModifier(pde_modifier)"
     ],
     "language": "python",
     "metadata": {},
     "outputs": [],
     "prompt_number": 15
    },
    {
     "cell_type": "markdown",
     "metadata": {},
     "source": [
      "As before, we set up a scene modifier for real-time visualization\n",
      "\n"
     ]
    },
    {
     "cell_type": "code",
     "collapsed": false,
     "input": [
      "scene = chaste.visualization.VtkScene2()\n",
      "scene.SetCellPopulation(cell_population)\n",
      "scene.GetCellPopulationActorGenerator().SetColorByCellData(True)\n",
      "scene.GetCellPopulationActorGenerator().SetDataLabel(\"oxygen\")\n",
      "scene.GetCellPopulationActorGenerator().SetShowCellCentres(True)\n",
      "scene.GetCellPopulationActorGenerator().SetShowVoronoiMeshEdges(False)\n",
      "nb_manager = chaste.visualization.JupyterNotebookManager()\n",
      "scene_modifier = chaste.visualization.JupyterSceneModifier2(nb_manager)\n",
      "scene_modifier.SetVtkScene(scene)\n",
      "scene_modifier.SetUpdateFrequency(100)\n",
      "simulator.AddSimulationModifier(scene_modifier)"
     ],
     "language": "python",
     "metadata": {},
     "outputs": [],
     "prompt_number": 16
    },
    {
     "cell_type": "markdown",
     "metadata": {},
     "source": [
      "Eventually remove apoptotic cells\n",
      "\n"
     ]
    },
    {
     "cell_type": "code",
     "collapsed": false,
     "input": [
      "killer = chaste.cell_based.ApoptoticCellKiller2(cell_population)\n",
      "simulator.AddCellKiller(killer)"
     ],
     "language": "python",
     "metadata": {},
     "outputs": [],
     "prompt_number": 17
    },
    {
     "cell_type": "markdown",
     "metadata": {},
     "source": [
      "To run the simulation, we call `Solve()`. We can again do a quick rendering of the population at the end of the simulation\n",
      "\n"
     ]
    },
    {
     "cell_type": "code",
     "collapsed": false,
     "input": [
      "scene.Start()\n",
      "simulator.Solve()\n",
      "# Tear down the test \n",
      "chaste.cell_based.TearDownNotebookTest()"
     ],
     "language": "python",
     "metadata": {},
     "outputs": [
      {
       "metadata": {},
       "output_type": "display_data",
       "png": "[encoded data removed]",
       "text": [
        "<IPython.core.display.Image at 0x7f69350c3690>"
       ]
      }
     ],
     "prompt_number": 18
    },
    {
     "cell_type": "markdown",
     "metadata": {},
     "source": [
      "Full results can be visualized in Paraview from the `file_handler.GetOutputDirectoryFullPath()` directory.\n",
      "\n"
     ]
    }
   ],
   "metadata": {}
  }
 ]
}