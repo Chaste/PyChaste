{
 "cells": [
  {
   "cell_type": "markdown",
   "id": "e6433a58",
   "metadata": {},
   "source": [
    "This tutorial is automatically generated from the file ../test/python/cell_based/tutorials/TestTensileTestTutorial.py.\n",
    "\n"
   ]
  },
  {
   "cell_type": "code",
   "execution_count": null,
   "id": "9ab4e1c6",
   "metadata": {},
   "outputs": [],
   "source": [
    "# Jupyter notebook specific imports \n",
    "import matplotlib as mpl \n",
    "from IPython import display \n",
    "%matplotlib inline"
   ]
  },
  {
   "cell_type": "markdown",
   "id": "d641c612",
   "metadata": {},
   "source": [
    "\n",
    "# Introduction\n",
    "In this tutorial we will demonstrate a simulated tensile test on an epithelial sheet. This test\n",
    "demonstrates:\n",
    " * Working with vertex based off lattice populations\n",
    " * Applying boundary conditions\n",
    " * Working with forces\n",
    " \n",
    "## The Test\n",
    "\n"
   ]
  },
  {
   "cell_type": "code",
   "execution_count": null,
   "id": "834d3289",
   "metadata": {},
   "outputs": [],
   "source": [
    "import numpy as np  # Matrix tools\n",
    "import chaste  # The PyChaste module\n",
    "import chaste.mesh  # Contains meshes\n",
    "import chaste.cell_based  # Contains cell populations\n",
    "import chaste.visualization  # Visualization tools\n",
    "chaste.init()  # Set up MPI"
   ]
  },
  {
   "cell_type": "markdown",
   "id": "d4fd421c",
   "metadata": {},
   "source": [
    "## Test 1 - A 2d test\n",
    "\n"
   ]
  },
  {
   "cell_type": "code",
   "execution_count": null,
   "id": "455f45d5",
   "metadata": {},
   "outputs": [],
   "source": [
    "# Set up the test \n",
    "chaste.cell_based.SetupNotebookTest()"
   ]
  },
  {
   "cell_type": "markdown",
   "id": "36903a61",
   "metadata": {},
   "source": [
    "First, we generate a vertex mesh using a HoneycombVertexMeshGenerator.\n",
    "\n"
   ]
  },
  {
   "cell_type": "code",
   "execution_count": null,
   "id": "09185796",
   "metadata": {},
   "outputs": [],
   "source": [
    "generator = chaste.mesh.HoneycombVertexMeshGenerator(5, 15)\n",
    "mesh = generator.GetMesh()"
   ]
  },
  {
   "cell_type": "markdown",
   "id": "4a4d26a0",
   "metadata": {},
   "source": [
    "Now set up the cells, again we want to avoid proliferation.\n",
    "\n"
   ]
  },
  {
   "cell_type": "code",
   "execution_count": null,
   "id": "f9224053",
   "metadata": {},
   "outputs": [],
   "source": [
    "differentiated_type = chaste.cell_based.DifferentiatedCellProliferativeType()\n",
    "cell_generator = chaste.cell_based.CellsGeneratorUniformG1GenerationalCellCycleModel_2()\n",
    "cells = cell_generator.GenerateBasicRandom(mesh.GetNumElements(), differentiated_type)"
   ]
  },
  {
   "cell_type": "markdown",
   "id": "6a9aa058",
   "metadata": {},
   "source": [
    "Next, create the cell population\n",
    "\n"
   ]
  },
  {
   "cell_type": "code",
   "execution_count": null,
   "id": "d2c219b7",
   "metadata": {},
   "outputs": [],
   "source": [
    "cell_population = chaste.cell_based.VertexBasedCellPopulation2(mesh,\n",
    "                                                               cells)"
   ]
  },
  {
   "cell_type": "markdown",
   "id": "4a32a73a",
   "metadata": {},
   "source": [
    "Pass the cell population into an `OffLatticeSimulation`, and set the output directory, output multiple and end time\n",
    "\n"
   ]
  },
  {
   "cell_type": "code",
   "execution_count": null,
   "id": "445e1929",
   "metadata": {},
   "outputs": [],
   "source": [
    "simulator = chaste.cell_based.OffLatticeSimulation2_2(cell_population)\n",
    "simulator.SetOutputDirectory(\"Python/TestTensileTest\")\n",
    "simulator.SetEndTime(1.0)\n",
    "simulator.SetSamplingTimestepMultiple(1000)"
   ]
  },
  {
   "cell_type": "markdown",
   "id": "83eb82a2",
   "metadata": {},
   "source": [
    "Now create a force law\n",
    "\n"
   ]
  },
  {
   "cell_type": "code",
   "execution_count": null,
   "id": "c07b5947",
   "metadata": {},
   "outputs": [],
   "source": [
    "force = chaste.cell_based.NagaiHondaForce2()\n",
    "simulator.AddForce(force)"
   ]
  },
  {
   "cell_type": "markdown",
   "id": "49afd280",
   "metadata": {},
   "source": [
    "A `NagaiHondaForce` assumes that each cell has a target area. The target areas of cells are used to determine\n",
    "pressure forces on each vertex and eventually determine the size of each cell in the simulation.\n",
    "In order to assign target areas to cells and update them in each time step we add a `SimpleTargetAreaModifier`\n",
    "to the simulation, which inherits from `AbstractTargetAreaModifier`.\n",
    "\n"
   ]
  },
  {
   "cell_type": "code",
   "execution_count": null,
   "id": "53c33b3a",
   "metadata": {},
   "outputs": [],
   "source": [
    "growth_modifier = chaste.cell_based.SimpleTargetAreaModifier2()\n",
    "simulator.AddSimulationModifier(growth_modifier)"
   ]
  },
  {
   "cell_type": "markdown",
   "id": "a6cf9ace",
   "metadata": {},
   "source": [
    "For our tensile test we will fix the bottom of the sheet and subject the top to an applied displacement. We neglect\n",
    "fixing lateral degress of freedom for simplicity, since we are using an over-damped mechanical model.\n",
    "\n"
   ]
  },
  {
   "cell_type": "code",
   "execution_count": null,
   "id": "c0a3f892",
   "metadata": {},
   "outputs": [],
   "source": [
    "my_point = np.array([0.0, 0.0])\n",
    "normal = np.array([0.0, -1.0])\n",
    "bc = chaste.cell_based.AttractingPlaneBoundaryCondition2_2(cell_population, my_point, normal)\n",
    "simulator.AddCellPopulationBoundaryCondition(bc)\n",
    "point = np.array([0.0, 15.5])\n",
    "normal = np.array([0.0, -1.0])\n",
    "bc2 = chaste.cell_based.AttractingPlaneBoundaryCondition2_2(cell_population, point, normal)\n",
    "simulator.AddCellPopulationBoundaryCondition(bc2)"
   ]
  },
  {
   "cell_type": "markdown",
   "id": "cb0d486e",
   "metadata": {},
   "source": [
    "We want to displace our top boundary over time. We could write a custom boundary condition class to do this.\n",
    "A more simple alternative is to modify the the position of the point describing our boundary plane in `bc2`\n",
    "as the simulation progresses. As per earlier tutorials we make a new `SimulationModifier` class to do this.\n",
    "\n"
   ]
  },
  {
   "cell_type": "code",
   "execution_count": null,
   "id": "c61730fa",
   "metadata": {},
   "outputs": [],
   "source": [
    "class BoundaryConditionModifier(chaste.cell_based.PythonSimulationModifier2):\n",
    "    \"\"\" Class for time varying boundary conditions\n",
    "    \"\"\"\n",
    "    def __init__(self, boundary_condition):\n",
    "        self.boundary_condition = boundary_condition\n",
    "        self.original_location = boundary_condition.rGetPointOnPlane()\n",
    "        self.velocity = 0.5  # cell lengths per time\n",
    "        super(BoundaryConditionModifier, self).__init__()\n",
    "    def UpdateAtEndOfTimeStep(self, cell_population):\n",
    "        \"\"\" Move the boundary upwards at the specified velocity\n",
    "        \"\"\"\n",
    "        total_time = chaste.cell_based.SimulationTime.Instance().GetTime()\n",
    "        new_location = [self.original_location[0],\n",
    "                        self.original_location[1] + self.velocity*total_time]\n",
    "        self.boundary_condition.SetPointOnPlane(np.array(new_location))\n",
    "    def SetupSolve(self, cell_population, output_directory):\n",
    "        \"\"\" Make sure the cell population is in the correct state at the start of the simulation\n",
    "        \"\"\"\n",
    "        cell_population.Update()\n",
    "bc_modifier = BoundaryConditionModifier(bc2)\n",
    "simulator.AddSimulationModifier(bc_modifier)"
   ]
  },
  {
   "cell_type": "markdown",
   "id": "96a530b6",
   "metadata": {},
   "source": [
    "PyChaste can do simple 3D rendering with VTK. We set up a `VtkScene` so that we can see the population\n",
    "evovle in real time.\n",
    "\n"
   ]
  },
  {
   "cell_type": "code",
   "execution_count": null,
   "id": "59a5df37",
   "metadata": {},
   "outputs": [],
   "source": [
    "scene = chaste.visualization.VtkScene2()\n",
    "scene.SetCellPopulation(cell_population)\n",
    "nb_manager = chaste.visualization.JupyterNotebookManager()\n",
    "scene_modifier = chaste.visualization.JupyterSceneModifier2(nb_manager)\n",
    "scene_modifier.SetVtkScene(scene)\n",
    "scene_modifier.SetUpdateFrequency(1000)\n",
    "simulator.AddSimulationModifier(scene_modifier)"
   ]
  },
  {
   "cell_type": "markdown",
   "id": "727a3df1",
   "metadata": {},
   "source": [
    "To run the simulation, we call `Solve()`.\n",
    "\n"
   ]
  },
  {
   "cell_type": "code",
   "execution_count": null,
   "id": "e99062df",
   "metadata": {},
   "outputs": [],
   "source": [
    "scene.Start()\n",
    "simulator.Solve()\n",
    "# Tear down the test \n",
    "chaste.cell_based.TearDownNotebookTest()"
   ]
  }
 ],
 "metadata": {},
 "nbformat": 4,
 "nbformat_minor": 5
}
